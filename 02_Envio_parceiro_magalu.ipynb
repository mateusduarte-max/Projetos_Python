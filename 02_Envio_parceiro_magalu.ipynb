{
  "nbformat": 4,
  "nbformat_minor": 0,
  "metadata": {
    "colab": {
      "name": "02_Envio_parceiro_magalu.ipynb",
      "provenance": [],
      "collapsed_sections": [],
      "include_colab_link": true
    },
    "kernelspec": {
      "name": "python3",
      "display_name": "Python 3"
    },
    "language_info": {
      "name": "python"
    }
  },
  "cells": [
    {
      "cell_type": "markdown",
      "metadata": {
        "id": "view-in-github",
        "colab_type": "text"
      },
      "source": [
        "<a href=\"https://colab.research.google.com/github/mateusduarte-max/Projetos_Python/blob/main/02_Envio_parceiro_magalu.ipynb\" target=\"_parent\"><img src=\"https://colab.research.google.com/assets/colab-badge.svg\" alt=\"Open In Colab\"/></a>"
      ]
    },
    {
      "cell_type": "code",
      "metadata": {
        "id": "lZYen4yNRGZv",
        "colab": {
          "base_uri": "https://localhost:8080/"
        },
        "outputId": "baa88554-45d8-4f6a-d629-9d91ef9d856b"
      },
      "source": [
        "!pip install workadays # pacote para calculo data prometida e data limite postagem\n",
        "\n",
        "import pandas as pd\n",
        "import re\n",
        "import datetime\n",
        "from workadays import workdays as wd\n",
        "\n",
        "\n",
        "# Bibliotecas Google Golab\n",
        "from google.colab import auth\n",
        "auth.authenticate_user()\n",
        "\n",
        "# Importar biblioteca biqquery\n",
        "from google.cloud import bigquery\n",
        "\n",
        "# Bibliotecas Google Sheet\n",
        "import gspread\n",
        "from oauth2client.client import GoogleCredentials\n",
        "from gspread_dataframe import set_with_dataframe\n",
        "gc = gspread.authorize(GoogleCredentials.get_application_default())\n",
        "\n",
        "# Montar Drive\n",
        "from google.colab import drive\n",
        "drive.mount('/content/drive')\n",
        "\n",
        "# Modulo colab\n",
        "!cp /content/drive/MyDrive/Colab_Notebooks/pacotes_modulos/modulos_colab.py /content\n",
        "\n",
        "\n",
        "# Importar biblioteca biqquery\n",
        "from modulos_colab import consulta_bigquery, grava_tabela_drive, busca_tabela_drive\n",
        "#'maga-bigdata'\n",
        "#'marketplace-analytics-333712'"
      ],
      "execution_count": 1,
      "outputs": [
        {
          "output_type": "stream",
          "name": "stdout",
          "text": [
            "Collecting workadays\n",
            "  Downloading workadays-2021.12.18-py3-none-any.whl (19 kB)\n",
            "Requirement already satisfied: python-dateutil>=2.8.0 in /usr/local/lib/python3.7/dist-packages (from workadays) (2.8.2)\n",
            "Requirement already satisfied: six>=1.11.0 in /usr/local/lib/python3.7/dist-packages (from workadays) (1.15.0)\n",
            "Installing collected packages: workadays\n",
            "Successfully installed workadays-2021.12.18\n",
            "Mounted at /content/drive\n"
          ]
        }
      ]
    },
    {
      "cell_type": "code",
      "source": [
        "df = consulta_bigquery('maga-bigdata', \"\"\"SELECT DISTINCT\n",
        "\n",
        "      DATETIME_ADD(CAST(o.created_at AS DATETIME), INTERVAL -3 HOUR) as data_captado,\n",
        "      concat(\"LU-\",o.order_id) as order_id,\n",
        "      so.sub_order_id , \n",
        "      so.seller_id , \n",
        "      s.description as ultimo_status,\n",
        "      date(f.deadline_date) as data_prometida_entrega,\n",
        "      me.delivery_option_id as opcao_entrega,\n",
        "      case when entrega.data_entrega is null then 'N' else 'S' end as entrega_realizada,\n",
        "      entrega.data_entrega,\n",
        "      IF (((date(f.deadline_date) >= date(entrega.data_entrega))),'S','N') as entrega_no_prazo,\n",
        "      ss.Assistido,\n",
        "      ss.Mundo,\n",
        "      c.status as status_integra,\n",
        "      date(c.shipped_carrier_date) as data_expedicao,\n",
        "      f.deadline_value as dias_prazo,\n",
        "      aprovacao.data_aprovacao\n",
        "\n",
        "    \n",
        "      \n",
        "            FROM maga-bigdata.maestro.order as o\n",
        "            left join maga-bigdata.maestro.sub_order as so on so.order_uuid = o.uuid\n",
        "            left join maga-bigdata.maestro.sales_channel as sc on o.sales_channel_id = sc.id\n",
        "            left join maga-bigdata.maestro.customer as cus on o.customer_uuid = cus.uuid\n",
        "            left join maga-bigdata.maestro.status as s on so.current_status_id = s.id\n",
        "            left join maga-bigdata.maestro.shipping f ON so.uuid = f.sub_order_uuid\n",
        "            left join maga-bigdata.magaluentregas.shipping as me on me.order_id = o.order_id and so.seller_id = me.seller\n",
        "            left join maga-bigdata.bi_adm.tb_safra_seller as ss on ss.Seller_MarketPlace_ID = so.seller_id\n",
        "            left join maga-bigdata.integra.order as a on a.idsite = o.basket_id\n",
        "            left join maga-bigdata.integra.business b on a.business_id = b.id and so.seller_id = b.SellerIdOpenApi\n",
        "            left join maga-bigdata.integra.order_status c ON a.id = c.order_id_fk and c.Business_Id = b.id\n",
        "            left join (SELECT cast(datetime_add(cast(min(date) AS datetime), interval -3 hour)as date) as data_entrega, sub_order_uuid\n",
        "                FROM `maga-bigdata.maestro.event`\n",
        "                where status_id  in (10,21)\n",
        "                group by sub_order_uuid) as entrega on so.uuid = entrega.sub_order_uuid\n",
        "            left join (SELECT cast(datetime_add(cast(min(date) AS datetime), interval -3 hour)as date) as data_aprovacao, sub_order_uuid\n",
        "                FROM `maga-bigdata.maestro.event`\n",
        "                where status_id  IN (2, 143, 142, 144, 148)\n",
        "                group by sub_order_uuid) as aprovacao on so.uuid = aprovacao.sub_order_uuid\n",
        "\n",
        "\n",
        "            where sc.organization_uuid = '4da25f48-4193-45de-b4ed-9b8c93b7f987'\n",
        "                  and if(lower(cus.email) like '%@c2f.com%',0,1) = 1\n",
        "                  and if(cus.email = 'treinamento@luizalabs.com',0,1) = 1\n",
        "                  and cast(DATETIME_ADD(CAST(o.created_at AS DATETIME), INTERVAL -3 HOUR) as date) between '2021-12-01' and current_date()\n",
        "                  --and EXTRACT(YEAR FROM date(o.created_at)) = 2022\n",
        "                  --and EXTRACT(MONTH FROM date(o.created_at)) = 01\n",
        "                  --and date(f.deadline_date) is null\n",
        "                  and if(o.order_id = me.order_id,0,1) = 1\n",
        "                  and so.seller_id <> 'magazineluiza'\n",
        "                  --and so.seller_id = 'sostudo' \n",
        "                  --and s.description = 'Entregue'\n",
        "                  --and o.order_id = '1112370509565158'\n",
        "                  and s.description not in ('Cancelado', 'Cancelado por dados não confirmados', 'Cancelado Confirmada')\n",
        "                  --and if(s.description = 'Cancelado',0,1) = 1\n",
        "                  and c.status not in ('CANCELED')\"\"\")"
      ],
      "metadata": {
        "id": "z9Vws8tP4cg5"
      },
      "execution_count": null,
      "outputs": []
    },
    {
      "cell_type": "code",
      "source": [
        "# Pedidos sem data de aprovação\n",
        "pedidos_dataAprovacao_embranco = df.query('data_aprovacao==\"\" & data_captado>=\"2022-01-01\"')\n",
        "#pedidos_dataAprovacao_embranco['order_id'].count()\n",
        "# Gravar pedidos na tabela (Drive)\n",
        "grava_tabela_drive('Pedidos_análise', pedidos_dataAprovacao_embranco)"
      ],
      "metadata": {
        "id": "y7whNkOpgfPo"
      },
      "execution_count": null,
      "outputs": []
    },
    {
      "cell_type": "code",
      "source": [
        "# Ajuste na base\n",
        "df['dias_prazo'] = df['dias_prazo'].replace('',0)\n",
        "df['dias_prazo'] = df['dias_prazo'].astype(int)\n",
        "df['data_prometida_entrega'] = df['data_prometida_entrega'].astype(object)\n",
        "df['data_prometida_entrega'] = pd.to_datetime(df['data_prometida_entrega'])\n",
        "df['mes_data_prometida_entrega'] = df['data_prometida_entrega'].dt.month\n",
        "df['ano_data_prometida_entrega'] = df['data_prometida_entrega'].dt.year\n",
        "\n",
        "df['data_aprovacao'] = df['data_aprovacao'].astype(object)\n",
        "df['data_aprovacao'] = pd.to_datetime(df['data_aprovacao'])\n",
        "\n",
        "base_2 = df.query(\"data_aprovacao!=''\")\n",
        "\n",
        "# Data Prometida v2\n",
        "def data_prometida(base_2):\n",
        "  if base_2['data_prometida_entrega'] ==\"\":\n",
        "    return wd.workdays(base_2['data_aprovacao'], base_2['dias_prazo'], country=None)\n",
        "  else:\n",
        "    return base_2['data_prometida_entrega']\n",
        "  \n",
        "# Criar coluna data prometida v2 , mês e ano\n",
        "base_2['DATA_PROMETIDA_v2'] = base_2.apply(data_prometida, axis=1)\n",
        "base_2['mes_data_prometida_v2'] = base_2['DATA_PROMETIDA_v2'].dt.month\n",
        "base_2['ano_data_prometida_v2'] = base_2['DATA_PROMETIDA_v2'].dt.year\n",
        "\n",
        "# Filtro meses\n",
        "janeiro_2022 = base_2.query('ano_data_prometida_v2==2022 & mes_data_prometida_v2==1')\n",
        "fevereiro_2022 = base_2.query('ano_data_prometida_v2==2022 & mes_data_prometida_v2==2')\n",
        "# Contar pedidos fevereiro\n",
        "fevereiro_2022['order_id'].count()\n",
        "# Exportar para tabela BigQuery\n",
        "fevereiro_2022.to_gbq(destination_table='marketplace_analytics.envio_parceiro_magalu_fevereiro2022_novo',project_id='maga-bigdata', if_exists='replace')\n",
        "print(\"Tabela atualizada!\")"
      ],
      "metadata": {
        "id": "I-JovNXT-YWe"
      },
      "execution_count": null,
      "outputs": []
    },
    {
      "cell_type": "code",
      "source": [
        "fevereiro_2022['order_id'].count()"
      ],
      "metadata": {
        "id": "6Kk24szbdD2v"
      },
      "execution_count": null,
      "outputs": []
    },
    {
      "cell_type": "code",
      "metadata": {
        "id": "uBZ3qOfh0ndf"
      },
      "source": [
        "janeiro_2022['order_id'].count()"
      ],
      "execution_count": null,
      "outputs": []
    },
    {
      "cell_type": "code",
      "source": [
        ""
      ],
      "metadata": {
        "id": "l933rr2lNMew"
      },
      "execution_count": null,
      "outputs": []
    }
  ]
}