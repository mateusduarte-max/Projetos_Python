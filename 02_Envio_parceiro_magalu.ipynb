{
  "nbformat": 4,
  "nbformat_minor": 0,
  "metadata": {
    "colab": {
      "name": "02_Envio_parceiro_magalu.ipynb",
      "provenance": [],
      "collapsed_sections": [],
      "include_colab_link": true
    },
    "kernelspec": {
      "name": "python3",
      "display_name": "Python 3"
    },
    "language_info": {
      "name": "python"
    }
  },
  "cells": [
    {
      "cell_type": "markdown",
      "metadata": {
        "id": "view-in-github",
        "colab_type": "text"
      },
      "source": [
        "<a href=\"https://colab.research.google.com/github/mateusduarte-max/Projetos_Python/blob/main/02_Envio_parceiro_magalu.ipynb\" target=\"_parent\"><img src=\"https://colab.research.google.com/assets/colab-badge.svg\" alt=\"Open In Colab\"/></a>"
      ]
    },
    {
      "cell_type": "code",
      "metadata": {
        "id": "lZYen4yNRGZv",
        "colab": {
          "base_uri": "https://localhost:8080/"
        },
        "outputId": "7b995bad-f818-4b23-d40f-662b66afec39"
      },
      "source": [
        "!pip install workadays # pacote para calculo data prometida e data limite postagem\n",
        "import pandas as pd\n",
        "import re\n",
        "import datetime\n",
        "from workadays import workdays as wd\n",
        "# Bibliotecas Google Golab\n",
        "from google.colab import auth\n",
        "auth.authenticate_user()\n",
        "# Importar biblioteca biqquery\n",
        "from google.cloud import bigquery\n",
        "# Bibliotecas Google Sheet\n",
        "import gspread\n",
        "from google.auth import default\n",
        "creds, _ = default()\n",
        "gc = gspread.authorize(creds)\n",
        "from gspread_dataframe import set_with_dataframe\n",
        "# Montar Drive\n",
        "from google.colab import drive\n",
        "drive.mount('/content/drive')\n",
        "# Modulos \n",
        "!cp /content/drive/MyDrive/Colab_Notebooks/pacotes_modulos/modulos_colab.py /content\n",
        "!cp /content/drive/MyDrive/Colab_Notebooks/Autenticacoes/chaves_tokens.py /content\n",
        "%run chaves_tokens.py\n",
        "# Importar biblioteca biqquery\n",
        "from modulos_colab import dados"
      ],
      "execution_count": null,
      "outputs": [
        {
          "output_type": "stream",
          "name": "stdout",
          "text": [
            "Looking in indexes: https://pypi.org/simple, https://us-python.pkg.dev/colab-wheels/public/simple/\n",
            "Collecting workadays\n",
            "  Downloading workadays-2021.12.18-py3-none-any.whl (19 kB)\n",
            "Requirement already satisfied: six>=1.11.0 in /usr/local/lib/python3.7/dist-packages (from workadays) (1.15.0)\n",
            "Requirement already satisfied: python-dateutil>=2.8.0 in /usr/local/lib/python3.7/dist-packages (from workadays) (2.8.2)\n",
            "Installing collected packages: workadays\n",
            "Successfully installed workadays-2021.12.18\n",
            "Mounted at /content/drive\n"
          ]
        }
      ]
    },
    {
      "cell_type": "code",
      "source": [
        "# Envio Parceiro Atual\n",
        "df = dados.consulta_bigquery( projeto_gcp_1, \"\"\"SELECT DISTINCT\n",
        "\n",
        "                                                        DATETIME_ADD(CAST(o.created_at AS DATETIME), INTERVAL -3 HOUR) as data_captado,\n",
        "                                                        concat(\"LU-\",o.order_id) as order_id,\n",
        "                                                        so.sub_order_id , \n",
        "                                                        so.seller_id , \n",
        "                                                        s.description as ultimo_status,\n",
        "                                                        date(f.deadline_date) as data_prometida_entrega,\n",
        "                                                        me.ShippingId as opcao_entrega,\n",
        "                                                        case when entrega.data_entrega is null then 'N' else 'S' end as entrega_realizada,\n",
        "                                                        entrega.data_entrega,\n",
        "                                                        IF (((date(f.deadline_date) >= date(entrega.data_entrega))),'S','N') as entrega_no_prazo,\n",
        "                                                        ss.Assistido,\n",
        "                                                        ss.Mundo,\n",
        "                                                        c.status as status_integra,\n",
        "                                                        date(c.shipped_carrier_date) as data_expedicao\n",
        "                                                                                             \n",
        "                                                                                                            \n",
        "                                                                FROM maga-bigdata.maestro.order as o\n",
        "                                                                left join maga-bigdata.maestro.sub_order as so on so.order_uuid = o.uuid\n",
        "                                                                left join maga-bigdata.maestro.sales_channel as sc on o.sales_channel_id = sc.id\n",
        "                                                                left join maga-bigdata.maestro.customer as cus on o.customer_uuid = cus.uuid\n",
        "                                                                left join maga-bigdata.maestro.status as s on so.current_status_id = s.id\n",
        "                                                                left join maga-bigdata.maestro.shipping f ON so.uuid = f.sub_order_uuid\n",
        "                                                                --left join maga-bigdata.magaluentregas.shipping as me on me.order_id = o.order_id and so.seller_id = me.seller\n",
        "                                                                left join maga-bigdata.bi_adm.tb_safra_seller as ss on ss.Seller_MarketPlace_ID = so.seller_id\n",
        "                                                                left join maga-bigdata.integra.order as a on a.idsite = o.basket_id\n",
        "                                                                left join maga-bigdata.integra.order_package as me on me.OrderId = a.id\n",
        "                                                                left join maga-bigdata.integra.business b on a.business_id = b.id and so.seller_id = b.SellerIdOpenApi\n",
        "                                                                left join maga-bigdata.integra.order_status c ON a.id = c.order_id_fk and c.Business_Id = b.id\n",
        "                                                                left join (SELECT cast(datetime_add(cast(min(date) AS datetime), interval -3 hour)as date) as data_entrega, sub_order_uuid\n",
        "                                                                    FROM `maga-bigdata.maestro.event`\n",
        "                                                                    where status_id  in (10,21)\n",
        "                                                                    group by sub_order_uuid) as entrega on so.uuid = entrega.sub_order_uuid\n",
        "\n",
        "\n",
        "                                                                where sc.organization_uuid = '4da25f48-4193-45de-b4ed-9b8c93b7f987'\n",
        "                                                                    and if(lower(cus.email) like '%@c2f.com%',0,1) = 1\n",
        "                                                                    and if(cus.email = 'treinamento@luizalabs.com',0,1) = 1\n",
        "                                                                    --and DATETIME_ADD(CAST(f.deadline_date AS DATETIME), INTERVAL -3 HOUR) between '2022-04-01' and current_date()\n",
        "                                                                    and EXTRACT(YEAR FROM date(f.deadline_date)) = 2022\n",
        "                                                                    and EXTRACT(MONTH FROM date(f.deadline_date)) = 06\n",
        "                                                                    and date(f.deadline_date) <= current_date()\n",
        "                                                                    --and if(o.order_id = me.OrderId,0,1) = 0\n",
        "                                                                    and me.TransporterId  is  null\n",
        "                                                                    and so.seller_id <> 'magazineluiza'\n",
        "                                                                    --and so.seller_id = 'sostudo' \n",
        "                                                                    --and s.description = 'Entregue'\n",
        "                                                                    --and o.order_id = '1054770379408753'\n",
        "                                                                    and if(s.description = 'Cancelado',0,1) = 1\n",
        "                                                                    and c.status not in ('CANCELED')\"\"\")\n",
        "\n",
        "# Ingestão BigQuery\n",
        "df.to_gbq(destination_table='marketplace_analytics.envio_parceiro_magalu_junho2022',project_id=projeto_gcp_1, if_exists='replace')"
      ],
      "metadata": {
        "id": "HuurJS6bnGQf",
        "colab": {
          "base_uri": "https://localhost:8080/"
        },
        "outputId": "1196eebb-3e4c-435a-ed2a-8d2ad3cb1ed7"
      },
      "execution_count": null,
      "outputs": [
        {
          "output_type": "stream",
          "name": "stderr",
          "text": [
            "1it [00:27, 27.92s/it]\n"
          ]
        }
      ]
    },
    {
      "cell_type": "code",
      "source": [
        "print('Envio parceiro magalu atualizado!')"
      ],
      "metadata": {
        "id": "lWU1MooD-N2Y"
      },
      "execution_count": null,
      "outputs": []
    }
  ]
}