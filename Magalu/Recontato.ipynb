{
  "nbformat": 4,
  "nbformat_minor": 0,
  "metadata": {
    "colab": {
      "name": "Recontato.ipynb",
      "provenance": [],
      "authorship_tag": "ABX9TyPTFqzfOgvl5VAcsYaZcBFX",
      "include_colab_link": true
    },
    "kernelspec": {
      "name": "python3",
      "display_name": "Python 3"
    },
    "language_info": {
      "name": "python"
    }
  },
  "cells": [
    {
      "cell_type": "markdown",
      "metadata": {
        "id": "view-in-github",
        "colab_type": "text"
      },
      "source": [
        "<a href=\"https://colab.research.google.com/github/mateusduarte-max/Projetos_Python/blob/main/Recontato.ipynb\" target=\"_parent\"><img src=\"https://colab.research.google.com/assets/colab-badge.svg\" alt=\"Open In Colab\"/></a>"
      ]
    },
    {
      "cell_type": "code",
      "metadata": {
        "colab": {
          "base_uri": "https://localhost:8080/"
        },
        "id": "U-24M0-Ugbo9",
        "outputId": "ec2c05f5-c0d7-472a-e049-2eb9c1f33f49"
      },
      "source": [
        "# Autenticação google\n",
        "from google.colab import auth\n",
        "auth.authenticate_user()\n",
        "print('Autenticado')\n",
        "\n",
        "# Importar biblioteca biqquery\n",
        "from google.cloud import bigquery\n",
        "\n",
        "import datetime as dt\n",
        "import pandas as pd\n"
      ],
      "execution_count": null,
      "outputs": [
        {
          "output_type": "stream",
          "text": [
            "Autenticado\n"
          ],
          "name": "stdout"
        }
      ]
    },
    {
      "cell_type": "code",
      "metadata": {
        "id": "7UiklnjM76ae"
      },
      "source": [
        "# projeto\n",
        "maga_bigdata = 'maga-bigdata'\n",
        "#autenticação e select\n",
        "client = bigquery.Client(project=maga_bigdata)\n",
        "sql = \"\"\"with cte as ( -- sem duplicidade de id\n",
        "        select    id_chamada, data_hora_chamada ,grupo_de_trabalho,nome_do_agente , numero_do_pedido , status_do_pedido,\n",
        "                  `maga-bigdata.sac.fn_validador_cpf_cnpj`(safe_cast(`maga-bigdata.sac.fn_replace_caracteres`(cpf_ou_cnpj_do_cliente) as int64)) as cpf_cnpj_string              \n",
        "              from `maga-bigdata.sac.call_detail_hist_union`\n",
        "              where grupo_de_trabalho in ('QuerodeCasamento','Market Place','Hibrido','Entrega Prazo 3P','Entrega Prazo 1P','Posvendas','Liberacao','Recontato','Recontato 1P','Recontato 3P','Recontato Liberacao')\n",
        "                  and if(chamada_saida_entrada = 'Manual',0,1) = 1\n",
        "                   and  `maga-bigdata.sac.fn_validador_cpf_cnpj`(safe_cast(`maga-bigdata.sac.fn_replace_caracteres`(cpf_ou_cnpj_do_cliente) as int64)) is not null\n",
        "                           \n",
        "),\n",
        "\n",
        "-- base com row_number primeira chamada atendida por um agente\n",
        "primeira_chamada_agente as ( select   id_chamada as id_chamada_1, data_hora_chamada as data_hora_chamada_1 ,\n",
        "                                      grupo_de_trabalho as grupo_de_trabalho_1 ,nome_do_agente as nome_do_agente_1,\n",
        "                                      cpf_cnpj_string as cpf_cnpj_string_1,numero_do_pedido as numero_do_pedido_1, status_do_pedido as status_do_pedido_1,\n",
        "                                    row_number() over(partition by cast(data_hora_chamada as date),cpf_cnpj_string  order by data_hora_chamada asc) as contato_1\n",
        "                             from cte\n",
        "                             where nome_do_agente is not null and nome_do_agente not in ('-')\n",
        "                                   ),\n",
        "\n",
        "-- base populada com  recontato após o atendimento com o agente\n",
        "base_1 as   (                          \n",
        "              select a.*,\n",
        "             \n",
        "              b.id_chamada as id_chamada_2, b.data_hora_chamada as data_hora_chamada_2,\n",
        "              b.grupo_de_trabalho as grupo_de_trabalho_2,b.nome_do_agente as nome_do_agente_2, b.cpf_cnpj_string as cpf_cnpj_string_2,\n",
        "              b.numero_do_pedido as numero_do_pedido_2, b.status_do_pedido as status_do_pedido_2,\n",
        "              row_number() over(partition by a.id_chamada_1 order by b.data_hora_chamada asc) as primeiro_contato_depois_2        \n",
        "             \n",
        "              from primeira_chamada_agente as a\n",
        "              left join cte as b on a.cpf_cnpj_string_1 = b.cpf_cnpj_string\n",
        "                                                  and cast(a.data_hora_chamada_1 as date) = cast(b.data_hora_chamada as date)\n",
        "                                                  and b.data_hora_chamada > a.data_hora_chamada_1\n",
        "              where a.contato_1  =  1\n",
        "            ),\n",
        "\n",
        "\n",
        "-- base seleciona apenas o primeiro recontato após a chamada do agente\n",
        "base_analitica as (\n",
        "\n",
        "                    select a.*,\n",
        "                                count(b.id_chamada) as qtd_apos_2,\n",
        "                                sum(case when b.nome_do_agente is null and b.id_chamada is not null  then 1 when b.nome_do_agente = '-' and  b.id_chamada is not null then 1 else 0 end) as sum_nao_agent_2,\n",
        "                                sum(case when b.nome_do_agente is not null and b.nome_do_agente <> '-' then 1 else 0 end) as sum_agente_2\n",
        "                   \n",
        "                    from base_1 as a\n",
        "                    left join cte as b on a.cpf_cnpj_string_2 = b.cpf_cnpj_string\n",
        "                                                                      and cast(a.data_hora_chamada_2 as date) = cast(b.data_hora_chamada as date)\n",
        "                                                                      and b.data_hora_chamada > a.data_hora_chamada_2\n",
        "                   \n",
        "                    where primeiro_contato_depois_2 = 1\n",
        "                   \n",
        "                    group by id_chamada_1, data_hora_chamada_1, grupo_de_trabalho_1 ,numero_do_pedido_1, status_do_pedido_1,\n",
        "                    nome_do_agente_1 ,cpf_cnpj_string_1 ,contato_1 ,id_chamada_2 ,\n",
        "                    data_hora_chamada_2, grupo_de_trabalho_2, nome_do_agente_2 ,cpf_cnpj_string_2,\n",
        "                    numero_do_pedido_2, status_do_pedido_2,\n",
        "                    primeiro_contato_depois_2\n",
        ")\n",
        "\n",
        "\n",
        "\n",
        "-- select base analitica\n",
        "select * from base_analitica as a\n",
        "where cast(a.data_hora_chamada_1 as date) between '2021-05-16' and '2021-05-17'\"\"\"\n",
        "\n",
        "# Select salvo na variavel\n",
        "base_recontato = client.query(sql).to_dataframe()"
      ],
      "execution_count": null,
      "outputs": []
    },
    {
      "cell_type": "code",
      "metadata": {
        "colab": {
          "base_uri": "https://localhost:8080/",
          "height": 111
        },
        "id": "ML8T7eK-hxk5",
        "outputId": "fa7ea48d-ba8c-4d89-8df5-7c48b14b19ca"
      },
      "source": [
        "base_recontato_v1 = base_recontato[['data_hora_chamada_1', 'id_chamada_1', 'id_chamada_2', 'qtd_apos_2', 'grupo_de_trabalho_2']].fillna('')\n",
        "base_recontato_v1['Data']  = pd.to_datetime(base_recontato_v1['data_hora_chamada_1'], dayfirst=True)\n",
        "base_recontato_v1['Data'] = base_recontato_v1['Data'].dt.strftime('%Y-%m-%d')\n",
        "\n",
        "\n",
        "def condicao_mais_que_3(base_recontato_v1):                                  \n",
        "    if base_recontato_v1['qtd_apos_2'] == 0:\n",
        "        return 0 \n",
        "    else:\n",
        "        return 1\n",
        "\n",
        "def condicao_id_chamada_2(base_recontato_v1):                                  \n",
        "    if base_recontato_v1['id_chamada_2'] == '':\n",
        "        return 0 \n",
        "    else:\n",
        "        return 1\n",
        "\n",
        "\n",
        "def condicao_recontato(base_recontato_v1):\n",
        "    if (\"Recontato\" in base_recontato_v1):\n",
        "        return 'Recontato' \n",
        "    elif (\"Recontato 1P\" in base_recontato_v1):\n",
        "        return 'Recontato'\n",
        "    elif (\"Recontato 3P\" in base_recontato_v1):\n",
        "        return 'Recontato'\n",
        "    elif (\"Recontato Liberacao\" in base_recontato_v1):\n",
        "        return 'Recontato'\n",
        "    else:\n",
        "      return 'Não Recontato'\n",
        "\n",
        "                    \n",
        "  \n",
        "\n",
        "base_recontato_v1['Mais_de_3'] = base_recontato_v1.apply(condicao_mais_que_3, axis=1)\n",
        "base_recontato_v1['id_chamada_2_v2'] = base_recontato_v1.apply(condicao_id_chamada_2, axis=1)\n",
        "base_recontato_v1['Status_Recontato'] = base_recontato_v1['grupo_de_trabalho_2'].apply(lambda x: condicao_recontato(x))\n",
        "\n",
        "dinamica_v1 = pd.pivot_table(base_recontato_v1, values=['id_chamada_1', 'id_chamada_2_v2', 'qtd_apos_2', 'Mais_de_3'], index=['Data'], aggfunc={'id_chamada_1':'count',\n",
        "                                                                                                                                                'id_chamada_2_v2':'sum',\n",
        "                                                                                                                                                'qtd_apos_2':'sum',\n",
        "                                                                                                                                                'Mais_de_3':'sum'})\n",
        "dinamica_v1.head()"
      ],
      "execution_count": null,
      "outputs": [
        {
          "output_type": "execute_result",
          "data": {
            "text/html": [
              "<div>\n",
              "<style scoped>\n",
              "    .dataframe tbody tr th:only-of-type {\n",
              "        vertical-align: middle;\n",
              "    }\n",
              "\n",
              "    .dataframe tbody tr th {\n",
              "        vertical-align: top;\n",
              "    }\n",
              "\n",
              "    .dataframe thead th {\n",
              "        text-align: right;\n",
              "    }\n",
              "</style>\n",
              "<table border=\"1\" class=\"dataframe\">\n",
              "  <thead>\n",
              "    <tr style=\"text-align: right;\">\n",
              "      <th></th>\n",
              "      <th>Mais_de_3</th>\n",
              "      <th>id_chamada_1</th>\n",
              "      <th>id_chamada_2_v2</th>\n",
              "      <th>qtd_apos_2</th>\n",
              "    </tr>\n",
              "    <tr>\n",
              "      <th>Data</th>\n",
              "      <th></th>\n",
              "      <th></th>\n",
              "      <th></th>\n",
              "      <th></th>\n",
              "    </tr>\n",
              "  </thead>\n",
              "  <tbody>\n",
              "    <tr>\n",
              "      <th>2021-05-17</th>\n",
              "      <td>473</td>\n",
              "      <td>19328</td>\n",
              "      <td>2419</td>\n",
              "      <td>664</td>\n",
              "    </tr>\n",
              "  </tbody>\n",
              "</table>\n",
              "</div>"
            ],
            "text/plain": [
              "            Mais_de_3  id_chamada_1  id_chamada_2_v2  qtd_apos_2\n",
              "Data                                                            \n",
              "2021-05-17        473         19328             2419         664"
            ]
          },
          "metadata": {
            "tags": []
          },
          "execution_count": 144
        }
      ]
    },
    {
      "cell_type": "code",
      "metadata": {
        "id": "fPinwyswjL27",
        "colab": {
          "base_uri": "https://localhost:8080/",
          "height": 142
        },
        "outputId": "182457b3-10ba-4c72-ca33-f5467654b9d4"
      },
      "source": [
        "dinamica_v2 = pd.pivot_table(base_recontato_v1, values=['qtd_apos_2'], index=['Data'],columns=['Status_Recontato'], aggfunc={'qtd_apos_2':'sum'})\n",
        "dinamica_v2.head()"
      ],
      "execution_count": null,
      "outputs": [
        {
          "output_type": "execute_result",
          "data": {
            "text/html": [
              "<div>\n",
              "<style scoped>\n",
              "    .dataframe tbody tr th:only-of-type {\n",
              "        vertical-align: middle;\n",
              "    }\n",
              "\n",
              "    .dataframe tbody tr th {\n",
              "        vertical-align: top;\n",
              "    }\n",
              "\n",
              "    .dataframe thead tr th {\n",
              "        text-align: left;\n",
              "    }\n",
              "\n",
              "    .dataframe thead tr:last-of-type th {\n",
              "        text-align: right;\n",
              "    }\n",
              "</style>\n",
              "<table border=\"1\" class=\"dataframe\">\n",
              "  <thead>\n",
              "    <tr>\n",
              "      <th></th>\n",
              "      <th colspan=\"2\" halign=\"left\">qtd_apos_2</th>\n",
              "    </tr>\n",
              "    <tr>\n",
              "      <th>Status_Recontato</th>\n",
              "      <th>Não Recontato</th>\n",
              "      <th>Recontato</th>\n",
              "    </tr>\n",
              "    <tr>\n",
              "      <th>Data</th>\n",
              "      <th></th>\n",
              "      <th></th>\n",
              "    </tr>\n",
              "  </thead>\n",
              "  <tbody>\n",
              "    <tr>\n",
              "      <th>2021-05-17</th>\n",
              "      <td>362</td>\n",
              "      <td>302</td>\n",
              "    </tr>\n",
              "  </tbody>\n",
              "</table>\n",
              "</div>"
            ],
            "text/plain": [
              "                    qtd_apos_2          \n",
              "Status_Recontato Não Recontato Recontato\n",
              "Data                                    \n",
              "2021-05-17                 362       302"
            ]
          },
          "metadata": {
            "tags": []
          },
          "execution_count": 145
        }
      ]
    },
    {
      "cell_type": "code",
      "metadata": {
        "colab": {
          "base_uri": "https://localhost:8080/",
          "height": 142
        },
        "id": "Kfcuu67ah8cr",
        "outputId": "604a7e64-ceec-49e2-8b3e-076836dfee2e"
      },
      "source": [
        "base_recontato = base_recontato_v1.query('Status_Recontato==\"Recontato\"')\n",
        "dinamica_v3 = pd.pivot_table(base_recontato, values=['Mais_de_3'], index=['Data'],columns=['grupo_de_trabalho_2'], aggfunc={'Mais_de_3':'sum'})\n",
        "dinamica_v3.head()"
      ],
      "execution_count": null,
      "outputs": [
        {
          "output_type": "execute_result",
          "data": {
            "text/html": [
              "<div>\n",
              "<style scoped>\n",
              "    .dataframe tbody tr th:only-of-type {\n",
              "        vertical-align: middle;\n",
              "    }\n",
              "\n",
              "    .dataframe tbody tr th {\n",
              "        vertical-align: top;\n",
              "    }\n",
              "\n",
              "    .dataframe thead tr th {\n",
              "        text-align: left;\n",
              "    }\n",
              "\n",
              "    .dataframe thead tr:last-of-type th {\n",
              "        text-align: right;\n",
              "    }\n",
              "</style>\n",
              "<table border=\"1\" class=\"dataframe\">\n",
              "  <thead>\n",
              "    <tr>\n",
              "      <th></th>\n",
              "      <th colspan=\"4\" halign=\"left\">Mais_de_3</th>\n",
              "    </tr>\n",
              "    <tr>\n",
              "      <th>grupo_de_trabalho_2</th>\n",
              "      <th>Recontato</th>\n",
              "      <th>Recontato 1P</th>\n",
              "      <th>Recontato 3P</th>\n",
              "      <th>Recontato Liberacao</th>\n",
              "    </tr>\n",
              "    <tr>\n",
              "      <th>Data</th>\n",
              "      <th></th>\n",
              "      <th></th>\n",
              "      <th></th>\n",
              "      <th></th>\n",
              "    </tr>\n",
              "  </thead>\n",
              "  <tbody>\n",
              "    <tr>\n",
              "      <th>2021-05-17</th>\n",
              "      <td>13</td>\n",
              "      <td>114</td>\n",
              "      <td>43</td>\n",
              "      <td>43</td>\n",
              "    </tr>\n",
              "  </tbody>\n",
              "</table>\n",
              "</div>"
            ],
            "text/plain": [
              "                    Mais_de_3                                              \n",
              "grupo_de_trabalho_2 Recontato Recontato 1P Recontato 3P Recontato Liberacao\n",
              "Data                                                                       \n",
              "2021-05-17                 13          114           43                  43"
            ]
          },
          "metadata": {
            "tags": []
          },
          "execution_count": 146
        }
      ]
    },
    {
      "cell_type": "code",
      "metadata": {
        "colab": {
          "base_uri": "https://localhost:8080/",
          "height": 142
        },
        "id": "UB7F3F68lZWA",
        "outputId": "a97b140b-6f06-481d-9807-7cee3c2955af"
      },
      "source": [
        "base_recontato = base_recontato_v1.query('Status_Recontato==\"Recontato\"')\n",
        "dinamica_v3 = pd.pivot_table(base_recontato, values=['Status_Recontato'], index=['Data'],columns='grupo_de_trabalho_2', aggfunc={'Status_Recontato':'count'})\n",
        "dinamica_v3.head()"
      ],
      "execution_count": null,
      "outputs": [
        {
          "output_type": "execute_result",
          "data": {
            "text/html": [
              "<div>\n",
              "<style scoped>\n",
              "    .dataframe tbody tr th:only-of-type {\n",
              "        vertical-align: middle;\n",
              "    }\n",
              "\n",
              "    .dataframe tbody tr th {\n",
              "        vertical-align: top;\n",
              "    }\n",
              "\n",
              "    .dataframe thead tr th {\n",
              "        text-align: left;\n",
              "    }\n",
              "\n",
              "    .dataframe thead tr:last-of-type th {\n",
              "        text-align: right;\n",
              "    }\n",
              "</style>\n",
              "<table border=\"1\" class=\"dataframe\">\n",
              "  <thead>\n",
              "    <tr>\n",
              "      <th></th>\n",
              "      <th colspan=\"4\" halign=\"left\">Status_Recontato</th>\n",
              "    </tr>\n",
              "    <tr>\n",
              "      <th>grupo_de_trabalho_2</th>\n",
              "      <th>Recontato</th>\n",
              "      <th>Recontato 1P</th>\n",
              "      <th>Recontato 3P</th>\n",
              "      <th>Recontato Liberacao</th>\n",
              "    </tr>\n",
              "    <tr>\n",
              "      <th>Data</th>\n",
              "      <th></th>\n",
              "      <th></th>\n",
              "      <th></th>\n",
              "      <th></th>\n",
              "    </tr>\n",
              "  </thead>\n",
              "  <tbody>\n",
              "    <tr>\n",
              "      <th>2021-05-17</th>\n",
              "      <td>29</td>\n",
              "      <td>537</td>\n",
              "      <td>262</td>\n",
              "      <td>244</td>\n",
              "    </tr>\n",
              "  </tbody>\n",
              "</table>\n",
              "</div>"
            ],
            "text/plain": [
              "                    Status_Recontato  ...                    \n",
              "grupo_de_trabalho_2        Recontato  ... Recontato Liberacao\n",
              "Data                                  ...                    \n",
              "2021-05-17                        29  ...                 244\n",
              "\n",
              "[1 rows x 4 columns]"
            ]
          },
          "metadata": {
            "tags": []
          },
          "execution_count": 147
        }
      ]
    },
    {
      "cell_type": "code",
      "metadata": {
        "colab": {
          "base_uri": "https://localhost:8080/",
          "height": 142
        },
        "id": "vnPDvYCS5gO7",
        "outputId": "ef0c3a76-70bd-47fb-dfb8-00214c7f3777"
      },
      "source": [
        "base_recontato = base_recontato_v1.query('Status_Recontato==\"Recontato\"')\n",
        "dinamica_v4 = pd.pivot_table(base_recontato, values=['qtd_apos_2'], index=['Data'],columns='grupo_de_trabalho_2', aggfunc={'qtd_apos_2':'sum'})\n",
        "dinamica_v4.head()"
      ],
      "execution_count": null,
      "outputs": [
        {
          "output_type": "execute_result",
          "data": {
            "text/html": [
              "<div>\n",
              "<style scoped>\n",
              "    .dataframe tbody tr th:only-of-type {\n",
              "        vertical-align: middle;\n",
              "    }\n",
              "\n",
              "    .dataframe tbody tr th {\n",
              "        vertical-align: top;\n",
              "    }\n",
              "\n",
              "    .dataframe thead tr th {\n",
              "        text-align: left;\n",
              "    }\n",
              "\n",
              "    .dataframe thead tr:last-of-type th {\n",
              "        text-align: right;\n",
              "    }\n",
              "</style>\n",
              "<table border=\"1\" class=\"dataframe\">\n",
              "  <thead>\n",
              "    <tr>\n",
              "      <th></th>\n",
              "      <th colspan=\"4\" halign=\"left\">qtd_apos_2</th>\n",
              "    </tr>\n",
              "    <tr>\n",
              "      <th>grupo_de_trabalho_2</th>\n",
              "      <th>Recontato</th>\n",
              "      <th>Recontato 1P</th>\n",
              "      <th>Recontato 3P</th>\n",
              "      <th>Recontato Liberacao</th>\n",
              "    </tr>\n",
              "    <tr>\n",
              "      <th>Data</th>\n",
              "      <th></th>\n",
              "      <th></th>\n",
              "      <th></th>\n",
              "      <th></th>\n",
              "    </tr>\n",
              "  </thead>\n",
              "  <tbody>\n",
              "    <tr>\n",
              "      <th>2021-05-17</th>\n",
              "      <td>19</td>\n",
              "      <td>167</td>\n",
              "      <td>52</td>\n",
              "      <td>64</td>\n",
              "    </tr>\n",
              "  </tbody>\n",
              "</table>\n",
              "</div>"
            ],
            "text/plain": [
              "                    qtd_apos_2                                              \n",
              "grupo_de_trabalho_2  Recontato Recontato 1P Recontato 3P Recontato Liberacao\n",
              "Data                                                                        \n",
              "2021-05-17                  19          167           52                  64"
            ]
          },
          "metadata": {
            "tags": []
          },
          "execution_count": 149
        }
      ]
    },
    {
      "cell_type": "code",
      "metadata": {
        "id": "BhExOuKe_6dC"
      },
      "source": [
        ""
      ],
      "execution_count": null,
      "outputs": []
    }
  ]
}