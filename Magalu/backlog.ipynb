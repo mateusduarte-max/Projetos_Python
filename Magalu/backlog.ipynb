{
  "nbformat": 4,
  "nbformat_minor": 0,
  "metadata": {
    "colab": {
      "name": "backlog.ipynb",
      "provenance": [],
      "authorship_tag": "ABX9TyO2snyAehwwjzdHbo7PXk6J",
      "include_colab_link": true
    },
    "kernelspec": {
      "name": "python3",
      "display_name": "Python 3"
    },
    "language_info": {
      "name": "python"
    }
  },
  "cells": [
    {
      "cell_type": "markdown",
      "metadata": {
        "id": "view-in-github",
        "colab_type": "text"
      },
      "source": [
        "<a href=\"https://colab.research.google.com/github/mateusduarte-max/Projetos_Python/blob/main/backlog.ipynb\" target=\"_parent\"><img src=\"https://colab.research.google.com/assets/colab-badge.svg\" alt=\"Open In Colab\"/></a>"
      ]
    },
    {
      "cell_type": "code",
      "metadata": {
        "id": "-sTutG44rzaN",
        "colab": {
          "base_uri": "https://localhost:8080/"
        },
        "outputId": "287a702a-b345-4ae7-d2b7-1a731d8c9a2c"
      },
      "source": [
        "# Importar as bibliotecas\n",
        "import pandas as pd\n",
        "import datetime as dt\n",
        "\n",
        "# Bibliotecas Google Golab\n",
        "from google.colab import auth\n",
        "auth.authenticate_user()\n",
        "\n",
        "# Bibliotecas Google Sheet\n",
        "import gspread\n",
        "from oauth2client.client import GoogleCredentials\n",
        "from gspread_dataframe import set_with_dataframe\n",
        "\n",
        "from google.colab import drive\n",
        "drive.mount('/content/drive')\n",
        "\n",
        "# Autenticação Final\n",
        "gc = gspread.authorize(GoogleCredentials.get_application_default())\n"
      ],
      "execution_count": null,
      "outputs": [
        {
          "output_type": "stream",
          "text": [
            "Mounted at /content/drive\n"
          ],
          "name": "stdout"
        }
      ]
    },
    {
      "cell_type": "code",
      "metadata": {
        "colab": {
          "base_uri": "https://localhost:8080/"
        },
        "id": "RTNWC0N9r79j",
        "outputId": "deb2be78-ae04-4800-eff8-82d717c39420"
      },
      "source": [
        "# Importar bases do backlog\n",
        "\n",
        "# Função para importar base\n",
        "def backlog():\n",
        "    base_1 = pd.read_csv('/content/BACKLOG_Geral_base_painel_06222021_1121.csv', sep=';')\n",
        "    base_2 = pd.read_csv('/content/BACKLOG_Geral_base_painel_06232021_1030.csv', sep=';')\n",
        "    base_3 = pd.read_csv('/content/BACKLOG_Geral_base_painel_06242021_1021.csv', sep=';')\n",
        "    base_4 = pd.read_csv('/content/BACKLOG_Geral_base_painel_06252021_0829.csv', sep=';')\n",
        "    base_5 = pd.read_csv('/content/BACKLOG_Geral_base_painel_06282021_0835.csv', sep=';')\n",
        "    base_6 = pd.read_csv('/content/BACKLOG_Geral_base_painel_06292021_0757.csv', sep=';')\n",
        "    base_7 = pd.read_csv('/content/BACKLOG_Geral_base_painel_06302021_0744.csv', sep=';')\n",
        "    base_concatenada = pd.concat([base_1, base_2, base_3, base_4, base_5, base_6, base_7], ignore_index=True)\n",
        "    return base_concatenada\n",
        "\n",
        "# Instanciar função\n",
        "backlog_geral = backlog()\n",
        "\n",
        "\n",
        "# Importar base do de_para\n",
        "\n",
        "\n",
        "# Função para importar base\n",
        "def base_depara():\n",
        "    b_de_para = pd.read_excel('/content/SLA_18.02.xlsx')\n",
        "    b_de_para = b_de_para.rename(columns={'Grupo de tickets':'Ticket group'})\n",
        "    return b_de_para\n",
        "\n",
        "# instanciar função\n",
        "base_de_para = base_depara()\n",
        "\n",
        "\n",
        "# Combinando backlog e de_para\n",
        "Base_total = pd.merge(backlog_geral, base_de_para, how='left', on='Ticket group')\n",
        "Base_total = Base_total.rename(columns={'Ticket status':'Ticket_status'})\n",
        "\n",
        "\n",
        "\n",
        "# filtrar total\n",
        "base_filtro = Base_total.query('Ticket_status == \"SUM\"')\n",
        "base_filtro['Hoje'] = pd.to_datetime(base_filtro['Hoje'], dayfirst=True)\n",
        "base_filtro['Tickets'] = base_filtro['Tickets'].astype(int)\n",
        "\n",
        "\n",
        "\n",
        "# Salvar base geral no drive\n",
        "def input_drive():\n",
        "  #Abrir planilha e primeira aba\n",
        "  pagina = gc.open('Base_Backlog_SLA').sheet1\n",
        "  # Limpar base\n",
        "  pagina.clear()\n",
        "  # Importar dataframe na planilha\n",
        "  return set_with_dataframe(pagina, base_filtro)\n",
        "\n",
        "input_drive()\n",
        "\n",
        "print(\"Arquivo atualizado com sucesso!\")\n",
        "\n",
        "\n",
        "\n",
        "\n"
      ],
      "execution_count": null,
      "outputs": [
        {
          "output_type": "stream",
          "text": [
            "/usr/local/lib/python3.7/dist-packages/ipykernel_launcher.py:40: SettingWithCopyWarning: \n",
            "A value is trying to be set on a copy of a slice from a DataFrame.\n",
            "Try using .loc[row_indexer,col_indexer] = value instead\n",
            "\n",
            "See the caveats in the documentation: https://pandas.pydata.org/pandas-docs/stable/user_guide/indexing.html#returning-a-view-versus-a-copy\n",
            "/usr/local/lib/python3.7/dist-packages/ipykernel_launcher.py:41: SettingWithCopyWarning: \n",
            "A value is trying to be set on a copy of a slice from a DataFrame.\n",
            "Try using .loc[row_indexer,col_indexer] = value instead\n",
            "\n",
            "See the caveats in the documentation: https://pandas.pydata.org/pandas-docs/stable/user_guide/indexing.html#returning-a-view-versus-a-copy\n"
          ],
          "name": "stderr"
        },
        {
          "output_type": "stream",
          "text": [
            "Arquivo atualizado com sucesso!\n"
          ],
          "name": "stdout"
        }
      ]
    },
    {
      "cell_type": "code",
      "metadata": {
        "id": "YmZoDyVybYrN"
      },
      "source": [
        ""
      ],
      "execution_count": null,
      "outputs": []
    },
    {
      "cell_type": "code",
      "metadata": {
        "id": "VzXLzyLBz-q2"
      },
      "source": [
        ""
      ],
      "execution_count": null,
      "outputs": []
    }
  ]
}