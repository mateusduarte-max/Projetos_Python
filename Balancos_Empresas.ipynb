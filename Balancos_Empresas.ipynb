{
  "nbformat": 4,
  "nbformat_minor": 0,
  "metadata": {
    "colab": {
      "name": "Balancos_Empresas.ipynb",
      "provenance": [],
      "authorship_tag": "ABX9TyOQuq/Xs5bKy8Q0ITrsDrJ7",
      "include_colab_link": true
    },
    "kernelspec": {
      "name": "python3",
      "display_name": "Python 3"
    }
  },
  "cells": [
    {
      "cell_type": "markdown",
      "metadata": {
        "id": "view-in-github",
        "colab_type": "text"
      },
      "source": [
        "<a href=\"https://colab.research.google.com/github/mateusduarte-max/Projetos_Python/blob/main/Balancos_Empresas.ipynb\" target=\"_parent\"><img src=\"https://colab.research.google.com/assets/colab-badge.svg\" alt=\"Open In Colab\"/></a>"
      ]
    },
    {
      "cell_type": "code",
      "metadata": {
        "colab": {
          "base_uri": "https://localhost:8080/"
        },
        "id": "1vPgEpHTg_3a",
        "outputId": "205e6a90-7f7a-43b8-e982-bb28a2fa0dd2"
      },
      "source": [
        "# instalar biblioteca para dowloads\r\n",
        "!pip install wget"
      ],
      "execution_count": 2,
      "outputs": [
        {
          "output_type": "stream",
          "text": [
            "Collecting wget\n",
            "  Downloading https://files.pythonhosted.org/packages/47/6a/62e288da7bcda82b935ff0c6cfe542970f04e29c756b0e147251b2fb251f/wget-3.2.zip\n",
            "Building wheels for collected packages: wget\n",
            "  Building wheel for wget (setup.py) ... \u001b[?25l\u001b[?25hdone\n",
            "  Created wheel for wget: filename=wget-3.2-cp36-none-any.whl size=9682 sha256=a93105d328f1fe7dd727351ba09692c85c0c000df3986886f28b95149ab865e9\n",
            "  Stored in directory: /root/.cache/pip/wheels/40/15/30/7d8f7cea2902b4db79e3fea550d7d7b85ecb27ef992b618f3f\n",
            "Successfully built wget\n",
            "Installing collected packages: wget\n",
            "Successfully installed wget-3.2\n"
          ],
          "name": "stdout"
        }
      ]
    },
    {
      "cell_type": "code",
      "metadata": {
        "id": "iWUWy5nlhGpj"
      },
      "source": [
        "# importar bibliotecas\r\n",
        "import pandas as pd\r\n",
        "import wget \r\n",
        "from zipfile import ZipFile"
      ],
      "execution_count": 3,
      "outputs": []
    },
    {
      "cell_type": "code",
      "metadata": {
        "id": "RlPa5XZFhUZL"
      },
      "source": [
        "# URL base do site\r\n",
        "url_base = 'http://dados.cvm.gov.br/dados/CIA_ABERTA/DOC/ITR/DADOS/'"
      ],
      "execution_count": 4,
      "outputs": []
    },
    {
      "cell_type": "code",
      "metadata": {
        "colab": {
          "base_uri": "https://localhost:8080/"
        },
        "id": "znfYCGVRh0sB",
        "outputId": "44ea4c35-667d-44da-b1af-f3e4ea9c6ce8"
      },
      "source": [
        "# Criar lista dos arquivos a serem baixados\r\n",
        "arquivos_zip = []\r\n",
        "for ano in range(2011, 2021):\r\n",
        "  arquivos_zip.append(f'itr_cia_aberta_{ano}.zip')\r\n",
        "\r\n",
        "arquivos_zip"
      ],
      "execution_count": 5,
      "outputs": [
        {
          "output_type": "execute_result",
          "data": {
            "text/plain": [
              "['itr_cia_aberta_2011.zip',\n",
              " 'itr_cia_aberta_2012.zip',\n",
              " 'itr_cia_aberta_2013.zip',\n",
              " 'itr_cia_aberta_2014.zip',\n",
              " 'itr_cia_aberta_2015.zip',\n",
              " 'itr_cia_aberta_2016.zip',\n",
              " 'itr_cia_aberta_2017.zip',\n",
              " 'itr_cia_aberta_2018.zip',\n",
              " 'itr_cia_aberta_2019.zip',\n",
              " 'itr_cia_aberta_2020.zip']"
            ]
          },
          "metadata": {
            "tags": []
          },
          "execution_count": 5
        }
      ]
    },
    {
      "cell_type": "code",
      "metadata": {
        "id": "zwpg7P52iTwd"
      },
      "source": [
        "# Fazer dowload dos arquivos\r\n",
        "for arq in arquivos_zip:\r\n",
        "  wget.download(url_base+arq)"
      ],
      "execution_count": 6,
      "outputs": []
    },
    {
      "cell_type": "code",
      "metadata": {
        "id": "EWUAPBuTizeI"
      },
      "source": [
        "# Extrair arquivos\r\n",
        "for arq in arquivos_zip:\r\n",
        "  ZipFile(arq, 'r').extractall('CVM')"
      ],
      "execution_count": 7,
      "outputs": []
    },
    {
      "cell_type": "code",
      "metadata": {
        "id": "aLYB742mj5E-"
      },
      "source": [
        "# Agregar bases DRE\r\n",
        "nomes = ['DRE_con']\r\n",
        "for nome in nomes:\r\n",
        "  arquivo = pd.DataFrame()\r\n",
        "  for ano in range(2011,2021):\r\n",
        "    arquivo = pd.concat([arquivo, pd.read_csv(f'CVM/itr_cia_aberta_{nome}_{ano}.csv', sep=';', decimal=',', encoding='ISO-8859-1')])\r\n",
        "  arquivo.to_csv(f'DADOS/itr_cia_aberta_{nome}_2011-2020', index=False)    \r\n",
        "  "
      ],
      "execution_count": 10,
      "outputs": []
    },
    {
      "cell_type": "code",
      "metadata": {
        "colab": {
          "base_uri": "https://localhost:8080/",
          "height": 315
        },
        "id": "aoagS-wUWnhj",
        "outputId": "929800a7-b053-4620-e695-2fbb945dd8bf"
      },
      "source": [
        "dre = pd.read_csv('/content/DADOS/itr_cia_aberta_DRE_con_2011-2020')\r\n",
        "dre.tail(3)"
      ],
      "execution_count": 11,
      "outputs": [
        {
          "output_type": "execute_result",
          "data": {
            "text/html": [
              "<div>\n",
              "<style scoped>\n",
              "    .dataframe tbody tr th:only-of-type {\n",
              "        vertical-align: middle;\n",
              "    }\n",
              "\n",
              "    .dataframe tbody tr th {\n",
              "        vertical-align: top;\n",
              "    }\n",
              "\n",
              "    .dataframe thead th {\n",
              "        text-align: right;\n",
              "    }\n",
              "</style>\n",
              "<table border=\"1\" class=\"dataframe\">\n",
              "  <thead>\n",
              "    <tr style=\"text-align: right;\">\n",
              "      <th></th>\n",
              "      <th>CNPJ_CIA</th>\n",
              "      <th>DT_REFER</th>\n",
              "      <th>VERSAO</th>\n",
              "      <th>DENOM_CIA</th>\n",
              "      <th>CD_CVM</th>\n",
              "      <th>GRUPO_DFP</th>\n",
              "      <th>MOEDA</th>\n",
              "      <th>ESCALA_MOEDA</th>\n",
              "      <th>ORDEM_EXERC</th>\n",
              "      <th>DT_INI_EXERC</th>\n",
              "      <th>DT_FIM_EXERC</th>\n",
              "      <th>CD_CONTA</th>\n",
              "      <th>DS_CONTA</th>\n",
              "      <th>VL_CONTA</th>\n",
              "      <th>ST_CONTA_FIXA</th>\n",
              "    </tr>\n",
              "  </thead>\n",
              "  <tbody>\n",
              "    <tr>\n",
              "      <th>1184552</th>\n",
              "      <td>97.837.181/0001-47</td>\n",
              "      <td>2020-09-30</td>\n",
              "      <td>1</td>\n",
              "      <td>DURATEX S.A.</td>\n",
              "      <td>21091</td>\n",
              "      <td>DF Consolidado - Demonstração do Resultado</td>\n",
              "      <td>REAL</td>\n",
              "      <td>MIL</td>\n",
              "      <td>PENÚLTIMO</td>\n",
              "      <td>2019-07-01</td>\n",
              "      <td>2019-09-30</td>\n",
              "      <td>3.99.02.01</td>\n",
              "      <td>ON</td>\n",
              "      <td>0.0398</td>\n",
              "      <td>N</td>\n",
              "    </tr>\n",
              "    <tr>\n",
              "      <th>1184553</th>\n",
              "      <td>97.837.181/0001-47</td>\n",
              "      <td>2020-09-30</td>\n",
              "      <td>1</td>\n",
              "      <td>DURATEX S.A.</td>\n",
              "      <td>21091</td>\n",
              "      <td>DF Consolidado - Demonstração do Resultado</td>\n",
              "      <td>REAL</td>\n",
              "      <td>MIL</td>\n",
              "      <td>ÚLTIMO</td>\n",
              "      <td>2020-01-01</td>\n",
              "      <td>2020-09-30</td>\n",
              "      <td>3.99.02.01</td>\n",
              "      <td>ON</td>\n",
              "      <td>0.2187</td>\n",
              "      <td>N</td>\n",
              "    </tr>\n",
              "    <tr>\n",
              "      <th>1184554</th>\n",
              "      <td>97.837.181/0001-47</td>\n",
              "      <td>2020-09-30</td>\n",
              "      <td>1</td>\n",
              "      <td>DURATEX S.A.</td>\n",
              "      <td>21091</td>\n",
              "      <td>DF Consolidado - Demonstração do Resultado</td>\n",
              "      <td>REAL</td>\n",
              "      <td>MIL</td>\n",
              "      <td>ÚLTIMO</td>\n",
              "      <td>2020-07-01</td>\n",
              "      <td>2020-09-30</td>\n",
              "      <td>3.99.02.01</td>\n",
              "      <td>ON</td>\n",
              "      <td>0.1780</td>\n",
              "      <td>N</td>\n",
              "    </tr>\n",
              "  </tbody>\n",
              "</table>\n",
              "</div>"
            ],
            "text/plain": [
              "                   CNPJ_CIA    DT_REFER  ...  VL_CONTA ST_CONTA_FIXA\n",
              "1184552  97.837.181/0001-47  2020-09-30  ...    0.0398             N\n",
              "1184553  97.837.181/0001-47  2020-09-30  ...    0.2187             N\n",
              "1184554  97.837.181/0001-47  2020-09-30  ...    0.1780             N\n",
              "\n",
              "[3 rows x 15 columns]"
            ]
          },
          "metadata": {
            "tags": []
          },
          "execution_count": 11
        }
      ]
    },
    {
      "cell_type": "code",
      "metadata": {
        "colab": {
          "base_uri": "https://localhost:8080/",
          "height": 349
        },
        "id": "eFZsyjsvWtwM",
        "outputId": "beeb26a2-d81e-45da-f6cc-9fb2ce188740"
      },
      "source": [
        "# Selecionar último exercicio\r\n",
        "ultimo_dre = dre[dre['ORDEM_EXERC'] == 'ÚLTIMO']\r\n",
        "ultimo_dre.head(3)"
      ],
      "execution_count": 12,
      "outputs": [
        {
          "output_type": "execute_result",
          "data": {
            "text/html": [
              "<div>\n",
              "<style scoped>\n",
              "    .dataframe tbody tr th:only-of-type {\n",
              "        vertical-align: middle;\n",
              "    }\n",
              "\n",
              "    .dataframe tbody tr th {\n",
              "        vertical-align: top;\n",
              "    }\n",
              "\n",
              "    .dataframe thead th {\n",
              "        text-align: right;\n",
              "    }\n",
              "</style>\n",
              "<table border=\"1\" class=\"dataframe\">\n",
              "  <thead>\n",
              "    <tr style=\"text-align: right;\">\n",
              "      <th></th>\n",
              "      <th>CNPJ_CIA</th>\n",
              "      <th>DT_REFER</th>\n",
              "      <th>VERSAO</th>\n",
              "      <th>DENOM_CIA</th>\n",
              "      <th>CD_CVM</th>\n",
              "      <th>GRUPO_DFP</th>\n",
              "      <th>MOEDA</th>\n",
              "      <th>ESCALA_MOEDA</th>\n",
              "      <th>ORDEM_EXERC</th>\n",
              "      <th>DT_INI_EXERC</th>\n",
              "      <th>DT_FIM_EXERC</th>\n",
              "      <th>CD_CONTA</th>\n",
              "      <th>DS_CONTA</th>\n",
              "      <th>VL_CONTA</th>\n",
              "      <th>ST_CONTA_FIXA</th>\n",
              "    </tr>\n",
              "  </thead>\n",
              "  <tbody>\n",
              "    <tr>\n",
              "      <th>1</th>\n",
              "      <td>00.001.180/0001-26</td>\n",
              "      <td>2011-03-31</td>\n",
              "      <td>1</td>\n",
              "      <td>CENTRAIS ELET BRAS S.A. - ELETROBRAS</td>\n",
              "      <td>2437</td>\n",
              "      <td>DF Consolidado - Demonstração do Resultado</td>\n",
              "      <td>REAL</td>\n",
              "      <td>MIL</td>\n",
              "      <td>ÚLTIMO</td>\n",
              "      <td>2011-01-01</td>\n",
              "      <td>2011-03-31</td>\n",
              "      <td>3.01</td>\n",
              "      <td>Receita de Venda de Bens e/ou Serviços</td>\n",
              "      <td>8551982.0</td>\n",
              "      <td>S</td>\n",
              "    </tr>\n",
              "    <tr>\n",
              "      <th>3</th>\n",
              "      <td>00.001.180/0001-26</td>\n",
              "      <td>2011-03-31</td>\n",
              "      <td>1</td>\n",
              "      <td>CENTRAIS ELET BRAS S.A. - ELETROBRAS</td>\n",
              "      <td>2437</td>\n",
              "      <td>DF Consolidado - Demonstração do Resultado</td>\n",
              "      <td>REAL</td>\n",
              "      <td>MIL</td>\n",
              "      <td>ÚLTIMO</td>\n",
              "      <td>2011-01-01</td>\n",
              "      <td>2011-03-31</td>\n",
              "      <td>3.02</td>\n",
              "      <td>Custo dos Bens e/ou Serviços Vendidos</td>\n",
              "      <td>-1127021.0</td>\n",
              "      <td>S</td>\n",
              "    </tr>\n",
              "    <tr>\n",
              "      <th>5</th>\n",
              "      <td>00.001.180/0001-26</td>\n",
              "      <td>2011-03-31</td>\n",
              "      <td>1</td>\n",
              "      <td>CENTRAIS ELET BRAS S.A. - ELETROBRAS</td>\n",
              "      <td>2437</td>\n",
              "      <td>DF Consolidado - Demonstração do Resultado</td>\n",
              "      <td>REAL</td>\n",
              "      <td>MIL</td>\n",
              "      <td>ÚLTIMO</td>\n",
              "      <td>2011-01-01</td>\n",
              "      <td>2011-03-31</td>\n",
              "      <td>3.02.01</td>\n",
              "      <td>Encargos Setoriais</td>\n",
              "      <td>-398353.0</td>\n",
              "      <td>N</td>\n",
              "    </tr>\n",
              "  </tbody>\n",
              "</table>\n",
              "</div>"
            ],
            "text/plain": [
              "             CNPJ_CIA    DT_REFER  ...   VL_CONTA ST_CONTA_FIXA\n",
              "1  00.001.180/0001-26  2011-03-31  ...  8551982.0             S\n",
              "3  00.001.180/0001-26  2011-03-31  ... -1127021.0             S\n",
              "5  00.001.180/0001-26  2011-03-31  ...  -398353.0             N\n",
              "\n",
              "[3 rows x 15 columns]"
            ]
          },
          "metadata": {
            "tags": []
          },
          "execution_count": 12
        }
      ]
    },
    {
      "cell_type": "code",
      "metadata": {
        "colab": {
          "base_uri": "https://localhost:8080/",
          "height": 479
        },
        "id": "JVmXiJRZ_1Yy",
        "outputId": "68aeda49-3c6e-4be4-9d6e-051fb92c8ffc"
      },
      "source": [
        "# Selecionar última empresa\r\n",
        "itausa = ultimo_dre[ultimo_dre['CD_CVM'] == 7617]\r\n",
        "itausa.head()             "
      ],
      "execution_count": 16,
      "outputs": [
        {
          "output_type": "execute_result",
          "data": {
            "text/html": [
              "<div>\n",
              "<style scoped>\n",
              "    .dataframe tbody tr th:only-of-type {\n",
              "        vertical-align: middle;\n",
              "    }\n",
              "\n",
              "    .dataframe tbody tr th {\n",
              "        vertical-align: top;\n",
              "    }\n",
              "\n",
              "    .dataframe thead th {\n",
              "        text-align: right;\n",
              "    }\n",
              "</style>\n",
              "<table border=\"1\" class=\"dataframe\">\n",
              "  <thead>\n",
              "    <tr style=\"text-align: right;\">\n",
              "      <th></th>\n",
              "      <th>CNPJ_CIA</th>\n",
              "      <th>DT_REFER</th>\n",
              "      <th>VERSAO</th>\n",
              "      <th>DENOM_CIA</th>\n",
              "      <th>CD_CVM</th>\n",
              "      <th>GRUPO_DFP</th>\n",
              "      <th>MOEDA</th>\n",
              "      <th>ESCALA_MOEDA</th>\n",
              "      <th>ORDEM_EXERC</th>\n",
              "      <th>DT_INI_EXERC</th>\n",
              "      <th>DT_FIM_EXERC</th>\n",
              "      <th>CD_CONTA</th>\n",
              "      <th>DS_CONTA</th>\n",
              "      <th>VL_CONTA</th>\n",
              "      <th>ST_CONTA_FIXA</th>\n",
              "    </tr>\n",
              "  </thead>\n",
              "  <tbody>\n",
              "    <tr>\n",
              "      <th>100685</th>\n",
              "      <td>61.532.644/0001-15</td>\n",
              "      <td>2011-03-31</td>\n",
              "      <td>1</td>\n",
              "      <td>ITAUSA S.A.</td>\n",
              "      <td>7617</td>\n",
              "      <td>DF Consolidado - Demonstração do Resultado</td>\n",
              "      <td>REAL</td>\n",
              "      <td>MIL</td>\n",
              "      <td>ÚLTIMO</td>\n",
              "      <td>2011-01-01</td>\n",
              "      <td>2011-03-31</td>\n",
              "      <td>3.01</td>\n",
              "      <td>Receita de Venda de Bens e/ou Serviços</td>\n",
              "      <td>1269000.0</td>\n",
              "      <td>S</td>\n",
              "    </tr>\n",
              "    <tr>\n",
              "      <th>100687</th>\n",
              "      <td>61.532.644/0001-15</td>\n",
              "      <td>2011-03-31</td>\n",
              "      <td>1</td>\n",
              "      <td>ITAUSA S.A.</td>\n",
              "      <td>7617</td>\n",
              "      <td>DF Consolidado - Demonstração do Resultado</td>\n",
              "      <td>REAL</td>\n",
              "      <td>MIL</td>\n",
              "      <td>ÚLTIMO</td>\n",
              "      <td>2011-01-01</td>\n",
              "      <td>2011-03-31</td>\n",
              "      <td>3.02</td>\n",
              "      <td>Custo dos Bens e/ou Serviços Vendidos</td>\n",
              "      <td>-951000.0</td>\n",
              "      <td>S</td>\n",
              "    </tr>\n",
              "    <tr>\n",
              "      <th>100689</th>\n",
              "      <td>61.532.644/0001-15</td>\n",
              "      <td>2011-03-31</td>\n",
              "      <td>1</td>\n",
              "      <td>ITAUSA S.A.</td>\n",
              "      <td>7617</td>\n",
              "      <td>DF Consolidado - Demonstração do Resultado</td>\n",
              "      <td>REAL</td>\n",
              "      <td>MIL</td>\n",
              "      <td>ÚLTIMO</td>\n",
              "      <td>2011-01-01</td>\n",
              "      <td>2011-03-31</td>\n",
              "      <td>3.03</td>\n",
              "      <td>Resultado Bruto</td>\n",
              "      <td>318000.0</td>\n",
              "      <td>S</td>\n",
              "    </tr>\n",
              "    <tr>\n",
              "      <th>100691</th>\n",
              "      <td>61.532.644/0001-15</td>\n",
              "      <td>2011-03-31</td>\n",
              "      <td>1</td>\n",
              "      <td>ITAUSA S.A.</td>\n",
              "      <td>7617</td>\n",
              "      <td>DF Consolidado - Demonstração do Resultado</td>\n",
              "      <td>REAL</td>\n",
              "      <td>MIL</td>\n",
              "      <td>ÚLTIMO</td>\n",
              "      <td>2011-01-01</td>\n",
              "      <td>2011-03-31</td>\n",
              "      <td>3.04</td>\n",
              "      <td>Despesas/Receitas Operacionais</td>\n",
              "      <td>-3006000.0</td>\n",
              "      <td>S</td>\n",
              "    </tr>\n",
              "    <tr>\n",
              "      <th>100693</th>\n",
              "      <td>61.532.644/0001-15</td>\n",
              "      <td>2011-03-31</td>\n",
              "      <td>1</td>\n",
              "      <td>ITAUSA S.A.</td>\n",
              "      <td>7617</td>\n",
              "      <td>DF Consolidado - Demonstração do Resultado</td>\n",
              "      <td>REAL</td>\n",
              "      <td>MIL</td>\n",
              "      <td>ÚLTIMO</td>\n",
              "      <td>2011-01-01</td>\n",
              "      <td>2011-03-31</td>\n",
              "      <td>3.04.01</td>\n",
              "      <td>Despesas com Vendas</td>\n",
              "      <td>0.0</td>\n",
              "      <td>S</td>\n",
              "    </tr>\n",
              "  </tbody>\n",
              "</table>\n",
              "</div>"
            ],
            "text/plain": [
              "                  CNPJ_CIA    DT_REFER  ...   VL_CONTA ST_CONTA_FIXA\n",
              "100685  61.532.644/0001-15  2011-03-31  ...  1269000.0             S\n",
              "100687  61.532.644/0001-15  2011-03-31  ...  -951000.0             S\n",
              "100689  61.532.644/0001-15  2011-03-31  ...   318000.0             S\n",
              "100691  61.532.644/0001-15  2011-03-31  ... -3006000.0             S\n",
              "100693  61.532.644/0001-15  2011-03-31  ...        0.0             S\n",
              "\n",
              "[5 rows x 15 columns]"
            ]
          },
          "metadata": {
            "tags": []
          },
          "execution_count": 16
        }
      ]
    },
    {
      "cell_type": "code",
      "metadata": {
        "id": "gJu4pGFtB5eS"
      },
      "source": [
        ""
      ],
      "execution_count": null,
      "outputs": []
    }
  ]
}