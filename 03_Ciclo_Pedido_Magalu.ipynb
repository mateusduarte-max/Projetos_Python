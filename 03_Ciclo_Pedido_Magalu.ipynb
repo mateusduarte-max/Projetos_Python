{
  "cells": [
    {
      "cell_type": "markdown",
      "metadata": {
        "id": "view-in-github",
        "colab_type": "text"
      },
      "source": [
        "<a href=\"https://colab.research.google.com/github/mateusduarte-max/Projetos_Python/blob/main/03_Ciclo_Pedido_Magalu.ipynb\" target=\"_parent\"><img src=\"https://colab.research.google.com/assets/colab-badge.svg\" alt=\"Open In Colab\"/></a>"
      ]
    },
    {
      "cell_type": "code",
      "execution_count": null,
      "metadata": {
        "id": "96JvSct13VI-"
      },
      "outputs": [],
      "source": [
        "import pandas as pd\n",
        "import re\n",
        "import datetime\n",
        "from google.cloud import bigquery\n",
        "from google.colab import auth\n",
        "auth.authenticate_user()\n",
        "import gspread\n",
        "from google.auth import default\n",
        "creds, _ = default()\n",
        "gc = gspread.authorize(creds)\n",
        "# Montar Drive\n",
        "from google.colab import drive\n",
        "drive.mount('/content/drive')\n",
        "# Classe Dados\n",
        "!cp /content/drive/MyDrive/Colab_Notebooks/pacotes_modulos/modulos_colab.py /content\n",
        "from modulos_colab import dados\n",
        "# Chaves e tokens de acesso\n",
        "!cp /content/drive/MyDrive/Colab_Notebooks/Autenticacoes/chaves_tokens.py /content\n",
        "%run chaves_tokens.py\n",
        "# Querys de consulta\n",
        "!cp /content/drive/MyDrive/Colab_Notebooks/querys/querys_cicloPedido_magalu.ipynb /content\n",
        "%run querys_cicloPedido_magalu.ipynb"
      ]
    },
    {
      "cell_type": "markdown",
      "metadata": {
        "id": "8J5eVsVf0Pfr"
      },
      "source": [
        "Base Parceiro"
      ]
    },
    {
      "cell_type": "code",
      "execution_count": null,
      "metadata": {
        "colab": {
          "background_save": true
        },
        "id": "hajspXps3clX"
      },
      "outputs": [],
      "source": [
        "def envio_parceiro():\n",
        "    # Base pedidos envio parceiro\n",
        "    base_pedidos_parceiro = dados.consulta_bigquery(projeto_gcp_1, query_pedidos_envio_parceiro).fillna(0)\n",
        "    # Remover duplicados\n",
        "    base_pedidos_parceiro_novo = base_pedidos_parceiro.drop_duplicates()\n",
        "    base_pedidos_parceiro_novo['Classificação_Pedidos_Seller'] = 'Pedido Parceiro'\n",
        "    # Selecionar pedidos sem entrega\n",
        "    base1_pedidos_parceiro = base_pedidos_parceiro_novo.query('entrega_realizada==\"N\"')\n",
        "    base1_pedidos_parceiro['Hoje'] = datetime.datetime.today().strftime('%Y-%m-%d')\n",
        "    base1_pedidos_parceiro['Hoje'] = pd.to_datetime(base1_pedidos_parceiro['Hoje'], format='%Y-%m-%d')\n",
        "    base1_pedidos_parceiro['data_prometida_entrega'] = pd.to_datetime(base1_pedidos_parceiro['data_prometida_entrega'])\n",
        "    base1_pedidos_parceiro['Dias'] = (base1_pedidos_parceiro['data_prometida_entrega']-base1_pedidos_parceiro['Hoje'])\n",
        "    base1_pedidos_parceiro['Dias'] = base1_pedidos_parceiro['Dias'].dt.days\n",
        "    base1_pedidos_parceiro['data_aprovacao'] = pd.to_datetime(base1_pedidos_parceiro['data_aprovacao'], format='%Y-%m-%d',errors='coerce')\n",
        "    # Status Pedido\n",
        "    def status_pedido(base1_pedidos_parceiro):\n",
        "        if base1_pedidos_parceiro['Dias'] < 0:\n",
        "            return 'Atrasado'\n",
        "        else: \n",
        "            return 'Pendente'\n",
        "    base1_pedidos_parceiro['Classificação_Pedidos'] = base1_pedidos_parceiro.apply(status_pedido, axis=1)\n",
        "    return base1_pedidos_parceiro\n",
        "\n",
        "base1_pedidos_parceiro =  envio_parceiro()  \n"
      ]
    },
    {
      "cell_type": "markdown",
      "metadata": {
        "id": "lMDyJLTO74BB"
      },
      "source": [
        "**Base MLE**"
      ]
    },
    {
      "cell_type": "code",
      "execution_count": null,
      "metadata": {
        "colab": {
          "background_save": true
        },
        "id": "RP-1vAJ95olE"
      },
      "outputs": [],
      "source": [
        "def envio_mle():\n",
        "    # Base pedidos mle\n",
        "    base_pedidos_mle = dados.consulta_bigquery(projeto_gcp_1, query_pedidos_envio_mle).fillna(0)\n",
        "    # Remover duplicados\n",
        "    base_pedidos_mle_novo = base_pedidos_mle.drop_duplicates()\n",
        "    base_pedidos_mle_novo['Classificação_Pedidos_Seller'] = 'Pedido Mle'\n",
        "    # Selecionar pedidos sem entrega\n",
        "    base1_pedidos_mle = base_pedidos_mle_novo.query('entrega_realizada==\"N\"')\n",
        "    base1_pedidos_mle['Hoje'] = datetime.datetime.today().strftime('%Y-%m-%d')\n",
        "    base1_pedidos_mle['Hoje'] = pd.to_datetime(base1_pedidos_mle['Hoje'], format='%Y-%m-%d')\n",
        "    base1_pedidos_mle['data_limite_postagem'] = pd.to_datetime(base1_pedidos_mle['data_limite_postagem'], format='%Y-%m-%d')\n",
        "    base1_pedidos_mle['Dias'] = (base1_pedidos_mle['data_limite_postagem']-base1_pedidos_mle['Hoje'])\n",
        "    base1_pedidos_mle['Dias'] = base1_pedidos_mle['Dias'].dt.days\n",
        "    base1_pedidos_mle['data_aprovacao'] = pd.to_datetime(base1_pedidos_mle['data_aprovacao'], format='%Y-%m-%d',errors='coerce')\n",
        "    # Status Pedido\n",
        "    def status_pedido(base1_pedidos_mle):\n",
        "        if base1_pedidos_mle['Dias'] <= -1:\n",
        "            return 'Atrasado'\n",
        "        else: \n",
        "            return 'Pendente'\n",
        "    # Classificação pedidos    \n",
        "    base1_pedidos_mle['Classificação_Pedidos'] = base1_pedidos_mle.apply(status_pedido, axis=1)\n",
        "    return base1_pedidos_mle\n",
        "\n",
        "\n",
        "base1_pedidos_mle = envio_mle()\n"
      ]
    },
    {
      "cell_type": "markdown",
      "metadata": {
        "id": "tRo_LkHB_by_"
      },
      "source": [
        "**Base Protocolos**"
      ]
    },
    {
      "cell_type": "code",
      "execution_count": null,
      "metadata": {
        "id": "gKhf9cgRxpCG"
      },
      "outputs": [],
      "source": [
        "# Protocolos\n",
        "base_protocolos = dados.consulta_bigquery(projeto_gcp_1, query_protocolos).fillna('')\n",
        "# Ajustes tabela protocolo\n",
        "base_protocolos['order_id'] = base_protocolos['order_id'].str.extract('(\\d+)').astype(object)\n",
        "\n"
      ]
    },
    {
      "cell_type": "markdown",
      "metadata": {
        "id": "ZXub3UTV_iRb"
      },
      "source": [
        "**Junção das Bases (Parceiro, MLE e Protocolos)**\n"
      ]
    },
    {
      "cell_type": "code",
      "execution_count": null,
      "metadata": {
        "id": "-FEuRK0o-RPV"
      },
      "outputs": [],
      "source": [
        "# Concatenação e ajustes para tabela resumo\n",
        "\n",
        "resumo_pedidos_parceiro = pd.DataFrame(base1_pedidos_parceiro[['seller_id', 'score', 'nota_final','Assistido', 'Carteira', 'Mundo', 'Situacao_seller']])\n",
        "resumo_pedidos_mle = pd.DataFrame(base1_pedidos_mle[['seller_id', 'score', 'nota_final','Assistido', 'Carteira', 'Mundo', 'Situacao_seller']])\n",
        "sellers_pedidos = pd.concat([resumo_pedidos_parceiro, resumo_pedidos_mle]).drop_duplicates()\n",
        "\n",
        "resumo_protocolos = pd.DataFrame(base_protocolos[['seller_id', 'score', 'nota_final','Assistido', 'Carteira', 'Mundo', 'Situacao_seller']])\n",
        "\n",
        "seller_total = pd.concat([sellers_pedidos, resumo_protocolos]).drop_duplicates()\n",
        "\n",
        "parceiro_atrasado = base1_pedidos_parceiro.query('Classificação_Pedidos_Seller==\"Pedido Parceiro\" & Classificação_Pedidos==\"Atrasado\"')\n",
        "seller_pedidos_atrasados_parceiro = pd.DataFrame(pd.pivot_table(parceiro_atrasado, index='seller_id', columns='Classificação_Pedidos_Seller',  values='order_id', aggfunc='nunique')).fillna(0)\n",
        "\n",
        "base_1 = pd.merge(seller_total, seller_pedidos_atrasados_parceiro, how='left', on='seller_id').fillna(0)\n",
        "base_1.rename(columns={'Pedido Parceiro':'Pedido_Parceiro_atrasado'}, inplace=True)\n",
        "\n",
        "mle_atrasado = base1_pedidos_mle.query('Classificação_Pedidos_Seller==\"Pedido Mle\" & Classificação_Pedidos==\"Atrasado\" & status_integra!=\"SHIPPED\"')\n",
        "seller_pedidos_atrasados_mle = pd.DataFrame(pd.pivot_table(mle_atrasado, index='seller_id', columns='Classificação_Pedidos_Seller',  values='order_id', aggfunc='nunique')).fillna(0)\n",
        "\n",
        "base_2 = pd.merge(base_1, seller_pedidos_atrasados_mle, how='left', on='seller_id').fillna(0)\n",
        "base_2.rename(columns={'Pedido Mle':'Pedido_Mle_atrasado'}, inplace=True)\n",
        "\n",
        "parceiro_pendente = base1_pedidos_parceiro.query('Classificação_Pedidos_Seller==\"Pedido Parceiro\" & Classificação_Pedidos==\"Pendente\"')\n",
        "seller_pedidos_pendente_parceiro = pd.DataFrame(pd.pivot_table(parceiro_pendente, index='seller_id', columns='Classificação_Pedidos_Seller',  values='order_id', aggfunc='nunique')).fillna(0)\n",
        "\n",
        "base_3 = pd.merge(base_2, seller_pedidos_pendente_parceiro, how='left', on='seller_id').fillna(0)\n",
        "base_3.rename(columns={'Pedido Parceiro':'Pedido_Parceiro_pendente'}, inplace=True)\n",
        "\n",
        "mle_pendente = base1_pedidos_mle.query('Classificação_Pedidos_Seller==\"Pedido Mle\" & Classificação_Pedidos==\"Pendente\" & status_integra!=\"SHIPPED\"')\n",
        "seller_pedidos_pendente_mle_pendente = pd.DataFrame(pd.pivot_table(mle_pendente, index='seller_id', columns='Classificação_Pedidos_Seller',  values='order_id', aggfunc='nunique')).fillna(0)\n",
        "\n",
        "base_4 = pd.merge(base_3, seller_pedidos_pendente_mle_pendente, how='left', on='seller_id').fillna(0)\n",
        "base_4.rename(columns={'Pedido Mle':'Pedido_Mle_pendente'}, inplace=True)\n",
        "\n",
        "protocolos = pd.pivot_table(base_protocolos, index='seller_id', values='protocolo', aggfunc='nunique').fillna(0)\n",
        "\n",
        "base_5 = pd.merge(base_4, protocolos, how='left', on='seller_id').fillna(0)\n",
        "\n",
        "base_aprovacao_parceiro = base1_pedidos_parceiro[['seller_id', 'data_aprovacao']]\n",
        "base_aprovacao_mle = base1_pedidos_mle[['seller_id', 'data_aprovacao']]\n",
        "base_aprovacao_tt = pd.concat([base_aprovacao_parceiro, base_aprovacao_mle])\n",
        "\n",
        "qtd_aprovado = pd.DataFrame(pd.pivot_table(base_aprovacao_tt, index='seller_id',  values='data_aprovacao', aggfunc='count')).fillna(0)\n",
        "qtd_aprovado.rename(columns={'data_aprovacao':'Qtd_aprovacao'}, inplace=True)\n",
        "\n",
        "base_6 = pd.merge(base_5, qtd_aprovado, how='left', on='seller_id').fillna(0)\n",
        "\n",
        "base_6['nota_final'] = round(pd.to_numeric(base_6['nota_final']),2)\n",
        "base_6['nota_final'] = base_6['nota_final'].replace('.', ',')\n",
        "base_6['Pedido_Parceiro_atrasado'] = base_6['Pedido_Parceiro_atrasado'].astype(int)\n",
        "base_6['Pedido_Mle_atrasado'] = base_6['Pedido_Mle_atrasado'].astype(int)\n",
        "#base_6['Pedido_Parceiro_pendente']=\"\"  #Comentar após fechamento.\n",
        "base_6['Pedido_Parceiro_pendente'] = base_6['Pedido_Parceiro_pendente'].astype(int)\n",
        "#base_6['Pedido_Mle_pendente']=\"\"    #Comentar após fechamento.\n",
        "base_6['Pedido_Mle_pendente'] = base_6['Pedido_Mle_pendente'].astype(int)\n",
        "base_6['protocolo'] = base_6['protocolo'].astype(int)\n",
        "base_6['Qtd_aprovacao'] = base_6['Qtd_aprovacao'].astype(int)\n",
        "base_6.drop_duplicates(inplace=True)\n"
      ]
    },
    {
      "cell_type": "code",
      "execution_count": null,
      "metadata": {
        "id": "cz_XzaT347yX"
      },
      "outputs": [],
      "source": [
        "# Divisão Sellers\n",
        "divisao_sellers = pd.read_excel('/content/drive/MyDrive/Colab_Notebooks/arquivos/ciclo_pedido/magalu/Divisão Ciclo Magalu - Setembro22.xlsx')\n",
        "base_7 = pd.merge(base_6, divisao_sellers, how='left', on='seller_id').fillna('sem_agente')\n",
        "\n",
        "# Validação Sellers sem agente\n",
        "def dist_sem_agentes(base_7):\n",
        "    if base_7['Agentes'] != 'sem_agente':\n",
        "        return base_7['Agentes']\n",
        "    elif base_7['Agentes'] == 'sem_agente':\n",
        "        return 'Rateio'\n",
        "base_7['Agentes'] = base_7.apply(dist_sem_agentes, axis=1)\n",
        "\n",
        "# Base para rateio\n",
        "rateio = base_7.query('Agentes==\"Rateio\"')\n",
        "base_com_agentes = base_7.query('Agentes!=\"Rateio\"')\n",
        "\n",
        "# lista de agentes\n",
        "agentes = ['Bruna', 'Carmen', 'Leonardo', 'Rayane']\n",
        "# Distribuição dos agentes\n",
        "lista_agentes = []\n",
        "x = 0\n",
        "linhas = len(rateio['seller_id'])\n",
        "while (x <= linhas):\n",
        "    for item in agentes:\n",
        "        lista_agentes.append(item)\n",
        "        x+=1\n",
        "# remover agentes \n",
        "remover = len(lista_agentes) - linhas\n",
        "\n",
        "if len(lista_agentes) > linhas:\n",
        "    del lista_agentes[0:remover]\n",
        "else:\n",
        "    lista_agentes\n",
        "\n",
        "# Coluna  Agentes base rateio\n",
        "rateio['Agentes'] = lista_agentes\n",
        "\n",
        "# Concatenação bases\n",
        "base_7 = pd.concat([base_com_agentes, rateio])\n",
        "\n",
        "\n",
        "# Conferência rateio\n",
        "base_agentes = base_7[['seller_id','Agentes']]\n",
        "pd.pivot_table(base_7, index='Agentes', values='seller_id', aggfunc='count').head(7)\n"
      ]
    },
    {
      "cell_type": "code",
      "execution_count": null,
      "metadata": {
        "id": "vop_cPe-xm6l"
      },
      "outputs": [],
      "source": [
        "# Imput na tabela resumo\n",
        "base_9 = base_7.query('nota_final!=0.0')\n",
        "base_9.to_gbq(destination_table='data.Tb_ciclo_pedido_magalu_resumo',project_id=projeto_gcp_2, if_exists='replace')\n"
      ]
    },
    {
      "cell_type": "code",
      "execution_count": null,
      "metadata": {
        "id": "jZZuOSJu0Yf_"
      },
      "outputs": [],
      "source": [
        "# Tabela pedidos atrasados parceiro\n",
        "atrasados_parceiro = base1_pedidos_parceiro.query('Classificação_Pedidos==\"Atrasado\" & Classificação_Pedidos_Seller==\"Pedido Parceiro\"')\n",
        "#atrasados_parceiro['nota_final'] = atrasados_parceiro['nota_final']\n",
        "\n",
        "atrasados_parceiro_agentes = pd.merge(atrasados_parceiro,base_agentes, how='left', on='seller_id' )\n",
        "\n",
        "# Formatação pedidos\n",
        "atrasados_parceiro_agentes['order_id'] = 'LU-' + atrasados_parceiro_agentes['order_id']\n",
        "atrasados_parceiro_agentes['seller_mle'] = \"\"\n",
        "atrasados_parceiro_agentes['tipo_entrega'] = 'Envio parceiro'\n",
        "\n",
        "# Selecionar colunas para impute na tabela\n",
        "atrasados_parceiro_v1 = atrasados_parceiro_agentes[['data_captado',\n",
        "                                                    'order_id', \n",
        "                                                    'seller_id',\n",
        "                                                    'status_maestro',\n",
        "                                                    'data_prometida_entrega',\n",
        "                                                    'entrega_realizada',\n",
        "                                                    'data_entrega',\n",
        "                                                    'entrega_no_prazo',\n",
        "                                                    'seller_mle',\n",
        "                                                    'tipo_entrega',\n",
        "                                                    'Assistido',\n",
        "                                                    'Carteira',\n",
        "                                                    'Mundo',\n",
        "                                                    'Situacao_seller',\n",
        "                                                    'nota_final',\n",
        "                                                    'score',\n",
        "                                                    'status_integra',\n",
        "                                                    'data_expedicao',\n",
        "                                                    'data_aprovacao',\n",
        "                                                    'data_limite_postagem',\n",
        "                                                    'data_limite_postagem_mle',\n",
        "                                                    'Hoje',\n",
        "                                                    'Dias',\n",
        "                                                    'Classificação_Pedidos',\n",
        "                                                    'Classificação_Pedidos_Seller',\n",
        "                                                    'Agentes']]\n",
        "\n",
        "atrasados_parceiro_v1.rename(columns={'Classificação_Pedidos':'Classificacao_Pedidos','Classificação_Pedidos_Seller':'Classificacao_Pedidos_Seller'},inplace=True)\n",
        "atrasados_parceiro_v1.to_gbq(destination_table='data.Tb_ciclo_pedido_atrasado_parceiro',project_id=projeto_gcp_2, if_exists='replace')\n",
        "\n"
      ]
    },
    {
      "cell_type": "code",
      "execution_count": null,
      "metadata": {
        "id": "60gfURoeMn3C"
      },
      "outputs": [],
      "source": [
        "# Tabela pedidos atrasados mle\n",
        "atrasados_mle = base1_pedidos_mle.query('Classificação_Pedidos==\"Atrasado\" & Classificação_Pedidos_Seller==\"Pedido Mle\"')\n",
        "#atrasados_mle['nota_final'] = round(atrasados_mle['nota_final'].astype(float),2)\n",
        "\n",
        "atrasados_mle_agentes = pd.merge(atrasados_mle,base_agentes, how='left', on='seller_id' )\n",
        "\n",
        "# Formatar pedidos\n",
        "atrasados_mle_agentes['order_id'] = 'LU-' + atrasados_mle_agentes['order_id']\n",
        "atrasados_mle_agentes['seller_mle'] = atrasados_mle_agentes['seller_id']\n",
        "atrasados_mle_agentes['tipo_entrega'] = 'Envio MLE'\n",
        "\n",
        "# Selecionar colunas para impute na tabela\n",
        "atrasados_mle_v1 = atrasados_mle_agentes[['data_captado',\n",
        "                                            'order_id', \n",
        "                                            'seller_id',\n",
        "                                            'status_maestro',\n",
        "                                            'data_prometida_entrega',\n",
        "                                            'entrega_realizada',\n",
        "                                            'data_entrega',\n",
        "                                            'entrega_no_prazo',\n",
        "                                            'seller_mle',\n",
        "                                            'opcao_entrega',\n",
        "                                            'Assistido',\n",
        "                                            'Carteira',\n",
        "                                            'Mundo',\n",
        "                                            'Situacao_seller',\n",
        "                                            'nota_final',\n",
        "                                            'score',\n",
        "                                            'status_integra',\n",
        "                                            'data_expedicao',\n",
        "                                            'data_aprovacao',\n",
        "                                            'data_limite_postagem',\n",
        "                                            'data_limite_postagem_mle',\n",
        "                                            'Hoje',\n",
        "                                            'Dias',\n",
        "                                            'Classificação_Pedidos',\n",
        "                                            'Classificação_Pedidos_Seller',\n",
        "                                            'Agentes']]\n",
        "\n",
        "atrasados_mle_v1.rename(columns={'Classificação_Pedidos':'Classificacao_Pedidos','Classificação_Pedidos_Seller':'Classificacao_Pedidos_Seller'},inplace=True)\n",
        "atrasados_mle_v1.to_gbq(destination_table='data.Tb_ciclo_pedido_atrasado_mle',project_id=projeto_gcp_2, if_exists='replace')\n"
      ]
    },
    {
      "cell_type": "code",
      "execution_count": null,
      "metadata": {
        "id": "Z_NGxeTO1xJ0"
      },
      "outputs": [],
      "source": [
        "  # Tabela pedidos pendentes envio parceiro\n",
        "base1_pedidos_parceiro['tipo_entrega'] = 'Envio parceiro'\n",
        "pendentes_envio_parceiro = base1_pedidos_parceiro.query('Classificação_Pedidos==\"Pendente\" & tipo_entrega==\"Envio parceiro\"')\n",
        "\n",
        "\n",
        "#pendentes_envio_parceiro['nota_final'] = round(pendentes_envio_parceiro['nota_final'].astype(float),2)\n",
        "pendentes_envio_parceiro['order_id'] = 'LU-' + pendentes_envio_parceiro['order_id']\n",
        "\n",
        "# Imput tabela pendentes envio parceiro\n",
        "\n",
        "pendentes_envio_parceiro.rename(columns={'Classificação_Pedidos':'Classificacao_Pedidos','Classificação_Pedidos_Seller':'Classificacao_Pedidos_Seller'},inplace=True)\n",
        "pendentes_envio_parceiro.to_gbq(destination_table='data.Tb_ciclo_pedido_pendentes_parceiro',project_id=projeto_gcp_2, if_exists='replace')\n",
        "\n"
      ]
    },
    {
      "cell_type": "code",
      "execution_count": null,
      "metadata": {
        "id": "57rQy6G0otQ9"
      },
      "outputs": [],
      "source": [
        "# Tabela pedidos pendentes envio mle\n",
        "base1_pedidos_mle['tipo_entrega'] = 'Envio MLE'\n",
        "pendentes_envio_mle = base1_pedidos_mle.query('Classificação_Pedidos==\"Pendente\" & status_integra!=\"SHIPPED\" & tipo_entrega==\"Envio MLE\"')\n",
        "\n",
        "#pendentes_envio_mle['nota_final'] = round(pendentes_envio_mle['nota_final'].astype(float),2)\n",
        "pendentes_envio_mle['order_id'] = 'LU-' + pendentes_envio_mle['order_id']\n",
        "\n",
        "# Imput pedidos pendentes envio mle\n",
        "\n",
        "pendentes_envio_mle.rename(columns={'Classificação_Pedidos':'Classificacao_Pedidos','Classificação_Pedidos_Seller':'Classificacao_Pedidos_Seller'},inplace=True)\n",
        "pendentes_envio_mle.to_gbq(destination_table='data.Tb_ciclo_pedido_pendentes_mle',project_id=projeto_gcp_2, if_exists='replace')\n",
        "\n"
      ]
    },
    {
      "cell_type": "code",
      "execution_count": null,
      "metadata": {
        "id": "2blekftANOK3"
      },
      "outputs": [],
      "source": [
        "# Tabela protocolos\n",
        "'''base_protocolos['nota_final'] = round(base_protocolos['nota_final'].astype(float),2)'''\n",
        "#base_protocolos['nota_final'] = round(pd.to_numeric(base_protocolos['nota_final']),2)\n",
        "base_protocolos['order_id'] = 'LU-' + base_protocolos['order_id']\n",
        "\n",
        "# Imput pedidos pendentes envio mle\n",
        "\n",
        "base_protocolos.to_gbq(destination_table='data.Tb_protocolos_magalu',project_id=projeto_gcp_2, if_exists='replace')\n"
      ]
    },
    {
      "cell_type": "code",
      "execution_count": null,
      "metadata": {
        "id": "aQoepuA-NwPv"
      },
      "outputs": [],
      "source": [
        "# Base Fulfillment\n",
        "base_fulfillmente = dados.consulta_bigquery(projeto_gcp_1, query_fulfillment)\n",
        "base_fulfillmente.to_gbq(destination_table='data.Tb_pedidos_fulfillment',project_id=projeto_gcp_2, if_exists='replace')\n",
        "\n"
      ]
    },
    {
      "cell_type": "code",
      "execution_count": null,
      "metadata": {
        "id": "wgYAWVaYwgVy"
      },
      "outputs": [],
      "source": [
        "print(\"Ciclo pedido magalu atualizado!\")\n"
      ]
    },
    {
      "cell_type": "code",
      "execution_count": null,
      "metadata": {
        "id": "dYi53-uFM4Ha"
      },
      "outputs": [],
      "source": [
        "'''\n",
        "# Pedidos processados - Consulta BigQuery\n",
        "# projeto\n",
        "maga_bigdata = 'maga-bigdata'\n",
        "#autenticação e select\n",
        "client = bigquery.Client(project=maga_bigdata)\n",
        "\n",
        "sql= \"\"\"SELECT  \n",
        "                  so.seller_id, cast(DATETIME_ADD(CAST(processado.date AS DATETIME), INTERVAL -3 HOUR)as date) as data_pedido_processado,\n",
        "                  count(distinct so.uuid)  as pedido_processado -- , sum(cast(so.amount as FLOAT64)) as valor_pedido\n",
        "                  FROM maga-bigdata.maestro.order as o\n",
        "                  left join maga-bigdata.maestro.sub_order as so on so.order_uuid = o.uuid\n",
        "                  left join maga-bigdata.maestro.sales_channel as sc on o.sales_channel_id = sc.id\n",
        "                  inner join (SELECT distinct status_id, min(date) as date, sub_order_uuid \n",
        "                           FROM maga-bigdata.maestro.event \n",
        "                           where duplicated = false\n",
        "                           group by status_id,sub_order_uuid) as processado \n",
        "                         on so.uuid = processado.sub_order_uuid and processado.status_id =2\n",
        "                  where so.seller_id <> 'magazineluiza'  \n",
        "                  and sc.organization_uuid = '4da25f48-4193-45de-b4ed-9b8c93b7f987'\n",
        "                  and cast(DATETIME_ADD(CAST(processado.date AS DATETIME), INTERVAL -3 HOUR)as date) between '2021-01-01' and '2022-04-30'\n",
        "                  group by so.seller_id,  cast(DATETIME_ADD(CAST(processado.date AS DATETIME), INTERVAL -3 HOUR)as date)\"\"\"\n",
        "\n",
        "# Select salvo na variavel\n",
        "pedidos_processados_2021 = client.query(sql).to_dataframe().fillna(0)\n",
        "\n",
        "pedidos_processados_2021['data_pedido_processado'] = pd.to_datetime(pedidos_processados_2021['data_pedido_processado'])\n",
        "pedidos_processados_2021['mes'] = pedidos_processados_2021['data_pedido_processado'].dt.month\n",
        "pedidos_processados_2021['ano'] = pedidos_processados_2021['data_pedido_processado'].dt.year\n",
        "dinamica = pd.pivot_table(pedidos_processados_2021, index='seller_id', columns=['ano','mes'], values='pedido_processado', aggfunc='sum').fillna(0)\n",
        "#dinamica.to_csv('/content/drive/MyDrive/dados_pedidos/Magalu/Ciclo_pedido/pedidos_processados_2021.csv')\n",
        "dinamica.head()\n",
        "'''"
      ]
    }
  ],
  "metadata": {
    "colab": {
      "collapsed_sections": [],
      "provenance": [],
      "include_colab_link": true
    },
    "kernelspec": {
      "display_name": "Python 3",
      "name": "python3"
    },
    "language_info": {
      "name": "python"
    }
  },
  "nbformat": 4,
  "nbformat_minor": 0
}