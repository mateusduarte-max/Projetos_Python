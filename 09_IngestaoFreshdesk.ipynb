{
  "cells": [
    {
      "cell_type": "markdown",
      "metadata": {
        "id": "view-in-github",
        "colab_type": "text"
      },
      "source": [
        "<a href=\"https://colab.research.google.com/github/mateusduarte-max/Projetos_Python/blob/main/09_IngestaoFreshdesk.ipynb\" target=\"_parent\"><img src=\"https://colab.research.google.com/assets/colab-badge.svg\" alt=\"Open In Colab\"/></a>"
      ]
    },
    {
      "cell_type": "code",
      "execution_count": null,
      "metadata": {
        "id": "QiTGYHKowY0s",
        "colab": {
          "base_uri": "https://localhost:8080/"
        },
        "outputId": "1fe60c16-ab31-4149-a06c-d2f11ecad696"
      },
      "outputs": [
        {
          "output_type": "stream",
          "name": "stdout",
          "text": [
            "Looking in indexes: https://pypi.org/simple, https://us-python.pkg.dev/colab-wheels/public/simple/\n",
            "Collecting furl\n",
            "  Downloading furl-2.1.3-py2.py3-none-any.whl (20 kB)\n",
            "Collecting orderedmultidict>=1.0.1\n",
            "  Downloading orderedmultidict-1.0.1-py2.py3-none-any.whl (11 kB)\n",
            "Requirement already satisfied: six>=1.8.0 in /usr/local/lib/python3.7/dist-packages (from furl) (1.15.0)\n",
            "Installing collected packages: orderedmultidict, furl\n",
            "Successfully installed furl-2.1.3 orderedmultidict-1.0.1\n",
            "Mounted at /content/drive\n"
          ]
        }
      ],
      "source": [
        "!pip install furl # modulo para trabalhar com url\n",
        "import pandas as pd\n",
        "import json\n",
        "import numpy as np\n",
        "import requests\n",
        "from pandas.io.json import json_normalize\n",
        "import time\n",
        "import datetime\n",
        "from furl import furl\n",
        "import re\n",
        "from google.cloud import bigquery\n",
        "# Bibliotecas Google Golab\n",
        "from google.colab import auth\n",
        "auth.authenticate_user()\n",
        "# Bibliotecas Google Sheet\n",
        "import gspread\n",
        "from google.auth import default\n",
        "creds, _ = default()\n",
        "gc = gspread.authorize(creds)\n",
        "from gspread_dataframe import set_with_dataframe\n",
        "# Montar Drive\n",
        "from google.colab import drive\n",
        "drive.mount('/content/drive')\n",
        "# Modulos \n",
        "!cp /content/drive/MyDrive/Colab_Notebooks/pacotes_modulos/modulos_colab.py /content\n",
        "!cp /content/drive/MyDrive/Colab_Notebooks/Autenticacoes/chaves_tokens.py /content\n",
        "%run chaves_tokens.py\n",
        "# Importar biblioteca biqquery\n",
        "from modulos_colab import dados\n"
      ]
    },
    {
      "cell_type": "markdown",
      "metadata": {
        "id": "ypYnDBRul8mj"
      },
      "source": [
        "Chave Autenticação API\n"
      ]
    },
    {
      "cell_type": "code",
      "execution_count": null,
      "metadata": {
        "id": "s_hI3y-IwfRJ"
      },
      "outputs": [],
      "source": [
        "# Autenticações Freshdesk\n",
        "#desk = 'donatelo.freshdesk.com'\n",
        "#desk_URL = 'https://' + desk\n",
        "#cat_query = requests.get(desk_URL + \"/api/v2/tickets?filter=new_and_my_open\", \n",
        "#                         auth = auth_deets).json()\n",
        "\n",
        "#df = pd.DataFrame()\n",
        "#objects = json_normalize(cat_query)\n",
        "#df = df.append(objects, ignore_index = True)\n",
        "\n",
        "# Chave API Freshdesk\n",
        "auth_deets = (chave_api_freshdesk, 'x')"
      ]
    },
    {
      "cell_type": "markdown",
      "metadata": {
        "id": "Bt4XxmmPllJe"
      },
      "source": [
        "Ingestão: Grupos, Agentes e Sellers"
      ]
    },
    {
      "cell_type": "code",
      "execution_count": null,
      "metadata": {
        "id": "MDkdPS2IIYNM",
        "colab": {
          "base_uri": "https://localhost:8080/"
        },
        "outputId": "4fd84a1c-29cd-4474-dc41-be0f191aee8f"
      },
      "outputs": [
        {
          "output_type": "stream",
          "name": "stderr",
          "text": [
            "/usr/local/lib/python3.7/dist-packages/ipykernel_launcher.py:17: FutureWarning: pandas.io.json.json_normalize is deprecated, use pandas.json_normalize instead\n",
            "1it [00:06,  6.64s/it]\n",
            "1it [00:06,  6.07s/it]\n",
            "1it [00:15, 15.34s/it]\n"
          ]
        }
      ],
      "source": [
        "# Ingestão BigQuery Grupos, Angentes e Sellers\n",
        "\n",
        "# Função para extrair dados API - FreshDesk\n",
        "def data_extraction(endpoint, url):\n",
        "    \"\"\"A função chama uma API dependendo do endpoint, salva o resultado que posteriormente é mesclado com as tabelas relevantes\"\"\"\n",
        "    i = 1\n",
        "    page_num = 300 #the max number of pages allowded\n",
        "    #initiating empty dataframe\n",
        "    df = pd.DataFrame()\n",
        "    while i <= page_num:\n",
        "        param = { 'page': i, 'per_page': 100}\n",
        "        formatted_url = furl(url).add(param).url\n",
        "        #r = requests.get(desk_URL + \"/api/v2/tickets?filter=new_and_my_open\", auth = auth_deets)\n",
        "        r = requests.get(formatted_url, auth =auth_deets)\n",
        "        if r.status_code == 200:\n",
        "            response = r.json()\n",
        "            objects = json_normalize(response) #parsing json\n",
        "            df = df.append(objects, ignore_index = True) #appending the records\n",
        "            df.fillna(value = '', inplace = True) #replacing NA with empty values\n",
        "            df.columns\n",
        "            for c in df.columns:\n",
        "                df[c] = df[c].astype(str).str.strip('[') #substituindo colchetes por nada\n",
        "                df[c] = df[c].astype(str).str.strip(']')                \n",
        "            if endpoint == 'tickets':\n",
        "                col = ['created_at', 'updated_at', 'due_by'] #alterando o tipo de dados para datas, pois o tipo de dados padrão é objeto \n",
        "                for cols in col:\n",
        "                    df[cols] = pd.to_datetime(df[cols]) \n",
        "            else: \n",
        "                col = ['created_at', 'updated_at']\n",
        "                for cols in col:\n",
        "                    df[cols] = pd.to_datetime(df[cols])                 \n",
        "            i += 1        \n",
        "            time.sleep(2)  \n",
        "        else:\n",
        "          print(\"Falha ao ler os tickets, os erros são exibidos abaixo,\")\n",
        "          response = json.loads(r.content)\n",
        "          print(response[\"errors\"])   \n",
        "    # Saída dataframe\n",
        "    return df\n",
        "        \n",
        "# Instanciar função        \n",
        "groups = data_extraction('groups','https://donatelo.freshdesk.com/api/v2/groups')\n",
        "agents = data_extraction('agents','https://donatelo.freshdesk.com/api/v2/agents')\n",
        "companies = data_extraction('companies','https://donatelo.freshdesk.com/api/v2/companies')\n",
        "\n",
        "# Tabela Groups\n",
        "groups.to_gbq(destination_table='marketplace_analytics.freshdesk_groups',project_id=projeto_gcp_1, if_exists='replace')\n",
        "\n",
        "# Tabela Agentes\n",
        "agents.rename(columns={'contact.active':'contact_active',\n",
        "                       'contact.email':'contact_email',\n",
        "                       'contact.job_title':'contact_job_title',\n",
        "                       'contact.language':'contact_language',\n",
        "                       'contact.mobile':'contact_mobile',\n",
        "                       'contact.name':'contact_name',\n",
        "                       'contact.phone':'contact_phone',\n",
        "                       'contact.time_zone':'contact_time_zone',\n",
        "                       'contact.created_at':'contact_created_at',\n",
        "                        'contact.updated_at':'contact_updated_at',\n",
        "                        'contact.avatar.id':'contact_avatar_id',\n",
        "                        'contact.avatar.name':'contact_avatar_name',\n",
        "                        'contact.avatar.content_type':'contact_avatar_content_type',\n",
        "                        'contact.avatar.size':'contact_avatar_size',\n",
        "                        'contact.avatar.created_at':'contact_avatar_created_at',\n",
        "                        'contact.avatar.updated_at':'contact_avatar_updated_at',\n",
        "                        'contact.avatar.attachment_url':'contact_avatar_attachment_url',\n",
        "                        'contact.avatar.thumb_url':'contact_avatar_thumb_url',\n",
        "                        'contact.last_login_at':'contact_last_login_at'}, inplace=True)\n",
        "\n",
        "agents.to_gbq(destination_table='marketplace_analytics.freshdesk_agentes',project_id=projeto_gcp_1, if_exists='replace')\n",
        "\n",
        "# Tabela Companies\n",
        "companies.rename(columns={'custom_fields.erp':'custom_fields_erp',\n",
        "                          'custom_fields.cnpj':'custom_fields_cnpj'}, inplace=True)\n",
        "companies.to_gbq(destination_table='marketplace_analytics.freshdesk_companies',project_id=projeto_gcp_1, if_exists='replace')\n"
      ]
    },
    {
      "cell_type": "markdown",
      "metadata": {
        "id": "F_HfMLXulwNN"
      },
      "source": [
        "Ingestão Dados: Csat, Tickets"
      ]
    },
    {
      "cell_type": "code",
      "execution_count": null,
      "metadata": {
        "id": "2wjcb3ADwlpW",
        "colab": {
          "base_uri": "https://localhost:8080/"
        },
        "outputId": "cf6d22a3-f33b-488d-cdde-823390e12778"
      },
      "outputs": [
        {
          "output_type": "stream",
          "name": "stderr",
          "text": [
            "/usr/local/lib/python3.7/dist-packages/ipykernel_launcher.py:14: FutureWarning: pandas.io.json.json_normalize is deprecated, use pandas.json_normalize instead\n",
            "  \n"
          ]
        }
      ],
      "source": [
        "# Função para extrair dados API - FreshDesk\n",
        "def data_extraction(endpoint, url):\n",
        "    \"\"\"A função chama uma API dependendo do endpoint, salva o resultado que posteriormente é mesclado com as tabelas relevantes\"\"\"\n",
        "    i = 1\n",
        "    page_num = 300 #the max number of pages allowded\n",
        "    #initiating empty dataframe\n",
        "    df = pd.DataFrame()\n",
        "    while i <= page_num:\n",
        "        param = { 'page': i, 'per_page': 100}\n",
        "        formatted_url = furl(url).add(param).url\n",
        "        r = requests.get(formatted_url, auth=auth_deets)\n",
        "        if r.status_code == 200:\n",
        "            response = r.json()\n",
        "            objects = json_normalize(response) #parsing json\n",
        "            df = df.append(objects, ignore_index = True) #appending the records\n",
        "            df.fillna(value = '', inplace = True) #replacing NA with empty values\n",
        "            df.columns\n",
        "            for c in df.columns:\n",
        "                df[c] = df[c].astype(str).str.strip('[') #substituindo colchetes por nada\n",
        "                df[c] = df[c].astype(str).str.strip(']')                \n",
        "            if endpoint == 'tickets':\n",
        "                col = ['created_at', 'updated_at', 'due_by'] #alterando o tipo de dados para datas, pois o tipo de dados padrão é objeto \n",
        "                for cols in col:\n",
        "                    df[cols] = pd.to_datetime(df[cols]) \n",
        "            else: \n",
        "                col = ['created_at', 'updated_at']\n",
        "                for cols in col:\n",
        "                    df[cols] = pd.to_datetime(df[cols])                 \n",
        "            i += 1        \n",
        "            time.sleep(2)  \n",
        "        else:\n",
        "          print(\"Falha ao ler os tickets, os erros são exibidos abaixo,\")\n",
        "          response = json.loads(r.content)\n",
        "          print(response[\"errors\"])   \n",
        "    # Saída dataframe\n",
        "    return df\n",
        "        \n",
        "\n",
        "#tickets = data_extraction('tickets','https://donatelo.freshdesk.com/api/v2/tickets?updated_since=2022-03-31T02:00:00Z')\n",
        "#tickets = data_extraction('tickets','https://donatelo.freshdesk.com//api/v2/search/tickets?query=\"status:3\"')\n",
        "#status = data_extraction('tickets','https://donatelo.freshdesk.com/api/v2/search/tickets?query=\"priority:4%20OR%20priority:3\"')\n",
        "csat = data_extraction('surveys','https://donatelo.freshdesk.com/api/v2/surveys/satisfaction_ratings?created_since=2022-06-01T02:00:00Z')\n",
        "\n"
      ]
    },
    {
      "cell_type": "code",
      "execution_count": null,
      "metadata": {
        "id": "icEvI3o0wE30",
        "colab": {
          "base_uri": "https://localhost:8080/"
        },
        "outputId": "100e45c4-08bd-4225-c8c4-b3a24164a039"
      },
      "outputs": [
        {
          "output_type": "stream",
          "name": "stderr",
          "text": [
            "1it [00:06,  6.28s/it]\n",
            "1it [00:03,  3.78s/it]"
          ]
        },
        {
          "output_type": "stream",
          "name": "stdout",
          "text": [
            "Csat Atualizado!\n"
          ]
        },
        {
          "output_type": "stream",
          "name": "stderr",
          "text": [
            "\n"
          ]
        }
      ],
      "source": [
        "# Análise Csat\n",
        "csat['created_at'] = csat['created_at'].astype(object)\n",
        "csat['created_at'] = pd.to_datetime(csat['created_at'], format='%Y%m%d')\n",
        "csat['mes_criacao'] = csat['created_at'].dt.month\n",
        "csat.rename(columns={'ratings.default_question':'ratings_csat',\n",
        "                     'ratings.question_22000050441':'ratings_ces'}, inplace=True)\n",
        "\n",
        "def ajuste_agent_id(csat):\n",
        "    return csat['agent_id'][0:11]\n",
        "csat['agent_id'] = csat.apply(ajuste_agent_id, axis=1)\n",
        "\n",
        "#marco_2022 = csat.query('mes_criacao==3')\n",
        "#abril_2022 = csat.query('mes_criacao==4')\n",
        "#maio_2022 = csat.query('mes_criacao==5')\n",
        "junho_2022 = csat.query('mes_criacao==6')\n",
        "\n",
        "junho_2022_bigquery = junho_2022[['id','survey_id', 'user_id', 'agent_id', 'feedback','group_id', 'ticket_id', 'created_at', 'updated_at', 'ratings_csat', 'ratings_ces']]\n",
        "#maio_2022_bigquery = maio_2022[['id','survey_id', 'user_id', 'agent_id', 'feedback','group_id', 'ticket_id', 'created_at', 'updated_at', 'ratings_csat', 'ratings_ces']]\n",
        "# Ingestão BigQuery\n",
        "junho_2022_bigquery.to_gbq(destination_table='marketplace_analytics.freshdesk_csat_ces_temp',project_id=projeto_gcp_1, if_exists='replace')\n",
        "#maio_2022_bigquery.to_gbq(destination_table='marketplace_analytics.freshdesk_csat_ces',project_id= projeto_gcp_1, if_exists='append')\n",
        "\n",
        "\n",
        "\n",
        "#janeiro_2022 = csat.query('mes_criacao==1')\n",
        "#fevereiro_2022 = csat.query('mes_criacao==2')\n",
        "#janeiro_fevereiro_2022 = pd.concat([janeiro_2022,fevereiro_2022])\n",
        "\n",
        "#def ajuste_agent_id(janeiro_fevereiro_2022):\n",
        "#    return janeiro_fevereiro_2022['agent_id'][0:11]\n",
        "\n",
        "#janeiro_fevereiro_2022['agent_id'] = janeiro_fevereiro_2022.apply(ajuste_agent_id, axis=1)\n",
        "#janeiro_fevereiro_2022_bigQuery = janeiro_fevereiro_2022[['id','survey_id', 'user_id', 'agent_id', 'feedback','group_id', 'ticket_id', 'created_at', 'updated_at', 'ratings_csat', 'ratings_ces']]\n",
        "#janeiro_fevereiro_2022_bigQuery.to_gbq(destination_table='marketplace_analytics.freshdesk_csat_ces',project_id='maga-bigdata', if_exists='replace')\n",
        "#janeiro_fevereiro_2022.head()\n",
        "\n",
        "\n",
        "print('Csat Atualizado!')\n"
      ]
    },
    {
      "cell_type": "code",
      "execution_count": null,
      "metadata": {
        "id": "m8KgeXm3iN0w"
      },
      "outputs": [],
      "source": [
        "# Select Csat Fresdesk BigQuery\n",
        "\n",
        "\"\"\"\n",
        "WITH total AS (\n",
        "    select * from `maga-bigdata.marketplace_analytics.freshdesk_csat_ces`\n",
        "    union all\n",
        "    select * from `maga-bigdata.marketplace_analytics.freshdesk_csat_ces_temp`\n",
        "),\n",
        "agentes AS (\n",
        "    select * from `maga-bigdata.marketplace_analytics.freshdesk_agentes`\n",
        "),\n",
        "grupos AS (\n",
        "     select * from `maga-bigdata.marketplace_analytics.freshdesk_groups`\n",
        ")\n",
        "SELECT\n",
        "    cast(DATETIME_ADD(CAST(total.created_at AS DATETIME), INTERVAL -3 HOUR) as date) as created_at, \n",
        "    cast(DATETIME_ADD(CAST(total.updated_at AS DATETIME), INTERVAL -3 HOUR) as date) as updated_at, \n",
        "    --total.created_at,\n",
        "    --total.updated_at,\n",
        "    total.ratings_csat,\n",
        "    total.ratings_ces,\n",
        "    total.ticket_id,\n",
        "    total.feedback,\n",
        "    agentes.contact_name,\n",
        "    agentes.contact_email,\n",
        "    grupos.name as grupo,\n",
        "    case\n",
        "        when total.ratings_csat = '103' then 'Extremamente Feliz'\n",
        "        when total.ratings_csat = '102' then 'Feliz'\n",
        "        when total.ratings_csat = '101' then 'Feliz'\n",
        "        when total.ratings_csat = '100' then 'Neutro'\n",
        "        when total.ratings_csat = '-101' then 'Infeliz'\n",
        "        when total.ratings_csat = '-102' then 'Infeliz'\n",
        "        when total.ratings_csat = '-103' then 'Extremanente Infeliz'\n",
        "        else ('nulo')\n",
        "        end as nota_csat,\n",
        "    case\n",
        "        when total.ratings_ces = '103.0' then 'Muito Fácil'\n",
        "        when total.ratings_ces = '102.0' then 'Fácil'\n",
        "        when total.ratings_ces = '101.0' then 'Fácil'\n",
        "        when total.ratings_ces = '100.0' then 'Nem fácil, nem dificil'\n",
        "        when total.ratings_ces = '-101.0' then 'dificil'\n",
        "        when total.ratings_ces = '-102.0' then 'dificil'\n",
        "        when total.ratings_ces = '-103.0' then 'Muito dificil'\n",
        "        else ('nulo')\n",
        "        end as nota_ces\n",
        "FROM total\n",
        "    left join agentes on agentes.id = total.agent_id\n",
        "    left join grupos on grupos.id = total.group_id\n",
        "    \n",
        "\"\"\""
      ]
    },
    {
      "cell_type": "markdown",
      "metadata": {
        "id": "EeKUmlPzjgRC"
      },
      "source": [
        ""
      ]
    }
  ],
  "metadata": {
    "colab": {
      "collapsed_sections": [],
      "name": "09_IngestaoFreshdesk.ipynb",
      "provenance": [],
      "authorship_tag": "ABX9TyNFHcWFL2oTPjpag3EN3XQl",
      "include_colab_link": true
    },
    "kernelspec": {
      "display_name": "Python 3",
      "name": "python3"
    },
    "language_info": {
      "name": "python"
    }
  },
  "nbformat": 4,
  "nbformat_minor": 0
}