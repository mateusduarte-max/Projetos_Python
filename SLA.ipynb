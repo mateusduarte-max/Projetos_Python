{
  "nbformat": 4,
  "nbformat_minor": 0,
  "metadata": {
    "colab": {
      "name": "SLA.ipynb",
      "provenance": [],
      "mount_file_id": "1f7W0OxLrVQO1LKpLeDgO613B5--FPeFv",
      "authorship_tag": "ABX9TyM1HZoSc3hMCsQZbyvhtfj9",
      "include_colab_link": true
    },
    "kernelspec": {
      "name": "python3",
      "display_name": "Python 3"
    }
  },
  "cells": [
    {
      "cell_type": "markdown",
      "metadata": {
        "id": "view-in-github",
        "colab_type": "text"
      },
      "source": [
        "<a href=\"https://colab.research.google.com/github/mateusduarte-max/Projetos_Python/blob/main/SLA.ipynb\" target=\"_parent\"><img src=\"https://colab.research.google.com/assets/colab-badge.svg\" alt=\"Open In Colab\"/></a>"
      ]
    },
    {
      "cell_type": "code",
      "metadata": {
        "id": "LcDGcDEbqqQT"
      },
      "source": [
        "# Importe de Bibliotecas\r\n",
        "import pandas as pd\r\n",
        "\r\n",
        "# Bibliotecas Google Golab\r\n",
        "from gspread_dataframe import set_with_dataframe\r\n",
        "from google.colab import auth\r\n",
        "auth.authenticate_user()\r\n",
        "# Bibliotecas Google Sheet\r\n",
        "import gspread\r\n",
        "from oauth2client.client import GoogleCredentials\r\n",
        "# Autenticação Final\r\n",
        "gc = gspread.authorize(GoogleCredentials.get_application_default())\r\n"
      ],
      "execution_count": 35,
      "outputs": []
    },
    {
      "cell_type": "code",
      "metadata": {
        "colab": {
          "base_uri": "https://localhost:8080/",
          "height": 204
        },
        "id": "T24WpqSurK2w",
        "outputId": "cdc2096e-3a22-4b5c-9842-938941f58c8d"
      },
      "source": [
        "# Importe de base \r\n",
        "base = pd.read_csv('/content/drive/MyDrive/LuizaResolve/Dados_Colab/base_sla.csv', sep=';', usecols=['Ticket group', 'Ticket ID', 'Breached SLA tickets'])\r\n",
        "base.rename(columns={'Breached SLA tickets':'SLA em Atraso'}, inplace = True)\r\n",
        "base.head()"
      ],
      "execution_count": 25,
      "outputs": [
        {
          "output_type": "execute_result",
          "data": {
            "text/html": [
              "<div>\n",
              "<style scoped>\n",
              "    .dataframe tbody tr th:only-of-type {\n",
              "        vertical-align: middle;\n",
              "    }\n",
              "\n",
              "    .dataframe tbody tr th {\n",
              "        vertical-align: top;\n",
              "    }\n",
              "\n",
              "    .dataframe thead th {\n",
              "        text-align: right;\n",
              "    }\n",
              "</style>\n",
              "<table border=\"1\" class=\"dataframe\">\n",
              "  <thead>\n",
              "    <tr style=\"text-align: right;\">\n",
              "      <th></th>\n",
              "      <th>Ticket group</th>\n",
              "      <th>Ticket ID</th>\n",
              "      <th>SLA em Atraso</th>\n",
              "    </tr>\n",
              "  </thead>\n",
              "  <tbody>\n",
              "    <tr>\n",
              "      <th>0</th>\n",
              "      <td>NaN</td>\n",
              "      <td>9349018</td>\n",
              "      <td>0.0</td>\n",
              "    </tr>\n",
              "    <tr>\n",
              "      <th>1</th>\n",
              "      <td>NaN</td>\n",
              "      <td>9465354</td>\n",
              "      <td>0.0</td>\n",
              "    </tr>\n",
              "    <tr>\n",
              "      <th>2</th>\n",
              "      <td>NaN</td>\n",
              "      <td>9742998</td>\n",
              "      <td>0.0</td>\n",
              "    </tr>\n",
              "    <tr>\n",
              "      <th>3</th>\n",
              "      <td>NaN</td>\n",
              "      <td>9949579</td>\n",
              "      <td>0.0</td>\n",
              "    </tr>\n",
              "    <tr>\n",
              "      <th>4</th>\n",
              "      <td>NaN</td>\n",
              "      <td>9952847</td>\n",
              "      <td>0.0</td>\n",
              "    </tr>\n",
              "  </tbody>\n",
              "</table>\n",
              "</div>"
            ],
            "text/plain": [
              "  Ticket group  Ticket ID  SLA em Atraso\n",
              "0          NaN    9349018            0.0\n",
              "1          NaN    9465354            0.0\n",
              "2          NaN    9742998            0.0\n",
              "3          NaN    9949579            0.0\n",
              "4          NaN    9952847            0.0"
            ]
          },
          "metadata": {
            "tags": []
          },
          "execution_count": 25
        }
      ]
    },
    {
      "cell_type": "code",
      "metadata": {
        "colab": {
          "base_uri": "https://localhost:8080/",
          "height": 204
        },
        "id": "wbSPDdcsYWmm",
        "outputId": "0b9e5bfb-8e45-483c-fbe6-0f1693b62efb"
      },
      "source": [
        "responsavel = pd.read_excel('/content/drive/MyDrive/LuizaResolve/Dados_Colab/SLA_10.02.xlsx', usecols=['Grupo de tickets', 'Responsavel'])\r\n",
        "responsavel.rename(columns={'Grupo de tickets':'Ticket group'}, inplace = True)\r\n",
        "responsavel.head()"
      ],
      "execution_count": 36,
      "outputs": [
        {
          "output_type": "execute_result",
          "data": {
            "text/html": [
              "<div>\n",
              "<style scoped>\n",
              "    .dataframe tbody tr th:only-of-type {\n",
              "        vertical-align: middle;\n",
              "    }\n",
              "\n",
              "    .dataframe tbody tr th {\n",
              "        vertical-align: top;\n",
              "    }\n",
              "\n",
              "    .dataframe thead th {\n",
              "        text-align: right;\n",
              "    }\n",
              "</style>\n",
              "<table border=\"1\" class=\"dataframe\">\n",
              "  <thead>\n",
              "    <tr style=\"text-align: right;\">\n",
              "      <th></th>\n",
              "      <th>Ticket group</th>\n",
              "      <th>Responsavel</th>\n",
              "    </tr>\n",
              "  </thead>\n",
              "  <tbody>\n",
              "    <tr>\n",
              "      <th>0</th>\n",
              "      <td>NaN</td>\n",
              "      <td>NaN</td>\n",
              "    </tr>\n",
              "    <tr>\n",
              "      <th>1</th>\n",
              "      <td>[GIBA] Entrega Atrasada - Marketplace</td>\n",
              "      <td>NaN</td>\n",
              "    </tr>\n",
              "    <tr>\n",
              "      <th>2</th>\n",
              "      <td>Análise de Exceção</td>\n",
              "      <td>Marina Cruz</td>\n",
              "    </tr>\n",
              "    <tr>\n",
              "      <th>3</th>\n",
              "      <td>Análise de Refaturamento</td>\n",
              "      <td>Marina Cruz</td>\n",
              "    </tr>\n",
              "    <tr>\n",
              "      <th>4</th>\n",
              "      <td>Análise de Refaturamento Filial</td>\n",
              "      <td>Marina Cruz</td>\n",
              "    </tr>\n",
              "  </tbody>\n",
              "</table>\n",
              "</div>"
            ],
            "text/plain": [
              "                            Ticket group  Responsavel\n",
              "0                                    NaN          NaN\n",
              "1  [GIBA] Entrega Atrasada - Marketplace          NaN\n",
              "2                     Análise de Exceção  Marina Cruz\n",
              "3               Análise de Refaturamento  Marina Cruz\n",
              "4        Análise de Refaturamento Filial  Marina Cruz"
            ]
          },
          "metadata": {
            "tags": []
          },
          "execution_count": 36
        }
      ]
    },
    {
      "cell_type": "code",
      "metadata": {
        "colab": {
          "base_uri": "https://localhost:8080/",
          "height": 204
        },
        "id": "kXMr-OqSY1Uf",
        "outputId": "7b9bb798-47c5-41e6-cf50-502cf461511f"
      },
      "source": [
        "base_geral = base.merge(responsavel, how='left', on='Ticket group')\r\n",
        "base_geral.tail()"
      ],
      "execution_count": 37,
      "outputs": [
        {
          "output_type": "execute_result",
          "data": {
            "text/html": [
              "<div>\n",
              "<style scoped>\n",
              "    .dataframe tbody tr th:only-of-type {\n",
              "        vertical-align: middle;\n",
              "    }\n",
              "\n",
              "    .dataframe tbody tr th {\n",
              "        vertical-align: top;\n",
              "    }\n",
              "\n",
              "    .dataframe thead th {\n",
              "        text-align: right;\n",
              "    }\n",
              "</style>\n",
              "<table border=\"1\" class=\"dataframe\">\n",
              "  <thead>\n",
              "    <tr style=\"text-align: right;\">\n",
              "      <th></th>\n",
              "      <th>Ticket group</th>\n",
              "      <th>Ticket ID</th>\n",
              "      <th>SLA em Atraso</th>\n",
              "      <th>Responsavel</th>\n",
              "    </tr>\n",
              "  </thead>\n",
              "  <tbody>\n",
              "    <tr>\n",
              "      <th>106057</th>\n",
              "      <td>Área de Risco</td>\n",
              "      <td>25117845</td>\n",
              "      <td>0.0</td>\n",
              "      <td>Rafael Orlando</td>\n",
              "    </tr>\n",
              "    <tr>\n",
              "      <th>106058</th>\n",
              "      <td>Área de Risco</td>\n",
              "      <td>25120026</td>\n",
              "      <td>0.0</td>\n",
              "      <td>Rafael Orlando</td>\n",
              "    </tr>\n",
              "    <tr>\n",
              "      <th>106059</th>\n",
              "      <td>Área de Risco</td>\n",
              "      <td>25121049</td>\n",
              "      <td>0.0</td>\n",
              "      <td>Rafael Orlando</td>\n",
              "    </tr>\n",
              "    <tr>\n",
              "      <th>106060</th>\n",
              "      <td>Área de Risco</td>\n",
              "      <td>25121084</td>\n",
              "      <td>0.0</td>\n",
              "      <td>Rafael Orlando</td>\n",
              "    </tr>\n",
              "    <tr>\n",
              "      <th>106061</th>\n",
              "      <td>Áreas</td>\n",
              "      <td>24525978</td>\n",
              "      <td>1.0</td>\n",
              "      <td>NaN</td>\n",
              "    </tr>\n",
              "  </tbody>\n",
              "</table>\n",
              "</div>"
            ],
            "text/plain": [
              "         Ticket group  Ticket ID  SLA em Atraso      Responsavel\n",
              "106057  Área de Risco   25117845            0.0  Rafael Orlando \n",
              "106058  Área de Risco   25120026            0.0  Rafael Orlando \n",
              "106059  Área de Risco   25121049            0.0  Rafael Orlando \n",
              "106060  Área de Risco   25121084            0.0  Rafael Orlando \n",
              "106061          Áreas   24525978            1.0              NaN"
            ]
          },
          "metadata": {
            "tags": []
          },
          "execution_count": 37
        }
      ]
    },
    {
      "cell_type": "code",
      "metadata": {
        "colab": {
          "base_uri": "https://localhost:8080/",
          "height": 204
        },
        "id": "_BMx6a49wTgJ",
        "outputId": "5831e871-b096-4a36-91d9-26cb83d232bf"
      },
      "source": [
        "base_filtrada = base_geral[base_geral['SLA em Atraso'] >= 1.0]\r\n",
        "base_filtrada.tail()"
      ],
      "execution_count": 38,
      "outputs": [
        {
          "output_type": "execute_result",
          "data": {
            "text/html": [
              "<div>\n",
              "<style scoped>\n",
              "    .dataframe tbody tr th:only-of-type {\n",
              "        vertical-align: middle;\n",
              "    }\n",
              "\n",
              "    .dataframe tbody tr th {\n",
              "        vertical-align: top;\n",
              "    }\n",
              "\n",
              "    .dataframe thead th {\n",
              "        text-align: right;\n",
              "    }\n",
              "</style>\n",
              "<table border=\"1\" class=\"dataframe\">\n",
              "  <thead>\n",
              "    <tr style=\"text-align: right;\">\n",
              "      <th></th>\n",
              "      <th>Ticket group</th>\n",
              "      <th>Ticket ID</th>\n",
              "      <th>SLA em Atraso</th>\n",
              "      <th>Responsavel</th>\n",
              "    </tr>\n",
              "  </thead>\n",
              "  <tbody>\n",
              "    <tr>\n",
              "      <th>105968</th>\n",
              "      <td>Área de Risco</td>\n",
              "      <td>24926710</td>\n",
              "      <td>1.0</td>\n",
              "      <td>Rafael Orlando</td>\n",
              "    </tr>\n",
              "    <tr>\n",
              "      <th>105970</th>\n",
              "      <td>Área de Risco</td>\n",
              "      <td>24929104</td>\n",
              "      <td>1.0</td>\n",
              "      <td>Rafael Orlando</td>\n",
              "    </tr>\n",
              "    <tr>\n",
              "      <th>105971</th>\n",
              "      <td>Área de Risco</td>\n",
              "      <td>24938600</td>\n",
              "      <td>1.0</td>\n",
              "      <td>Rafael Orlando</td>\n",
              "    </tr>\n",
              "    <tr>\n",
              "      <th>105980</th>\n",
              "      <td>Área de Risco</td>\n",
              "      <td>25003869</td>\n",
              "      <td>1.0</td>\n",
              "      <td>Rafael Orlando</td>\n",
              "    </tr>\n",
              "    <tr>\n",
              "      <th>106061</th>\n",
              "      <td>Áreas</td>\n",
              "      <td>24525978</td>\n",
              "      <td>1.0</td>\n",
              "      <td>NaN</td>\n",
              "    </tr>\n",
              "  </tbody>\n",
              "</table>\n",
              "</div>"
            ],
            "text/plain": [
              "         Ticket group  Ticket ID  SLA em Atraso      Responsavel\n",
              "105968  Área de Risco   24926710            1.0  Rafael Orlando \n",
              "105970  Área de Risco   24929104            1.0  Rafael Orlando \n",
              "105971  Área de Risco   24938600            1.0  Rafael Orlando \n",
              "105980  Área de Risco   25003869            1.0  Rafael Orlando \n",
              "106061          Áreas   24525978            1.0              NaN"
            ]
          },
          "metadata": {
            "tags": []
          },
          "execution_count": 38
        }
      ]
    },
    {
      "cell_type": "code",
      "metadata": {
        "id": "dJ0ALPmTf42Y"
      },
      "source": [
        "# Abrir planilha e primeira aba\r\n",
        "pagina = gc.open('Base_Sla_DataStudio').sheet1\r\n",
        "# Limpar a aba\r\n",
        "pagina.clear()\r\n",
        "# Importar dataframe na planilha\r\n",
        "set_with_dataframe(pagina, base_filtrada)\r\n"
      ],
      "execution_count": 49,
      "outputs": []
    },
    {
      "cell_type": "code",
      "metadata": {
        "id": "EkJ_hpxhoHkT"
      },
      "source": [
        ""
      ],
      "execution_count": null,
      "outputs": []
    }
  ]
}