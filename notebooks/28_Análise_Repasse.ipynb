{
  "cells": [
    {
      "cell_type": "code",
      "execution_count": null,
      "metadata": {
        "colab": {
          "base_uri": "https://localhost:8080/"
        },
        "id": "smVX5eEgMEx3",
        "outputId": "0a082ba8-d0c9-49eb-85c9-9f7f76d3b5ca"
      },
      "outputs": [
        {
          "name": "stdout",
          "output_type": "stream",
          "text": [
            "Mounted at /content/drive\n"
          ]
        }
      ],
      "source": [
        "import pandas as pd\n",
        "# Importar biblioteca biqquery\n",
        "from google.cloud import bigquery\n",
        "\n",
        "# Bibliotecas Google Sheet\n",
        "from google.colab import auth\n",
        "auth.authenticate_user()\n",
        "import gspread\n",
        "from google.auth import default\n",
        "creds, _ = default()\n",
        "gc = gspread.authorize(creds)\n",
        "from gspread_dataframe import set_with_dataframe\n",
        "\n",
        "# Montar Drive\n",
        "from google.colab import drive\n",
        "drive.mount('/content/drive')\n",
        "\n",
        "# Classe dados \n",
        "!cp /content/drive/MyDrive/Colab_Notebooks/pacotes_modulos/modulos_colab.py /content\n",
        "from modulos_colab import dados\n",
        "# Chaves e tokens\n",
        "!cp /content/drive/MyDrive/Colab_Notebooks/Autenticacoes/chaves_tokens.py /content\n",
        "%run chaves_tokens.py\n"
      ]
    },
    {
      "attachments": {},
      "cell_type": "markdown",
      "metadata": {
        "id": "dRh6zMt3PxfL"
      },
      "source": [
        "# Relatório Repasse"
      ]
    },
    {
      "cell_type": "code",
      "execution_count": null,
      "metadata": {
        "colab": {
          "base_uri": "https://localhost:8080/"
        },
        "id": "jbvcvadGlVgB",
        "outputId": "1a7d983e-7edc-4bd3-ffaf-25bbee9cd285"
      },
      "outputs": [
        {
          "name": "stdout",
          "output_type": "stream",
          "text": [
            "Tabela Atualizada!\n"
          ]
        }
      ],
      "source": [
        "rel_repasse_1 = pd.read_excel('/content/repasse-adidas-2023-05-20-2023-05-26.xlsx')\n",
        "#rel_repasse_2 = pd.read_excel('/content/repasse-adidas-14032023-2.xlsx')\n",
        "rel_repasse_total = pd.concat([rel_repasse_1])\n",
        "rel_repasse_total['% Serviços de Marketplace'] = round((rel_repasse_total['% Serviços de Marketplace']/100),3)\n",
        "\n",
        "\n",
        "rel_repasse_estorno = rel_repasse_total.query(\"`Método de pagamento`=='Estorno'\")\n",
        "\n",
        "\n",
        "\n",
        "din_rel_repasse_estorno = pd.DataFrame(pd.pivot_table(rel_repasse_estorno, index='ID do pedido Seller', values='Valor líquido da parcela', aggfunc='sum'))\n",
        "din_rel_repasse_estorno.reset_index(inplace=True)\n",
        "din_rel_repasse_estorno.rename(columns={'Valor líquido da parcela':'Estorno todas parcelas'}, inplace=True)\n",
        "\n",
        "\n",
        "repasse_final = pd.merge(rel_repasse_total, din_rel_repasse_estorno, how='left', on='ID do pedido Seller')\n",
        "\n",
        "\n",
        "def calculo_ajuste_todas_parcelas(repasse_final):\n",
        "    if repasse_final['Método de pagamento'] == 'Estorno':\n",
        "        return repasse_final['Estorno todas parcelas']\n",
        "    else:\n",
        "        return 0.00\n",
        "repasse_final['Estorno todas parcelas'] = repasse_final.apply(calculo_ajuste_todas_parcelas, axis=1)\n",
        "\n",
        "\n",
        "\n",
        "def calculo_produto(repasse_final):\n",
        "    if repasse_final['Método de pagamento'] == 'Estorno':\n",
        "        return round((repasse_final['Estorno todas parcelas']*(repasse_final['% Serviços de Marketplace']-0.065))+(repasse_final['Estorno todas parcelas']),2)\n",
        "    else:\n",
        "        return 0.00\n",
        "repasse_final['Custo do produto'] = repasse_final.apply(calculo_produto, axis=1)\n",
        "\n",
        "\n",
        "\n",
        "\n",
        "def calculo_mdr(repasse_final):\n",
        "    if repasse_final['Método de pagamento'] == 'Estorno':\n",
        "        return round((repasse_final['Custo do produto']*0.065),2)\n",
        "    else:\n",
        "        return 0.00\n",
        "repasse_final['MDR do produto'] = repasse_final.apply(calculo_mdr, axis=1)\n",
        "\n",
        "\n",
        "\n",
        "\n",
        "def calculo_comissao(repasse_final):\n",
        "    if repasse_final['Método de pagamento'] == 'Estorno':\n",
        "        return round((repasse_final['Custo do produto']*repasse_final['% Serviços de Marketplace']),2)\n",
        "    else:\n",
        "        return 0.00\n",
        "repasse_final['Custo de comissão (produto)'] = repasse_final.apply(calculo_comissao, axis=1)\n",
        "\n",
        "\n",
        "\n",
        "def calculo_liq_produto(repasse_final):\n",
        "    if repasse_final['Método de pagamento'] == 'Estorno':\n",
        "        return round((repasse_final['Custo do produto']-repasse_final['Custo de comissão (produto)']-repasse_final['Valor fixo por pedido']),2)\n",
        "    else:\n",
        "        return 0.00\n",
        "repasse_final['Valor líquido do produto'] = repasse_final.apply(calculo_liq_produto, axis=1)\n",
        "\n",
        "\n",
        "\n",
        "def calculo_liq_produto_mdr(repasse_final):\n",
        "    if repasse_final['Método de pagamento'] == 'Estorno':\n",
        "        return round((repasse_final['Valor líquido do produto']+repasse_final['MDR do produto']),2)\n",
        "    else:\n",
        "        return 0.00\n",
        "repasse_final['Valor líquido do produto + MDR'] = repasse_final.apply(calculo_liq_produto_mdr, axis=1)\n",
        "\n",
        "\n",
        "\n",
        "def calculo_parcela(repasse_final):\n",
        "    if repasse_final['Método de pagamento'] == 'Estorno' and ((repasse_final['Valor líquido da parcela']) > (repasse_final['Valor líquido do produto + MDR']*0.9)):\n",
        "        return round((repasse_final['Valor líquido do produto + MDR']),2)\n",
        "    elif repasse_final['Método de pagamento'] == 'Estorno' and ((repasse_final['Valor líquido da parcela']) < (repasse_final['Valor líquido do produto + MDR']*0.9)):\n",
        "        return round((repasse_final['Valor líquido do produto + MDR']/repasse_final['Total de parcelas']),2)\n",
        "    else:\n",
        "        return 0.00\n",
        "repasse_final['Valor estornado por parcela'] = repasse_final.apply(calculo_parcela, axis=1)\n",
        "\n",
        "repasse_final.reset_index(inplace=True)\n",
        "\n",
        "repasse_final.to_csv(\"/content/drive/MyDrive/dados_repasse/relatorio_repasse_26052023.csv\", encoding='cp1252')\n",
        "\n",
        "#dados.grava_tabela_drive('conferencia_repasse', 'Página1', repasse_final)\n",
        "\n",
        "print(\"Tabela Atualizada!\")\n",
        "\n",
        "\n"
      ]
    }
  ],
  "metadata": {
    "colab": {
      "provenance": []
    },
    "kernelspec": {
      "display_name": "Python 3",
      "name": "python3"
    },
    "language_info": {
      "name": "python"
    }
  },
  "nbformat": 4,
  "nbformat_minor": 0
}
