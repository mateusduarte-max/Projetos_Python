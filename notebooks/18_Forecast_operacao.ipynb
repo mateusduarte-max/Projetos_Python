{
  "nbformat": 4,
  "nbformat_minor": 0,
  "metadata": {
    "colab": {
      "private_outputs": true,
      "provenance": []
    },
    "kernelspec": {
      "name": "python3",
      "display_name": "Python 3"
    },
    "language_info": {
      "name": "python"
    },
    "gpuClass": "standard"
  },
  "cells": [
    {
      "cell_type": "code",
      "source": [
        "!pip install --upgrade pip\n"
      ],
      "metadata": {
        "id": "XjgzmfzsOy5c"
      },
      "execution_count": null,
      "outputs": []
    },
    {
      "cell_type": "code",
      "execution_count": null,
      "metadata": {
        "id": "DPl3AO65fWke"
      },
      "outputs": [],
      "source": [
        "# Montar Drive\n",
        "from google.colab import drive\n",
        "drive.mount('/content/drive')\n",
        "# Classe dados \n",
        "!cp /content/drive/MyDrive/Colab_Notebooks/pacotes_modulos/modulos_colab.py /content\n",
        "from modulos_colab import dados\n",
        "!cp /content/drive/MyDrive/Colab_Notebooks/Autenticacoes/chaves_tokens.py /content\n",
        "%run chaves_tokens.py\n",
        "\n",
        "!pip install kats\n",
        "from kats.consts import TimeSeriesData\n",
        "from kats.models.prophet import ProphetModel, ProphetParams\n",
        "import pandas as pd\n",
        "import time\n",
        "\n",
        "# Autenticações google sheet\n",
        "import gspread\n",
        "from google.auth import default\n",
        "creds, _ = default()\n",
        "gc = gspread.authorize(creds)\n",
        "from gspread_dataframe import set_with_dataframe"
      ]
    },
    {
      "cell_type": "markdown",
      "source": [
        "Forecast Suporte N1 "
      ],
      "metadata": {
        "id": "yUZU1lITB2_Y"
      }
    },
    {
      "cell_type": "code",
      "source": [
        "\"\"\"\n",
        "# Importar base histórica\n",
        "base_1 = pd.read_csv('/content/drive/MyDrive/Colab_Notebooks/arquivos/dados_forecast/bases/tickets_criados_tickets_recebidos_1.csv')\n",
        "base_2 = pd.read_csv('/content/drive/MyDrive/Colab_Notebooks/arquivos/dados_forecast/bases/tickets_criados_tickets_recebidos_2.csv')\n",
        "base_3 = pd.read_csv('/content/drive/MyDrive/Colab_Notebooks/arquivos/dados_forecast/bases/tickets_criados_tickets_recebidos_3.csv')\n",
        "base_4 = pd.read_csv('/content/drive/MyDrive/Colab_Notebooks/arquivos/dados_forecast/bases/tickets_criados_tickets_recebidos_4.csv')\n",
        "base_tt = pd.concat([base_1,\n",
        "                     base_2,\n",
        "                     base_3,\n",
        "                     base_4])\n",
        "\n",
        "# renomear colunas\n",
        "colunas = {'ID do ticket':'ID_do_ticket',\n",
        "'Assunto':'Assunto',\n",
        "'Status':'Status',\n",
        "'Nome do grupo':'Nome_do_grupo',\n",
        "'Data de criação':'Data_de_criacao',\n",
        "'Resolved date':'Data_resolucao',\n",
        "'Tag nome':'Tag_nome'\n",
        "}\n",
        "\n",
        "\n",
        "#Renomear colunas\n",
        "base_tt.rename(columns=colunas, inplace=True)\n",
        "base_tt['Data_de_criacao'] = base_tt['Data_de_criacao'].str.replace('AM','').str.replace('PM','').str.strip()\n",
        "ajuste_data =  base_tt['Data_de_criacao'].str.split(\" \", n = 1, expand = True)\n",
        "base_tt['Data_de_criacao'] = ajuste_data[0]\n",
        "base_tt['Data_de_criacao'] = pd.to_datetime(base_tt['Data_de_criacao'],infer_datetime_format=True,format='%y%m%d')\n",
        "base_tt['Data_resolucao'] = base_tt['Data_resolucao'].str.replace('AM','').str.replace('PM','')\n",
        "ajuste_data =  base_tt['Data_resolucao'].str.split(\" \", n = 1, expand = True)\n",
        "base_tt['Data_resolucao'] = ajuste_data[0]\n",
        "base_tt['Data_resolucao'] = pd.to_datetime(base_tt['Data_resolucao'],infer_datetime_format=True,format='%y%m%d')\n",
        "\n",
        "\n",
        "base_tt_2022 = base_tt.query('Data_de_criacao>=\"2022-01-01\"') # Base 2022\n",
        "de_para_forecast = dados.busca_tabela_drive('forecast_colab', 'de_para_tickets') # Base de_para Suporte N1\n",
        "base_tt_2022_depara = pd.merge(base_tt_2022,de_para_forecast, how='left', on='Nome_do_grupo') # Merge entre as tabelas\n",
        "base_tt_2022_suporte = base_tt_2022_depara.query('Supervisor!=\"\"') # Selecionar somente suporte n1\n",
        "\n",
        "\n",
        "\n",
        "# Inicio Forecast Tickets\n",
        "base_tt_2022_suporte['Supervisor'] = base_tt_2022_suporte['Supervisor'].apply(str)\n",
        "lista_supervisores = sorted(set(base_tt_2022_suporte['Supervisor'].to_list()))\n",
        "lista_supervisores.remove('nan')\n",
        "#lista_supervisor.remove('')\n",
        "base_forecast = base_tt_2022_suporte[['Data_de_criacao','Data_resolucao','ID_do_ticket', 'Nome_do_grupo', 'Supervisor']]\n",
        "base_forecast['Qtd'] = 1\n",
        "\n",
        "for super in lista_supervisores:\n",
        "    # Ajuste DataFrame\n",
        "    base_tt_grupo = base_forecast.query('Supervisor==\"{}\"'.format(super))\n",
        "    base_realizado = pd.pivot_table(base_tt_grupo, index='Data_de_criacao', values='Qtd', aggfunc='sum')\n",
        "    base_realizado.reset_index(inplace=True)\n",
        "    base_realizado['fcst'] = 0\n",
        "    base_realizado['fcst_lower'] = 0\n",
        "    base_realizado['fcst_upper'] = 0\n",
        "    # Calculo Forecast  \n",
        "    base_realizado['Data_de_criacao'] = pd.to_datetime(base_realizado['Data_de_criacao'],infer_datetime_format=True,format='%y%m%d')\n",
        "    #base_realizado.rename(columns={'ID_do_ticket':'Qtd'}, inplace=True)\n",
        "    df_s = TimeSeriesData(time=base_realizado['Data_de_criacao'], value=base_realizado['Qtd'])\n",
        "    params = ProphetParams(seasonality_mode='multiplicative')\n",
        "    model = ProphetModel(df_s, params)\n",
        "    model.fit()\n",
        "    forecast = model.predict(steps=30)\n",
        "    forecast.rename(columns={'time':'Data_de_criacao'}, inplace=True)\n",
        "    forecast['Qtd'] = 0\n",
        "    # Merge Realizado + Forecast\n",
        "    forecast_final = pd.concat([base_realizado, forecast])\n",
        "    forecast_final = forecast_final.astype({\"fcst\": int, \"fcst_lower\": int,\"fcst_upper\": int})\n",
        "    forecast_final['Supervisores'] = super\n",
        "    def linhas():\n",
        "        arquivo = gc.open('forecast_colab')\n",
        "        # abrir planilha 'aba'\n",
        "        aba = arquivo.worksheet('check_forecast_tickets')\n",
        "        # colocar a aba dentro de um data_frame\n",
        "        df1 = pd.DataFrame(aba.get_all_records())\n",
        "        #Visualização\n",
        "        numero = df1['Data_de_criacao'].count()+2\n",
        "        n = int(numero)\n",
        "        return n\n",
        "     \n",
        "    def input_drive():\n",
        "        #Abrir planilha e primeira aba\n",
        "        time.sleep(3)\n",
        "        pagina = gc.open('forecast_colab').worksheet('check_forecast_tickets')\n",
        "        # Limpar base\n",
        "        #pagina.clear()\n",
        "        # Importar dataframe na planilha\n",
        "        return set_with_dataframe(pagina, forecast_final, row=linhas(), include_column_header=False)\n",
        "    input_drive()\n",
        "    time.sleep(3)\n",
        "    print('Calculando forecast do supervisor {}!'.format(super))\n",
        "\"\"\""
      ],
      "metadata": {
        "id": "XOaSeC3EhcvO"
      },
      "execution_count": null,
      "outputs": []
    },
    {
      "cell_type": "markdown",
      "source": [
        "Forecast - Whats"
      ],
      "metadata": {
        "id": "NrHzvW_7uQV2"
      }
    },
    {
      "cell_type": "code",
      "source": [
        "# Importar base\n",
        "base_original_whats = dados.busca_tabela_drive('Dash_Whatsapp', 'Histórico')\n",
        "base_original_whats_v2 = base_original_whats[['Initiated At', 'Conversation id', 'Group name']]\n",
        "# Renomer colunas\n",
        "colunas = {'Initiated At':'Data_criacao',\n",
        "           'Conversation id':'Conversas',\n",
        "           'Group name':'Nome_do_grupo'}\n",
        "base_original_whats_v2.rename(columns=colunas, inplace=True)\n",
        "# Ajuste data\n",
        "ajuste_data =  base_original_whats_v2['Data_criacao'].str.split(\" \", n = 1, expand = True)\n",
        "base_original_whats_v2['Data_criacao'] = ajuste_data[0]\n",
        "\n",
        "# Base de_para\n",
        "depara_whats = dados.busca_tabela_drive('forecast_colab','de_para_whatsapp')\n",
        "# Merge \n",
        "base_original_whats_v3 = pd.merge(base_original_whats_v2, depara_whats, how='left', on='Nome_do_grupo')\n",
        "\n",
        "\n",
        "# Inicio Forecast Whats\n",
        "base_original_whats_v3['Supervisor'] = base_original_whats_v3['Supervisor'].apply(str)\n",
        "lista_supervisores_whats = sorted(set(base_original_whats_v3['Supervisor'].to_list()))\n",
        "lista_supervisores_whats.remove('nan')\n",
        "#lista_supervisor.remove('')\n",
        "base_forecast_whats = base_original_whats_v3[['Data_criacao','Conversas', 'Nome_do_grupo', 'Supervisor']]\n",
        "base_forecast_whats['Qtd'] = 1\n",
        "\n",
        "for super in lista_supervisores_whats:\n",
        "    # Ajuste DataFrame\n",
        "    base_tt_grupo = base_forecast_whats.query('Supervisor==\"{}\"'.format(super))\n",
        "    base_realizado = pd.pivot_table(base_tt_grupo, index='Data_criacao', values='Qtd', aggfunc='sum')\n",
        "    base_realizado.reset_index(inplace=True)\n",
        "    base_realizado['fcst'] = 0\n",
        "    base_realizado['fcst_lower'] = 0\n",
        "    base_realizado['fcst_upper'] = 0\n",
        "    # Calculo Forecast  \n",
        "    base_realizado['Data_criacao'] = pd.to_datetime(base_realizado['Data_criacao'],infer_datetime_format=True,format='%y%m%d')\n",
        "    #base_realizado.rename(columns={'ID_do_ticket':'Qtd'}, inplace=True)\n",
        "    df_s = TimeSeriesData(time=base_realizado['Data_criacao'], value=base_realizado['Qtd'])\n",
        "    params = ProphetParams(seasonality_mode='multiplicative')\n",
        "    model = ProphetModel(df_s, params)\n",
        "    model.fit()\n",
        "    #informar dias para pegar futuro\n",
        "    forecast = model.predict(steps=32)v\n",
        "    forecast.rename(columns={'time':'Data_criacao'}, inplace=True)\n",
        "    forecast['Qtd'] = 0\n",
        "    # Merge Realizado + Forecast\n",
        "    forecast_final = pd.concat([base_realizado, forecast])\n",
        "    forecast_final = forecast_final.astype({\"fcst\": int, \"fcst_lower\": int,\"fcst_upper\": int})\n",
        "    forecast_final['Supervisores'] = super\n",
        "    def linhas():\n",
        "        arquivo = gc.open('forecast_colab')\n",
        "        # abrir planilha 'aba'\n",
        "        aba = arquivo.worksheet('check_forecast_whats')\n",
        "        # colocar a aba dentro de um data_frame\n",
        "        df1 = pd.DataFrame(aba.get_all_records())\n",
        "        #Visualização\n",
        "        numero = df1['Data_de_criacao'].count()+2\n",
        "        n = int(numero)\n",
        "        return n\n",
        "     \n",
        "    def input_drive():\n",
        "        #Abrir planilha e primeira aba\n",
        "        pagina = gc.open('forecast_colab').worksheet('check_forecast_whats')\n",
        "        # Limpar base\n",
        "        #pagina.clear()\n",
        "        # Importar dataframe na planilha\n",
        "        return set_with_dataframe(pagina, forecast_final, row=linhas(), include_column_header=False)\n",
        "    input_drive()\n",
        "    print('Calculando forecast do supervisor {}!'.format(super))\n",
        "\n",
        "\n"
      ],
      "metadata": {
        "id": "rQ05XgDacK9F"
      },
      "execution_count": null,
      "outputs": []
    },
    {
      "cell_type": "code",
      "source": [
        "analise_hoh = base_original_whats[['Initiated At', 'Conversation id', 'Group name']]"
      ],
      "metadata": {
        "id": "e7pcZTuZm-rN"
      },
      "execution_count": null,
      "outputs": []
    }
  ]
}