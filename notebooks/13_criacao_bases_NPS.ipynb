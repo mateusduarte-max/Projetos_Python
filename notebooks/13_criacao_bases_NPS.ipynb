{
  "nbformat": 4,
  "nbformat_minor": 0,
  "metadata": {
    "colab": {
      "private_outputs": true,
      "provenance": []
    },
    "kernelspec": {
      "name": "python3",
      "display_name": "Python 3"
    },
    "language_info": {
      "name": "python"
    }
  },
  "cells": [
    {
      "cell_type": "code",
      "execution_count": null,
      "metadata": {
        "id": "4EaUI4NZdNlA"
      },
      "outputs": [],
      "source": [
        "%%capture\n",
        "import os.path\n",
        "import glob\n",
        "import pandas as pd\n",
        "import numpy as np\n",
        "import gspread\n",
        "from pathlib import Path\n",
        "from google.colab import auth\n",
        "from google.colab import drive\n",
        "from google.auth import default\n",
        "from datetime import datetime, timedelta\n",
        "from gspread_dataframe import set_with_dataframe\n",
        "from google.cloud import bigquery\n",
        "from time import sleep\n",
        "from dateutil.relativedelta  import relativedelta\n",
        "from random import randint\n",
        "\n",
        "# Montagem do Drive\n",
        "if not os.path.exists('/content/drive'):\n",
        "  drive.mount('/content/drive')\n",
        "\n",
        "# Autorização do Sheets\n",
        "auth.authenticate_user()\n",
        "creds, _ = default()\n",
        "gc = gspread.authorize(creds)\n",
        "\n",
        "!cp /content/drive/MyDrive/Colab_Notebooks/pacotes_modulos/modulos_felipe.py /content\n",
        "from modulos_felipe import etl_funcs\n",
        "MES_REF = '2023-05'\n",
        "BASE_VIGENTE = datetime.strptime(MES_REF, \"%Y-%m\").month % 3"
      ]
    },
    {
      "cell_type": "code",
      "source": [
        "# Sellers que receberam meses passados\n",
        "lista_df = []\n",
        "MES_ANT = (datetime.strptime(MES_REF, '%Y-%m') - relativedelta(months=1)).strftime('%Y-%m')\n",
        "MES_ANTx2 = (datetime.strptime(MES_REF, '%Y-%m') - relativedelta(months=2)).strftime('%Y-%m')\n",
        "for mes in [MES_ANT, MES_ANTx2]:\n",
        "    for arquivo in glob.glob(f'/content/drive/MyDrive/Arquivos NPS/Enviadas para SoluCX/{mes}/*.xlsx'):\n",
        "        for base in ['Marketplace', 'PME', 'Netshoes']:\n",
        "            if base in arquivo:\n",
        "                df_temp = pd.read_excel(arquivo, usecols=['nome_do_cliente']).rename(columns={'nome_do_cliente': 'seller_id'})\n",
        "                df_temp['base'] = base\n",
        "                df_temp['mes'] = mes\n",
        "                lista_df.append(df_temp)\n",
        "        \n",
        "receberam_meses_passados = pd.concat(lista_df).drop_duplicates()\n",
        "receberam_meses_passados['seller_id'] = receberam_meses_passados['seller_id'].str.lower()"
      ],
      "metadata": {
        "id": "mdWyc-mFQhRz"
      },
      "execution_count": null,
      "outputs": []
    },
    {
      "cell_type": "markdown",
      "source": [
        "### Divisão da base de hunting"
      ],
      "metadata": {
        "id": "bneydbvcScBk"
      }
    },
    {
      "cell_type": "code",
      "source": [
        "base_hunting = etl_funcs.abre_planilha('Carteiras - Projeto Agentes Parceiro', 'Sellers ativos')[['Helena Seller Code', 'Status']]\n",
        "base_hunting = base_hunting[base_hunting['Status'].str.contains('ATIVO')][[\"Helena Seller Code\"]].rename(columns={'Helena Seller Code': 'seller_id'})\n",
        "base_hunting['seller_id'] = base_hunting['seller_id'].str.strip()"
      ],
      "metadata": {
        "id": "OAopWxnKDxrq"
      },
      "execution_count": null,
      "outputs": []
    },
    {
      "cell_type": "code",
      "source": [
        "base_hunting = etl_funcs.abre_planilha('Carteiras - Projeto Agentes Parceiro', 'Sellers ativos')[['Helena Seller Code', 'Status']]\n",
        "base_hunting = base_hunting[base_hunting['Status'].str.contains('ATIVO')][[\"Helena Seller Code\"]].rename(columns={'Helena Seller Code': 'seller_id'}).drop_duplicates()\n",
        "base_hunting['seller_id'] = base_hunting['seller_id'].str.strip()\n",
        "base_hunting_already_divided = etl_funcs.abre_planilha('Montagem Base NPS', 'Agente Parceiro').drop_duplicates()\n",
        "base_hunting_already_divided['seller_id'] = base_hunting_already_divided['seller_id'].str.strip()\n",
        "base_hunting_new_divisions = base_hunting.merge(base_hunting_already_divided, how=\"left\", on=\"seller_id\")\n",
        "etl_funcs.exportar_para_planilha('Montagem Base NPS', 'Agente Parceiro', base_hunting_new_divisions, False)"
      ],
      "metadata": {
        "id": "3RvgG_Rwv3B2"
      },
      "execution_count": null,
      "outputs": []
    },
    {
      "cell_type": "code",
      "source": [
        "def separate_hunting_sellers():\n",
        "    base_hunting = etl_funcs.abre_planilha('Carteiras - Projeto Agentes Parceiro', 'Sellers ativos')[['Helena Seller Code', 'Status']]\n",
        "    base_hunting = base_hunting[base_hunting['Status'].str.contains('ATIVO')][[\"Helena Seller Code\"]].rename(columns={'Helena Seller Code': 'seller_id'}).drop_duplicates()\n",
        "    base_hunting['seller_id'] = base_hunting['seller_id'].str.strip()\n",
        "    base_hunting_already_divided = etl_funcs.abre_planilha('Montagem Base NPS', 'Agente Parceiro').drop_duplicates()\n",
        "    base_hunting_already_divided['seller_id'] = base_hunting_already_divided['seller_id'].str.strip()\n",
        "    base_hunting_new_divisions = base_hunting.merge(base_hunting_already_divided, how=\"left\", on=\"seller_id\")\n",
        "    etl_funcs.exportar_para_planilha('Montagem Base NPS', 'Agente Parceiro', base_hunting_new_divisions, False)\n",
        "    return \"Favor preencher os novos sellers na mão lá na planilha\""
      ],
      "metadata": {
        "id": "LapTFvjuW5U_"
      },
      "execution_count": null,
      "outputs": []
    },
    {
      "cell_type": "markdown",
      "source": [
        "###Bases NPS Magalu - Marketplace e PME"
      ],
      "metadata": {
        "id": "EtGehTr1_iU1"
      }
    },
    {
      "cell_type": "code",
      "source": [
        "base_geral_aptos_sellers = pd.read_gbq(f\"\"\"SELECT h.SellerID as seller_id,\n",
        "                                                                    --h.Status,\n",
        "                                                                    --h.Plataforma,\n",
        "                                                                    --h.PedidoTeste,\n",
        "                                                                    --v.pedido_processado,\n",
        "                                                                    if(lower(h.Plataforma) = \"ipdv\", \"PME\", \"Marketplace\") as val_plataforma\n",
        "                                                            FROM `maga-bigdata.marketplace_analytics.view_dados_sellers_helena` as h\n",
        "                                                            left join (SELECT  \n",
        "                                                                so.seller_id, \n",
        "                                                                count(distinct so.uuid)  as pedido_processado \n",
        "                                                                FROM maga-bigdata.maestro.order as o\n",
        "                                                                left join maga-bigdata.maestro.sub_order as so on so.order_uuid = o.uuid\n",
        "                                                                left join maga-bigdata.maestro.sales_channel as sc on o.sales_channel_id = sc.id\n",
        "                                                                inner join (SELECT distinct status_id, min(date) as date, sub_order_uuid \n",
        "                                                                            FROM maga-bigdata.maestro.event \n",
        "                                                                            where duplicated = false\n",
        "                                                                            group by status_id,sub_order_uuid) as processado \n",
        "                                                                        on so.uuid = processado.sub_order_uuid and processado.status_id =2\n",
        "                                                                where so.seller_id <> 'magazineluiza'  \n",
        "                                                                and sc.organization_uuid = '4da25f48-4193-45de-b4ed-9b8c93b7f987'\n",
        "                                                                and date(processado.date, \"America/Sao_Paulo\") BETWEEN \"2023-04-01\" AND CURRENT_DATE()\n",
        "                                                                group by so.seller_id ) as v on v.seller_id = h.SellerID\n",
        "                                                                where h.Status = \"Ativo\"\n",
        "                                                                and h.PedidoTeste is not null\n",
        "                                                                and NOT(v.pedido_processado<2)\"\"\", 'maga-bigdata')"
      ],
      "metadata": {
        "id": "gHJRs_AkAjUz"
      },
      "execution_count": null,
      "outputs": []
    },
    {
      "cell_type": "code",
      "source": [
        "receberam_meses_passados_magalu = receberam_meses_passados.query(\"base != 'Netshoes'\")\n",
        "base_v1 = base_geral_aptos_sellers[~base_geral_aptos_sellers['seller_id'].isin(receberam_meses_passados_magalu['seller_id'].tolist())]\n",
        "print(len(base_v1.index))"
      ],
      "metadata": {
        "id": "racG9UgKFB-L"
      },
      "execution_count": null,
      "outputs": []
    },
    {
      "cell_type": "code",
      "source": [
        "# Excluir sellers na esteira\n",
        "esteira = etl_funcs.abre_planilha('Montagem Base NPS', 'Esteira (Laranja e Vermelho)')\n",
        "base_v2 = base_v1[~base_v1['seller_id'].isin(esteira['seller_id'].tolist())]\n",
        "print(len(base_v2.index))"
      ],
      "metadata": {
        "id": "1lj3pRKtG4wD"
      },
      "execution_count": null,
      "outputs": []
    },
    {
      "cell_type": "code",
      "source": [
        "# Excluir empresas do grupo\n",
        "empresas_grupo = etl_funcs.abre_planilha('Montagem Base NPS', 'Sellerid Empresa do Grupo')\n",
        "base_v3 = base_v2[~base_v2['seller_id'].isin(empresas_grupo['seller_id'].tolist())]\n",
        "print(len(base_v3.index))"
      ],
      "metadata": {
        "id": "rCqUDYnWPG6b"
      },
      "execution_count": null,
      "outputs": []
    },
    {
      "cell_type": "code",
      "source": [
        "#Excluir KAs (serão adicionados novamente com os e-mails definidos)\n",
        "kas = etl_funcs.abre_planilha('Montagem Base NPS', 'KA(mkt)')\n",
        "base_v4 = base_v3[~base_v3['seller_id'].isin(kas['seller_id'].tolist())]\n",
        "print(len(base_v4.index))"
      ],
      "metadata": {
        "id": "VVHDNLfuzUUY"
      },
      "execution_count": null,
      "outputs": []
    },
    {
      "cell_type": "code",
      "source": [
        "# Excluir sellers Agente Parceiro que não são da pesquisa atual\n",
        "agente_parceiro = etl_funcs.abre_planilha('Montagem Base NPS', 'Agente Parceiro')\n",
        "agente_parceiro = agente_parceiro[agente_parceiro['grupo'] != str(BASE_VIGENTE)]\n",
        "base_v5 = base_v4[~base_v4['seller_id'].isin(agente_parceiro['seller_id'].tolist())]\n",
        "print(len(base_v5.index))"
      ],
      "metadata": {
        "id": "w9QMJyrqqRnp"
      },
      "execution_count": null,
      "outputs": []
    },
    {
      "cell_type": "code",
      "source": [
        "emails_cadastrados = pd.read_gbq(\"\"\"WITH acesso_mkt AS (select\n",
        "                                                            bs.sellerIdOpenApi   AS seller_id,\n",
        "                                                            lower(trim(ul.Email))             AS email,\n",
        "                                                                                                \n",
        "                                                        FROM\n",
        "                                                            `maga-bigdata.integra.user`   AS ul\n",
        "                                                            INNER JOIN `maga-bigdata.integra.business`   AS bs ON bs.Id = ul.IdBusinessFk\n",
        "                                                            WHERE\n",
        "                                                            ul.IsActive is true and\n",
        "                                                            if((ul.Email) like '%@magazineluiza%',0,1) = 1 \n",
        "                                                            and if((ul.Email) like '%@luizalabs%',0,1) = 1 \n",
        "                                                            and if((ul.Email) like '%@donatelo%',0,1) = 1\n",
        "                                                            and if((ul.Email) like '%@kabum%',0,1) = 1\n",
        "                                                            and if((ul.Email) like '%@netshoes%',0,1) = 1\n",
        "                                                            and if((ul.Email) like '%@zattini%',0,1) = 1\n",
        "                                                            and if((ul.Email) like '%@estantevirtual%',0,1) = 1\n",
        "                                                            and if((ul.Email) like '%@epocacosmeticos%',0,1) = 1\n",
        "                                                        ORDER BY\n",
        "                                                            seller_id, email\n",
        "                                    ),\n",
        "\n",
        "                                    acesso_pme AS (select \n",
        "                                                        sa.helena_seller_code as seller_id, \n",
        "                                                        lower(trim(u.email)) as email\n",
        "                                                        from `maga-bigdata.ipdv.seller` as s\n",
        "                                                        inner join `maga-bigdata.ipdv.seller_attributes` as sa on s.id = sa.id_seller\n",
        "                                                        inner join `maga-bigdata.ipdv.users` as u on s.id = u.id_seller\n",
        "                                                        where\n",
        "                                                        u.active is true --usuário ativos\n",
        "                                                        and s.active is true --seller ativo\n",
        "                                                        and sa.helena_seller_code is not null --Apenas sellers que já tem o helena\n",
        "                                                        and if((u.email) like '%@magazineluiza%',0,1) = 1 \n",
        "                                                        and if((u.email) like '%@luizalabs%',0,1) = 1 \n",
        "                                                        and if((u.email) like '%@donatelo%',0,1) = 1\n",
        "                                                        and if((u.email) like '%@kabum%',0,1) = 1\n",
        "                                                        and if((u.email) like '%@netshoes%',0,1) = 1\n",
        "                                                        and if((u.email) like '%@estantevirtual%',0,1) = 1\n",
        "                                                        and if((u.email) like '%@epocacosmeticos%',0,1) = 1\n",
        "                                                            )\n",
        "                                                            select\n",
        "                                                            *\n",
        "                                                            from acesso_mkt\n",
        "                                                            union all (select * from acesso_pme)\"\"\", 'maga-bigdata')\n"
      ],
      "metadata": {
        "id": "MNtYQNaQg7Xd"
      },
      "execution_count": null,
      "outputs": []
    },
    {
      "cell_type": "code",
      "source": [
        "# Cruzando emails com base de sellers aptos\n",
        "base_envio_v1 = base_v5.merge(emails_cadastrados, on='seller_id', how='inner')\n",
        "len(base_envio_v1.index)"
      ],
      "metadata": {
        "id": "LSS2bfWMzuF0"
      },
      "execution_count": null,
      "outputs": []
    },
    {
      "cell_type": "code",
      "source": [
        "# Adicionar e-mails KAs novamente\n",
        "kas['val_plataforma'] = 'Marketplace'\n",
        "base_envio_v2 = pd.concat([base_envio_v1, kas])\n",
        "base_envio_v2['email'] = base_envio_v2['email'].str.strip().str.lower()"
      ],
      "metadata": {
        "id": "ukSykKSDPq2K"
      },
      "execution_count": null,
      "outputs": []
    },
    {
      "cell_type": "code",
      "source": [
        "# Excluir e-mails que não querem receber\n",
        "opt_out_comunicacao = etl_funcs.abre_planilha('Montagem Base NPS', 'Opt Out Comunicação')\n",
        "opt_out_widget = etl_funcs.abre_planilha('Montagem Base NPS', 'Opt Out Widget')\n",
        "opt_out = pd.concat([opt_out_comunicacao, opt_out_widget])\n",
        "opt_out['email'] = opt_out['email'].str.strip().str.lower()\n",
        "base_envio_v3 = base_envio_v2[~base_envio_v2['email'].isin(opt_out_comunicacao['email'].tolist())]\n",
        "len(base_envio_v3.index)"
      ],
      "metadata": {
        "id": "PPCHUg37yXa-"
      },
      "execution_count": null,
      "outputs": []
    },
    {
      "cell_type": "code",
      "source": [
        "# Cruzar com modalidade de envio\n",
        "base_modalidade_envio = pd.read_gbq(\"\"\"\n",
        "SELECT\n",
        "    SELLERIDML as seller_id,\n",
        "    ATIVOMLCOL,\n",
        "    ATIVOAGML\n",
        "FROM maga-bigdata.mlpdw.sellers_ativos\n",
        "\"\"\", 'maga-bigdata')\n",
        "\n",
        "base_coletas1 = base_modalidade_envio.query('ATIVOMLCOL == \"SIM\"')[['seller_id']]\n",
        "base_coletas1['modalidade'] = 'Magalu coletas'\n",
        "\n",
        "base_coletas2 = base_modalidade_envio.query('ATIVOAGML == \"SIM\"')[['seller_id']]\n",
        "base_coletas2['modalidade'] = 'Agência magalu'\n",
        "modalidade = pd.concat([base_coletas1, base_coletas2]).drop_duplicates(subset=['seller_id'])\n",
        "\n",
        "base_envio_v4 = base_envio_v3.merge(modalidade, how='left')"
      ],
      "metadata": {
        "id": "tE3QQ4rPT75F"
      },
      "execution_count": null,
      "outputs": []
    },
    {
      "cell_type": "code",
      "source": [
        "# Modalidade PME\n",
        "base_pme = base_envio_v4.query('val_plataforma==\"PME\"').drop_duplicates()\n",
        "base_pme['modalidade'] = base_pme['modalidade'].map({\n",
        "    'Magalu coletas': 'PME (MLE Coletas)',\n",
        "    'Agência magalu': 'PME (Agência Magalu)'\n",
        "}).fillna('PME (MLE Postagem)')\n",
        "etl_funcs.exportar_para_planilha('base_pesquisa_pme', 'main', base_pme.drop_duplicates(subset=['email']), False)\n",
        "\n",
        "# Modalidade MARKETPLACE\n",
        "# Definir quem é Magalu Entregas e quem é Envio Parceiro\n",
        "base_modalidade_envio_2 = pd.read_gbq(\"\"\"\n",
        "select\n",
        "distinct seller as seller_id\n",
        "from  maga-bigdata.magaluentregas.shipping\n",
        "where DATETIME(created_at, 'America/Sao_Paulo') >= '2021-01-28'\n",
        "\"\"\", 'maga-bigdata')\n",
        "\n",
        "base_mkt = base_envio_v4.query('val_plataforma==\"Marketplace\"').drop_duplicates()\n",
        "base_mkt['modalidade'] = base_mkt['modalidade'].mask(\n",
        "    (base_mkt['modalidade'].isna()) & (base_mkt['seller_id'].isin(base_modalidade_envio_2['seller_id'].tolist())),\n",
        "    'Magalu entregas'\n",
        ").fillna('Envio parceiro')\n",
        "base_mkt['modalidade'] = base_mkt['modalidade'].map({\n",
        "    'Magalu coletas': 'Marketplace (MLE Coletas)',\n",
        "    'Agência magalu': 'Marketplace (Agência Magalu)',\n",
        "    'Magalu entregas': 'Marketplace (MLE Postagem)',\n",
        "    'Envio parceiro': 'Marketplace (Envio Parceiro)',\n",
        "})\n",
        "\n",
        "etl_funcs.exportar_para_planilha('base_pesquisa_mkt', 'main', base_mkt.drop_duplicates(subset=['email']), False)"
      ],
      "metadata": {
        "id": "J5iM9asremPD"
      },
      "execution_count": null,
      "outputs": []
    },
    {
      "cell_type": "markdown",
      "source": [
        "###Base NPS - Nets\n"
      ],
      "metadata": {
        "id": "viJR04pr7lpL"
      }
    },
    {
      "cell_type": "code",
      "source": [
        "# Base pedidos (Sellers com mais de 2 pedidos)\n",
        "base_pedidos = pd.read_gbq(f\"\"\"Select distinct\n",
        "                                                            shp.seller_name as LOJISTA,\n",
        "                                                            shp.seller_id as seller_id,\n",
        "                                                            n.Ns_Entregas as Tipo_Envio,\n",
        "                                                            count(osh.delivery_id) as qtd_pedidos\n",
        "                                                            FROM `maga-bigdata.netshoes_dw.vw_order_full` os, \n",
        "                                                        unnest(os.order_shipping) osh,  unnest(osh.shipping_product) shp, unnest(shipping_status_history) hist\n",
        "                                                        left join maga-bigdata.marketplace_analytics.sellers_nets_nse as n on n.ID_SELLER = shp.seller_id\n",
        "                                                        left join (SELECT\n",
        "                                                                        --id,\n",
        "                                                                        seller_name,\n",
        "                                                                        default_handling_time,\n",
        "                                                                        name\n",
        "                                                                    FROM\n",
        "                                                                        maga-bigdata.maga_onboarding.distribution_center dc\n",
        "                                                                    JOIN\n",
        "                                                                        maga-bigdata.maga_onboarding.handling_time ht ON ht.id = dc.handling_time_id\n",
        "                                                                    JOIN\n",
        "                                                                        maga-bigdata.maga_onboarding.origin_address oa ON oa.id = dc.address_id\n",
        "                                                                    JOIN\n",
        "                                                                        maga-bigdata.maga_onboarding.distribution_center_organizations dco ON dco.distributioncenter_id = dc.id\n",
        "                                                                    JOIN\n",
        "                                                                        maga-bigdata.maga_onboarding.organization o ON o.id = dco.organization_id\n",
        "                                                                        where name='netshoes'\n",
        "                                                                        group by seller_name,default_handling_time, name) as d on d.seller_name = shp.seller_id\n",
        "\n",
        "                                                        left join (SELECT DISTINCT\n",
        "                                                                            A.PEDS_COD COD_PEDIDO,\n",
        "                                                                            B.TROD_STR_STA Status_checkin,\n",
        "                                                                            FROM `maga-bigdata.abacos_nets.aba_tcom_pedsai` A\n",
        "                                                                            INNER JOIN `maga-bigdata.abacos_nets.aba_ttrd_trodev` B ON A.CLIF_COD = B.CLIF_COD\n",
        "                                                                            WHERE B.TROD_STR_STA in ('Finalizado', 'Aberto')\t\n",
        "                                                                            group by A.PEDS_COD, B.TROD_STR_STA) as ck on cast(ck.COD_PEDIDO as string) = osh.delivery_id             \n",
        "                                                                where\n",
        "                                                                date(os.sale_date) BETWEEN \"2023-04-01\" AND CURRENT_DATE()\n",
        "                                                                and os.code not like '%T%'\n",
        "                                                                and shp.source = '3P' \n",
        "                                                                and os.is_ignore_pickup = false\n",
        "                                                                and NOT(os.amount >= 50000 AND osh.status = 12) \n",
        "                                                                and IFNULL(cancel_code,0) <> 100 \n",
        "                                                                and osh.shipping_status_name in ('CANCELADO', 'DESPACHADO', 'ENTREGUE', 'FATURADO', 'PRONTO PARA FATURAR')\n",
        "                                                                and ck.Status_checkin is null\n",
        "                                                                group by \n",
        "                                                                1,2,3\"\"\", 'maga-bigdata')\n",
        "\n",
        "base_pedidos['qtd_pedidos']=base_pedidos['qtd_pedidos'].astype(float).astype(int)\n",
        "base_pedidos['LOJISTA']=base_pedidos['LOJISTA'].str.normalize('NFKD').str.encode('ascii', errors='ignore').str.decode('utf-8').str.lower().str.replace(' ','')\n",
        "base_pedidos_final = base_pedidos.query('qtd_pedidos>2')\n",
        "\n",
        "# Contatos seller (dados sellers)\n",
        "dados_contatos_sellers_nets = pd.read_excel(f'/content/base_acessos_nets {MES_REF}.xlsx', usecols=['CNPJ associado', 'E-mail usuário'])\n",
        "dados_contatos_sellers_nets.rename(columns={'CNPJ associado':'CNPJ',\n",
        "                                            'E-mail usuário':'email'}, inplace=True)\n",
        "dados_contatos_sellers_nets['CNPJ'] = dados_contatos_sellers_nets['CNPJ'].astype(float)\n",
        "#Verificar se tem e-mails diferentes no seller_ID das lojas do grupo.\n",
        "dados_contatos_sellers_nets['val_email'] = dados_contatos_sellers_nets['email'].str.contains('@magazineluiza|@luizalabs|@donatelo|@kabum|@netshoes|@estantevirtual|@epocacosmeticos')\n",
        "dados_contatos_sellers_nets_v2 = dados_contatos_sellers_nets.query('val_email==False')\n",
        "\n",
        "# base com seller_id\n",
        "base_bq = pd.read_gbq(\"\"\"SELECT DISTINCT registrationNumber as CNPJ,\n",
        "                                                                companyName,\n",
        "                                                                tradeName,\n",
        "                                                                sellerID as seller_id,\n",
        "                                                                name as LOJISTA,\n",
        "                                                                active,\n",
        "                                                                fastLane,\n",
        "                                                                \n",
        "                                                FROM\n",
        "                                                (SELECT supplier.registrationNumber,\n",
        "                                                        supplier.companyName,\n",
        "                                                        supplier.tradeName,\n",
        "                                                        seller.element._id AS sellerID,\n",
        "                                                        seller.element.name,\n",
        "                                                        seller.element.active,\n",
        "                                                        seller.element.fastLane,\n",
        "                                                        seller.element.createdDate,\n",
        "                                                        CASE\n",
        "                                                            WHEN address.element.type = 'DISTRIBUTION_CENTER' THEN address.element.zipcode\n",
        "                                                            ELSE NULL\n",
        "                                                        END AS distributionCenterZipcode,\n",
        "                                                        CASE\n",
        "                                                            WHEN address.element.type = 'DISTRIBUTION_CENTER' THEN address.element.street\n",
        "                                                            ELSE NULL\n",
        "                                                        END AS distributionCenterStreet,\n",
        "                                                        CASE\n",
        "                                                            WHEN address.element.type = 'DISTRIBUTION_CENTER' THEN address.element.number\n",
        "                                                            ELSE NULL\n",
        "                                                        END AS distributionCenterNumber,\n",
        "                                                        CASE\n",
        "                                                            WHEN address.element.type = 'DISTRIBUTION_CENTER' THEN address.element.neighborhood\n",
        "                                                            ELSE NULL\n",
        "                                                        END AS distributionCenterNeighborhood,\n",
        "                                                        CASE\n",
        "                                                            WHEN address.element.type = 'DISTRIBUTION_CENTER' THEN address.element.city\n",
        "                                                            ELSE NULL\n",
        "                                                        END AS distributionCenterCity,\n",
        "                                                        CASE\n",
        "                                                            WHEN address.element.type = 'DISTRIBUTION_CENTER' THEN address.element.state\n",
        "                                                            ELSE NULL\n",
        "                                                        END AS distributionCenterState,\n",
        "                                                        NULL AS returnZipcode,\n",
        "                                                        NULL AS returnStreet,\n",
        "                                                        NULL AS returnNumber,\n",
        "                                                        NULL AS returnNeighborhood,\n",
        "                                                        NULL AS returnCity,\n",
        "                                                        NULL AS returnState\n",
        "                                                FROM netshoes_marketplace.suppliers supplier,\n",
        "                                                        UNNEST(supplier.sellers.list) seller,\n",
        "                                                        UNNEST(seller.element.addresses.list) address\n",
        "                                                UNION ALL SELECT supplier.registrationNumber,\n",
        "                                                                    supplier.companyName,\n",
        "                                                                    supplier.tradeName,\n",
        "                                                                    seller.element._id AS sellerID,\n",
        "                                                                    seller.element.name,\n",
        "                                                                    seller.element.active,\n",
        "                                                                    seller.element.fastLane,\n",
        "                                                                    seller.element.createdDate,\n",
        "                                                                    NULL AS distributionCenterZipcode,\n",
        "                                                                    NULL AS distributionCenterStreet,\n",
        "                                                                    NULL AS distributionCenterNumber,\n",
        "                                                                    NULL AS distributionCenterNeighborhood,\n",
        "                                                                    NULL AS distributionCenterCity,\n",
        "                                                                    NULL AS distributionCenterState,\n",
        "                                                                    CASE\n",
        "                                                                        WHEN address.element.type = 'RETURN' THEN address.element.zipcode\n",
        "                                                                        ELSE NULL\n",
        "                                                                    END AS returnZipcode,\n",
        "                                                                    CASE\n",
        "                                                                        WHEN address.element.type = 'RETURN' THEN address.element.street\n",
        "                                                                        ELSE NULL\n",
        "                                                                    END AS returnStreet,\n",
        "                                                                    CASE\n",
        "                                                                        WHEN address.element.type = 'RETURN' THEN address.element.number\n",
        "                                                                        ELSE NULL\n",
        "                                                                    END AS returnNumber,\n",
        "                                                                    CASE\n",
        "                                                                        WHEN address.element.type = 'RETURN' THEN address.element.neighborhood\n",
        "                                                                        ELSE NULL\n",
        "                                                                    END AS returnNeighborhood,\n",
        "                                                                    CASE\n",
        "                                                                        WHEN address.element.type = 'RETURN' THEN address.element.city\n",
        "                                                                        ELSE NULL\n",
        "                                                                    END AS returnCity,\n",
        "                                                                    CASE\n",
        "                                                                        WHEN address.element.type = 'RETURN' THEN address.element.state\n",
        "                                                                        ELSE NULL\n",
        "                                                                    END AS returnState\n",
        "                                                FROM netshoes_marketplace.suppliers supplier,\n",
        "                                                        UNNEST(supplier.sellers.list) seller,\n",
        "                                                        UNNEST(seller.element.addresses.list) address)\n",
        "                                                GROUP BY registrationNumber,\n",
        "                                                        companyName,\n",
        "                                                        tradeName,\n",
        "                                                        sellerID,\n",
        "                                                        name,\n",
        "                                                        active,\n",
        "                                                        fastLane,\n",
        "                                                        createdDate\"\"\", 'maga-bigdata')\n",
        "\n",
        "\n",
        "base_bq['CNPJ']=base_bq['CNPJ'].astype(float)\n",
        "dados_contatos_sellers_nets_final = pd.merge(dados_contatos_sellers_nets_v2, base_bq, how='left', on='CNPJ')\n",
        "dados_contatos_sellers_nets_final['seller_id'] = dados_contatos_sellers_nets_final['seller_id'].astype(str)\n",
        "dados_contatos_sellers_nets_final['seller_id'] = dados_contatos_sellers_nets_final['seller_id'].str[:5]\n",
        "dados_contatos_sellers_nets_final['LOJISTA'] = dados_contatos_sellers_nets_final['LOJISTA'].str.normalize('NFKD').str.encode('ascii', errors='ignore').str.decode('utf-8').str.lower().str.replace(' ','')"
      ],
      "metadata": {
        "id": "O0DgXRYzUqQ8"
      },
      "execution_count": null,
      "outputs": []
    },
    {
      "cell_type": "code",
      "source": [
        "# Busca de sellers que receberam pesquisa mês passado\n",
        "\n",
        "receberam_meses_passados_nets = receberam_meses_passados.query(\"base == 'Netshoes'\")\n",
        "base_nets_v1 = dados_contatos_sellers_nets_final[~dados_contatos_sellers_nets_final['LOJISTA'].isin(receberam_meses_passados_nets['seller_id'].tolist())]\n",
        "# Concatenação base pedidos + base contatos\n",
        "base_nets_v2 = pd.merge(base_pedidos_final,base_nets_v1, how='inner', on='seller_id')\n",
        "# Salvar dados\n",
        "base_nets_v2['modalidade'] = base_nets_v2['Tipo_Envio'].map({\n",
        "    'NSE': 'Netshoes (Ativo-MLE)',\n",
        "}).fillna('Netshoes (Ativo)')\n",
        "base_nets_v3 = base_nets_v2[base_nets_v2['active'] == True][[\n",
        "    'LOJISTA_x',\n",
        "    'email',\n",
        "    'modalidade'\n",
        "]].rename(columns={\n",
        "    'LOJISTA_x': 'seller_id',\n",
        "}).drop_duplicates(subset=['email'])\n",
        "etl_funcs.exportar_para_planilha('base_pesquisa_nets', 'base', base_nets_v3, False)"
      ],
      "metadata": {
        "id": "VZZrYVIX7urn"
      },
      "execution_count": null,
      "outputs": []
    }
  ]
}