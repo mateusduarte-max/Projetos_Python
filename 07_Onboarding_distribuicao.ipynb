{
  "cells": [
    {
      "cell_type": "markdown",
      "metadata": {
        "id": "view-in-github",
        "colab_type": "text"
      },
      "source": [
        "<a href=\"https://colab.research.google.com/github/mateusduarte-max/Projetos_Python/blob/main/07_Onboarding_distribuicao.ipynb\" target=\"_parent\"><img src=\"https://colab.research.google.com/assets/colab-badge.svg\" alt=\"Open In Colab\"/></a>"
      ]
    },
    {
      "cell_type": "code",
      "execution_count": null,
      "metadata": {
        "id": "9Pwup3WUtm-q"
      },
      "outputs": [],
      "source": [
        "import pandas as pd\n",
        "import re\n",
        "from google.colab import files\n",
        "import datetime as dt\n",
        "import numpy as np\n",
        "\n",
        "\n",
        "# Bibliotecas Google Golab\n",
        "from google.colab import auth\n",
        "auth.authenticate_user()\n",
        "\n",
        "# Importar biblioteca biqquery\n",
        "from google.cloud import bigquery\n",
        "\n",
        "# Bibliotecas Google Sheet\n",
        "import gspread\n",
        "from oauth2client.client import GoogleCredentials\n",
        "from gspread_dataframe import set_with_dataframe\n",
        "\n",
        "from google.colab import drive\n",
        "drive.mount('/content/drive')\n",
        "\n",
        "# Autenticação Final\n",
        "gc = gspread.authorize(GoogleCredentials.get_application_default())"
      ]
    },
    {
      "cell_type": "code",
      "execution_count": null,
      "metadata": {
        "id": "HWjOJEYZ8bym"
      },
      "outputs": [],
      "source": [
        "# projeto\n",
        "maga_bigdata = 'maga-bigdata'\n",
        "#autenticação e select\n",
        "client = bigquery.Client(project=maga_bigdata)\n",
        "sql = \"\"\"select\n",
        "        o.seller_id                                  as Seller_Id\n",
        "       ,FORMAT_DATETIME('%d/%m/%Y', o.data_cadastro) as Cadastro\n",
        "       ,COALESCE(o.plataform,'-')                    as Plataform\n",
        "       ,COALESCE(o.partner_source,'-')               as Canal\n",
        "       ,o.qtd_servico                                as Qtd_Servicos_MGLU\n",
        "       ,COALESCE(o.inconsistencias,'-')              as Inconsistencia\n",
        "       ,FORMAT_DATETIME('%d/%m/%Y', dt_pedido_teste) as Dt_Publicacao\n",
        "from\n",
        "     maga-bigdata.indicadores_qa.onboarding as o\n",
        "      where\n",
        "        o.data_cadastro >= '2019-01-01'\n",
        "     order by o.data_cadastro desc\"\"\"\n",
        "\n",
        "# Select salvo na variavel\n",
        "labs = client.query(sql).to_dataframe().fillna(0)\n",
        "\n",
        "# Validação canal\n",
        "def val_canal(labs):\n",
        "  if (\"-\" in labs):\n",
        "    return 'Distribuição'    \n",
        "  else:\n",
        "    return 'Hunting CM e lojas físicas'\n",
        "\n",
        "labs['Val_Canal'] = labs['Canal'].apply(lambda x: val_canal(x))\n",
        "labs.head()"
      ]
    },
    {
      "cell_type": "code",
      "execution_count": null,
      "metadata": {
        "id": "TYGLnq-D8cX8"
      },
      "outputs": [],
      "source": [
        "# importe base atendimento\n",
        "base_atendimento = pd.read_csv('/content/drive/MyDrive/dados_onboarding/base_atendimento.csv').fillna('')\n",
        "base_atendimento.rename(columns= {'Ticket ID': 'ID do ticket','Subject': 'Assunto','Group name': 'Nome do grupo','Created date': 'Data de criação'},inplace=True)\n",
        "\n",
        "# importe base atendimento\n",
        "resolvido_projeto_50 = pd.read_csv('/content/drive/MyDrive/dados_onboarding/resolvidos_projeto_50.csv').fillna('')\n",
        "resolvido_projeto_50.rename(columns= {'Ticket ID': 'ID do ticket','Subject': 'Assunto','Group name': 'Nome do grupo','Created date': 'Data de criação'},inplace=True)\n",
        "\n",
        "\n",
        "\n",
        "# importe base atendimento\n",
        "#base_atendimento = pd.read_csv('/content/drive/MyDrive/dados_onboarding/base_atendimento.csv').fillna('')\n",
        "# importe base atendimento\n",
        "#resolvido_projeto_50 = pd.read_csv('/content/drive/MyDrive/dados_onboarding/resolvidos_projeto_50.csv').fillna('')\n",
        "\n",
        "# junção bases\n",
        "base_tt = pd.concat([base_atendimento, resolvido_projeto_50])\n",
        "\n",
        "# Expressão regular - pegar seller\n",
        "def nome(base_tt):\n",
        "  extracao = re.match(r\"[^[]*\\[([^]]*)\\]\", base_tt).groups()[0]\n",
        "  return extracao\n",
        "base_tt['Seller_Id'] = base_tt['Assunto'].apply(nome)\n",
        "\n",
        "base_tt.head(2)\n"
      ]
    },
    {
      "cell_type": "code",
      "execution_count": null,
      "metadata": {
        "id": "Xqe17X-DCUya"
      },
      "outputs": [],
      "source": [
        "# Base consolidada\n",
        "base_consolidada = pd.merge(base_tt, labs, how='left', on='Seller_Id')\n",
        "base_consolidada.head(2)\n"
      ]
    },
    {
      "cell_type": "code",
      "execution_count": null,
      "metadata": {
        "id": "aQmMK-4qCb2w"
      },
      "outputs": [],
      "source": [
        "#Separação bases\n",
        "base_Hunting_CM_lojas_físicas = base_consolidada.query('Val_Canal==\"Hunting CM e lojas físicas\"')\n",
        "base_distribuicao = base_consolidada.query('Val_Canal==\"Distribuição\"')"
      ]
    },
    {
      "cell_type": "code",
      "execution_count": null,
      "metadata": {
        "id": "pLrjyPlKEK7Z"
      },
      "outputs": [],
      "source": [
        "# Caixa Hunting CM e lojas fisicas\n",
        "Hunting_CM = base_Hunting_CM_lojas_físicas[['ID do ticket']]\n",
        "Hunting_CM.rename(columns={'ID do ticket': 'id'}, inplace=True)\n",
        "Hunting_CM['group_id'] = '22000165628'\n",
        "Hunting_CM['cf_especificao_implantao_de_novas_lojas'] = 'Ipdv'\n",
        "Hunting_CM['cf_market_place'] = 'Processo'\n",
        "Hunting_CM_export = Hunting_CM[['id', 'group_id', 'cf_especificao_implantao_de_novas_lojas', 'cf_market_place']]\n",
        "\n",
        "def input_drive():\n",
        "  #Abrir planilha e primeira aba\n",
        "  pagina = gc.open('Caixa Hunting CM e lojas fisicas').sheet1\n",
        "  # Limpar base\n",
        "  pagina.clear()\n",
        "  # Importar dataframe na planilha\n",
        "  return set_with_dataframe(pagina, Hunting_CM_export, include_index=False)\n",
        "input_drive()\n",
        "\n",
        "print(\"Arquivo atualizado com sucesso!\")"
      ]
    },
    {
      "cell_type": "code",
      "execution_count": null,
      "metadata": {
        "id": "XZ6YioMqG7wN"
      },
      "outputs": [],
      "source": [
        "# Validação distribuição\n",
        "\n",
        "# Função validação inconsistências\n",
        "def val_inconsistencia(base_distribuicao):\n",
        "  if (\"Pedido Teste\" in base_distribuicao):\n",
        "    return 'Catalogação'\n",
        "  if (\"Serviços Desligados\" in base_distribuicao):\n",
        "    return 'Catalogação'\n",
        "  elif (\"Etapa 4\" in base_distribuicao):\n",
        "    return 'Catalogação'\n",
        "  elif (\"Etapa 1\" in base_distribuicao):\n",
        "    return 'Catalogação'\n",
        "  elif (\"Etapa 3\" in base_distribuicao):\n",
        "    return 'Catalogação'\n",
        "  elif (\"Transportadora\" in base_distribuicao):\n",
        "    return 'Hunting-50'\n",
        "  elif (\"Produtos Inativos\" in base_distribuicao):\n",
        "    return 'Hunting-50'\n",
        "  elif (\"Sem estoque\" in base_distribuicao):\n",
        "    return 'Hunting-50'\n",
        "  elif (\"Certificado\" in base_distribuicao):\n",
        "    return 'Hunting-50'\n",
        "  elif (\"Contrato\" in base_distribuicao):\n",
        "    return 'Hunting-50'\n",
        "  elif (\"Sem produto\" in base_distribuicao):\n",
        "    return 'Hunting-50'\n",
        "  elif (\"-\" in base_distribuicao):\n",
        "    return 'Catalogação'\n",
        "  else:\n",
        "    return ''\n",
        "  \n",
        "base_distribuicao['Caixa'] = base_distribuicao['Inconsistencia'].apply(lambda x: val_inconsistencia(x))\n",
        "base_distribuicao.head(3)\n"
      ]
    },
    {
      "cell_type": "code",
      "execution_count": null,
      "metadata": {
        "id": "XBr4-P05I5-Q"
      },
      "outputs": [],
      "source": [
        "# Caixa Onboarding iPDV - Catalogação Problema\n",
        "Onboarding_catalogacao_p = base_distribuicao.set_index('Caixa').loc[['Catalogação'], ['ID do ticket', 'Seller_Id']]\n",
        "#Onboarding_catalogacao_p = base_final.query(\"Id_grupo=='22000165598'\", inplace=False)\n",
        "Onboarding_catalogacao_p.rename(columns={'ID do ticket': 'id'}, inplace=True)\n",
        "Onboarding_catalogacao_p.rename(columns={'Seller_Id': 'cf_id_helena331775'}, inplace=True)\n",
        "Onboarding_catalogacao_p['status'] = 2\n",
        "Onboarding_catalogacao_p['type'] = 'Implantação de novas lojas'\n",
        "Onboarding_catalogacao_p['group_id'] = '22000165598'\n",
        "\n",
        "Onboarding_catalogacao_p['responder_id']= \"\"                                                                      \n",
        "Onboarding_catalogacao_p['cf_market_place'] = 'Processo'\n",
        "Onboarding_catalogacao_p_export = Onboarding_catalogacao_p[['id', 'cf_id_helena331775', 'status','type','group_id', 'responder_id', 'cf_market_place']]\n",
        "Onboarding_catalogacao_p_export.tail(5)\n",
        "\n",
        "def input_drive():\n",
        "  #Abrir planilha e primeira aba\n",
        "  pagina = gc.open('Caixa Onboarding iPDV - Catalogação Problema').sheet1\n",
        "  # Limpar base\n",
        "  pagina.clear()\n",
        "  # Importar dataframe na planilha\n",
        "  return set_with_dataframe(pagina, Onboarding_catalogacao_p_export, include_index=False)\n",
        "input_drive()\n",
        "print('Tabela atualizada!')"
      ]
    },
    {
      "cell_type": "code",
      "execution_count": null,
      "metadata": {
        "id": "n4BYeFCFVnqm"
      },
      "outputs": [],
      "source": [
        "# Busca dados clusterização\n",
        "\n",
        "# projeto\n",
        "maga_bigdata = 'maga-bigdata'\n",
        "#autenticação e select\n",
        "client = bigquery.Client(project=maga_bigdata)\n",
        "sql = \"\"\"SELECT \n",
        "       c.HELLENA_SELLER_CODE as cf_id_helena331775,\n",
        "       c.CNPJ_FORMATADO as cf_cnpj506663,\n",
        "       c.TELEFONE as cf_telefone_de_contato503518,\n",
        "       c.EMAIL as cf_email_de_contato372982,\n",
        "       c.NOME as cf_nome_de_contato734518,\n",
        "       --c.GRUPO_COMERCIAL \n",
        "     FROM `maga-bigdata.indicadores_qa.ipdv_clusterizacao_novo` as c\"\"\"\n",
        "\n",
        "# Select salvo na variavel\n",
        "clusterizacao = client.query(sql).to_dataframe().fillna(0)\n",
        "\n",
        "# Caixa Projeto 50\n",
        "projeto_50 = base_distribuicao.set_index('Caixa').loc[['Hunting-50'], ['ID do ticket', 'Seller_Id', 'Nome do grupo']]\n",
        "projeto_50.rename(columns={'Nome do grupo': 'Nome_do_grupo'}, inplace=True)\n",
        "projeto_50.rename(columns={'ID do ticket': 'id'}, inplace=True)\n",
        "projeto_50.rename(columns={'Seller_Id': 'cf_id_helena331775'}, inplace=True)\n",
        "projeto_50['type'] = 'Implantação de novas lojas'\n",
        "projeto_50['cf_especificao_implantao_de_novas_lojas'] = 'Hunting (Projeto 50)'\n",
        "projeto_50['status'] = 2\n",
        "projeto_50['priority'] = 2\n",
        "projeto_50['group_id'] = '22000165265'\n",
        "projeto_50['cf_tipo'] = 'Hunting (Projeto 50)'\n",
        "\n",
        "projeto_50_2 = pd.merge(projeto_50, clusterizacao, how='left', on='cf_id_helena331775')\n",
        "projeto_50_2['cf_nome_de_contato734518'] = projeto_50_2['cf_nome_de_contato734518'].str.lower()\n",
        "projeto_50_3 = projeto_50_2.query('Nome_do_grupo!=\"Hunting (Projeto 50)\"').fillna('')\n",
        "projeto_50_3['cf_market_place'] = 'Processo'\n",
        "projeto_50_4 = projeto_50_3.query('cf_cnpj506663!=\"\"')\n",
        "\n",
        "# lista de distribuição\n",
        "lista_agentes = ['22030653763',\n",
        "                '22030653821',\n",
        "                '22030653817',\n",
        "                '22030499222',\n",
        "                '22030499164',\n",
        "                '22016805423',\n",
        "                '22030653773',\n",
        "                '22030499329',\n",
        "                '22030499283']\n",
        "\n",
        "lista_seller = list(projeto_50_4['cf_id_helena331775'])                \n",
        "n1 = (len(lista_seller)//len(lista_agentes))\n",
        "lista_original = lista_agentes * n1\n",
        "n2 = round(len(lista_seller)-len(lista_original))\n",
        "lista_complementar = (n2 * list(['22030499283']))\n",
        "projeto_50_4['responder_id'] = (lista_original + lista_complementar)\n",
        "\n",
        "def tamanho_telefone(projeto_50_4):\n",
        "    return len(projeto_50_4['cf_telefone_de_contato503518'])\n",
        "projeto_50_4['tamanho_tel'] =   projeto_50_4.apply(tamanho_telefone, axis=1)\n",
        "\n",
        "def separador_telefone(projeto_50_4):\n",
        "    if projeto_50_4['tamanho_tel'] == 10:\n",
        "        return projeto_50_4['cf_telefone_de_contato503518'][0:7]+'-'+projeto_50_4['cf_telefone_de_contato503518'][6:]\n",
        "    elif projeto_50_4['tamanho_tel'] == 11:\n",
        "        return projeto_50_4['cf_telefone_de_contato503518'][0:8]+'-'+projeto_50_4['cf_telefone_de_contato503518'][7:]\n",
        "\n",
        "projeto_50_4['cf_telefone_de_contato503518'] =   projeto_50_4.apply(separador_telefone, axis=1)\n",
        "\n",
        "projeto_50_5 = projeto_50_4[['id', \n",
        "                             'cf_id_helena331775', \n",
        "                             'type', \n",
        "                             'cf_especificao_implantao_de_novas_lojas', \n",
        "                             'status', \n",
        "                             'priority',\n",
        "                             'group_id',\n",
        "                             'cf_tipo',\n",
        "                             'cf_cnpj506663',\n",
        "                             'responder_id',\n",
        "                             'cf_telefone_de_contato503518', \n",
        "                             'cf_email_de_contato372982', \n",
        "                             'cf_nome_de_contato734518', \n",
        "                             'cf_market_place']]\n",
        "\n",
        "def input_drive():\n",
        "  #Abrir planilha e primeira aba\n",
        "  pagina = gc.open('Caixa Onboarding - Projeto 50').sheet1\n",
        "  # Limpar base\n",
        "  pagina.clear()\n",
        "  # Importar dataframe na planilha\n",
        "  return set_with_dataframe(pagina, projeto_50_5, include_index=False)\n",
        "input_drive()\n",
        "\n",
        "print(\"Arquivo atualizado com sucesso!\")\n",
        "\n"
      ]
    },
    {
      "cell_type": "code",
      "execution_count": null,
      "metadata": {
        "id": "sCM50SWpV5SX"
      },
      "outputs": [],
      "source": [
        "# Análise serviços \n",
        "base_distribuicao['Vali_serviço'] = base_distribuicao['Caixa'].str.contains('Catalogação')\n",
        "servico = base_distribuicao.query('Vali_serviço==True').fillna('')\n",
        "\n",
        "servico['Qtd_Servicos_MGLU'] = servico['Qtd_Servicos_MGLU'].astype(int)\n",
        "\n",
        "ligar_serviço = servico.query('Qtd_Servicos_MGLU<12')\n",
        "servico_labs = ligar_serviço[['Seller_Id', 'Qtd_Servicos_MGLU']]\n",
        "\n",
        "def input_drive():\n",
        "  #Abrir planilha e primeira aba\n",
        "  pagina = gc.open('Serviços_labs').sheet1\n",
        "  # Limpar base\n",
        "  pagina.clear()\n",
        "  # Importar dataframe na planilha\n",
        "  return set_with_dataframe(pagina, servico_labs, include_index=False)\n",
        "input_drive()\n",
        "\n",
        "print(\"Arquivo atualizado com sucesso!\")"
      ]
    },
    {
      "cell_type": "code",
      "source": [
        ""
      ],
      "metadata": {
        "id": "_iF2ZPfG2kDd"
      },
      "execution_count": null,
      "outputs": []
    }
  ],
  "metadata": {
    "colab": {
      "collapsed_sections": [],
      "name": "07_Onboarding-distribuicao.ipynb",
      "provenance": [],
      "include_colab_link": true
    },
    "kernelspec": {
      "display_name": "Python 3",
      "name": "python3"
    },
    "language_info": {
      "name": "python"
    }
  },
  "nbformat": 4,
  "nbformat_minor": 0
}