{
  "nbformat": 4,
  "nbformat_minor": 0,
  "metadata": {
    "colab": {
      "private_outputs": true,
      "provenance": [],
      "collapsed_sections": [],
      "mount_file_id": "1Uh4iHTfev3mD55aNMKp8ZrIHy5ktSpcQ",
      "authorship_tag": "ABX9TyPZ5yWCFOp8iBuCpkS/Y+Ze",
      "include_colab_link": true
    },
    "kernelspec": {
      "name": "python3",
      "display_name": "Python 3"
    },
    "language_info": {
      "name": "python"
    }
  },
  "cells": [
    {
      "cell_type": "markdown",
      "metadata": {
        "id": "view-in-github",
        "colab_type": "text"
      },
      "source": [
        "<a href=\"https://colab.research.google.com/github/mateusduarte-max/Projetos_Python/blob/main/26_Municipios_Brasil.ipynb\" target=\"_parent\"><img src=\"https://colab.research.google.com/assets/colab-badge.svg\" alt=\"Open In Colab\"/></a>"
      ]
    },
    {
      "cell_type": "code",
      "execution_count": null,
      "metadata": {
        "id": "uOF_2uRzPk_y"
      },
      "outputs": [],
      "source": [
        "#!pip install beautifulsoup4\n",
        "from bs4 import BeautifulSoup\n",
        "import requests\n",
        "import pandas as pd\n",
        "import re\n",
        "import time\n",
        "# Montar Drive\n",
        "from google.colab import drive\n",
        "drive.mount('/content/drive')\n",
        "\n",
        "\n",
        "import gspread\n",
        "from google.auth import default\n",
        "creds, _ = default()\n",
        "gc = gspread.authorize(creds)\n",
        "from gspread_dataframe import set_with_dataframe\n",
        "\n",
        "\n",
        "# Classe dados \n",
        "!cp /content/drive/MyDrive/Colab_Notebooks/pacotes_modulos/modulos_colab.py /content\n",
        "from modulos_colab import dados\n",
        "!cp /content/drive/MyDrive/Colab_Notebooks/Autenticacoes/chaves_tokens.py /content\n",
        "%run chaves_tokens.py"
      ]
    },
    {
      "cell_type": "code",
      "source": [
        "# Base municipios e estados\n",
        "base_municipios = dados.busca_tabela_drive('municipios_brasil', 'base')\n",
        "base_municipios['municipio'] = base_municipios['municipio'].str.normalize('NFKD').str.encode('ascii', errors='ignore').str.decode('utf-8').str.lower().str.replace(' ','_') \n",
        "base_municipios['estado'] = base_municipios['estado'].str.lower()\n",
        "municipio = base_municipios['municipio'].to_list()\n",
        "estado = base_municipios['estado'].to_list()\n"
      ],
      "metadata": {
        "id": "hyOq9HzHLmB3"
      },
      "execution_count": null,
      "outputs": []
    },
    {
      "cell_type": "code",
      "source": [
        "\n",
        "for m, e in zip(municipio, estado):\n",
        "    html = requests.get(f\"https://www.feriados.com.br/feriados-{m}-{e}.php?ano=2022\").content\n",
        "    soup = BeautifulSoup(html, 'html.parser')\n",
        "    feriados = [t.text.strip() for t in soup.find_all(\"span\", attrs={'class': 'style_lista_feriados'})]\n",
        "    df = pd.DataFrame(feriados, columns=['col'])\n",
        "    divisao = df[\"col\"].str.split(\"-\", n = 1, expand = True)\n",
        "    df[\"Data\"] = divisao[0]\n",
        "    df[\"Desricao\"] = divisao[1]\n",
        "    df['municipio'] = m\n",
        "    df['estado'] = e\n",
        "    def linhas():\n",
        "        arquivo = gc.open('base_final_municipios')\n",
        "        # abrir planilha 'aba'\n",
        "        aba = arquivo.worksheet('Página1')\n",
        "        # colocar a aba dentro de um data_frame\n",
        "        df1 = pd.DataFrame(aba.get_all_records())\n",
        "        #Visualização\n",
        "        numero = df1['col'].count()+2\n",
        "        n = int(numero)\n",
        "        return n\n",
        "     \n",
        "    def input_drive():\n",
        "        #Abrir planilha e primeira aba\n",
        "        time.sleep(3)\n",
        "        pagina = gc.open('base_final_municipios').sheet1\n",
        "        # Limpar base\n",
        "        #pagina.clear()\n",
        "        # Importar dataframe na planilha\n",
        "        return set_with_dataframe(pagina, df, row=linhas(), include_column_header=False)\n",
        "    input_drive()\n",
        "    time.sleep(3)\n",
        "    "
      ],
      "metadata": {
        "id": "dDifQmvTHNPI"
      },
      "execution_count": null,
      "outputs": []
    },
    {
      "cell_type": "code",
      "source": [],
      "metadata": {
        "id": "LwzgbnEajAoE"
      },
      "execution_count": null,
      "outputs": []
    }
  ]
}